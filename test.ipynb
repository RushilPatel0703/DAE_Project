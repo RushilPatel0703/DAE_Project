{
  "nbformat": 4,
  "nbformat_minor": 0,
  "metadata": {
    "colab": {
      "provenance": [],
      "authorship_tag": "ABX9TyOP/NrTbJIr7VGzcsT5H+wc",
      "include_colab_link": true
    },
    "kernelspec": {
      "name": "python3",
      "display_name": "Python 3"
    },
    "language_info": {
      "name": "python"
    }
  },
  "cells": [
    {
      "cell_type": "markdown",
      "metadata": {
        "id": "view-in-github",
        "colab_type": "text"
      },
      "source": [
        "<a href=\"https://colab.research.google.com/github/RushilPatel0703/DAE_Project/blob/rushil/test.ipynb\" target=\"_parent\"><img src=\"https://colab.research.google.com/assets/colab-badge.svg\" alt=\"Open In Colab\"/></a>"
      ]
    },
    {
      "cell_type": "code",
      "execution_count": 13,
      "metadata": {
        "id": "JbPT-7CETuu5"
      },
      "outputs": [],
      "source": [
        "import pandas as pd\n",
        "import numpy as np\n",
        "import matplotlib.pyplot as plt\n",
        "import seaborn as sns"
      ]
    },
    {
      "cell_type": "code",
      "source": [
        "url1 = 'https://raw.githubusercontent.com/RushilPatel0703/DAE_Project/main/eth_illicit_features.csv'\n",
        "data_1 = pd.read_csv(url1)\n",
        "\n",
        "url2 = 'https://raw.githubusercontent.com/RushilPatel0703/DAE_Project/main/transaction_dataset.csv'\n",
        "data_2 = pd.read_csv(url2)"
      ],
      "metadata": {
        "id": "9cMjigmNXdoj"
      },
      "execution_count": 2,
      "outputs": []
    },
    {
      "cell_type": "code",
      "source": [
        "data_1.head()"
      ],
      "metadata": {
        "id": "i7Yx8DZYX4wn",
        "outputId": "e95fd32b-692d-4a48-c4fe-4648137fd8f9",
        "colab": {
          "base_uri": "https://localhost:8080/",
          "height": 300
        }
      },
      "execution_count": 3,
      "outputs": [
        {
          "output_type": "execute_result",
          "data": {
            "text/plain": [
              "                                      address  flag  minTimeBetweenSentTnx  \\\n",
              "0  0xd0cc2b24980cbcca47ef755da88b220a82291407     1                    0.0   \n",
              "1  0x4cdc1cba0aeb5539f2e0ba158281e67e0e54a9b1     1                    0.0   \n",
              "2  0x00e01a648ff41346cdeb873182383333d2184dd1     1                   37.0   \n",
              "3  0x858457daa7e087ad74cdeeceab8419079bc2ca03     1                    0.0   \n",
              "4  0x240e125c20a4cc84bd6e7f8d1fd07aff4c06d43d     1                    0.0   \n",
              "\n",
              "   maxTimeBetweenSentTnx  avgTimeBetweenSentTnx  minTimeBetweenRecTnx  \\\n",
              "0              2387389.0           5.807655e+04                  89.0   \n",
              "1                    0.0           0.000000e+00             3021091.0   \n",
              "2             25112882.0           1.710279e+06                   0.0   \n",
              "3               642460.0           1.576106e+04                   0.0   \n",
              "4                    0.0           0.000000e+00                3894.0   \n",
              "\n",
              "   maxTimeBetweenRecTnx  avgTimeBetweenRecTnx  lifetime  sentTransactions  \\\n",
              "0          1.501076e+09          7.148260e+07        46                66   \n",
              "1          1.502802e+09          7.529115e+08        35                 0   \n",
              "2          1.500397e+09          6.820612e+07       299                15   \n",
              "3          1.500037e+09          1.352571e+07        36               109   \n",
              "4          1.500402e+09          3.751409e+08        82                 1   \n",
              "\n",
              "   ...  totalEtherBalance  activityDays  dailyMax  ratioRecSent  \\\n",
              "0  ...           0.291940            10        60      0.313433   \n",
              "1  ...           0.013541             2         1      2.000000   \n",
              "2  ...           0.266494            14        16      1.375000   \n",
              "3  ...           0.007419            36        67      1.009091   \n",
              "4  ...           0.002199             3         3      2.000000   \n",
              "\n",
              "   ratioSentTotal  ratioRecTotal  giniSent   giniRec    txFreq  stdBalanceEth  \n",
              "0        0.750000       0.238636  0.969121  0.888782  1.891304     147.701484  \n",
              "1        0.000000       0.666667  0.000000  0.238480  0.057143       0.005000  \n",
              "2        0.394737       0.578947  0.465450  0.614205  0.123746      52.129575  \n",
              "3        0.493213       0.502262  0.957906  0.794121  6.111111     233.689231  \n",
              "4        0.166667       0.666667  0.000000  0.406556  0.060976       0.757788  \n",
              "\n",
              "[5 rows x 34 columns]"
            ],
            "text/html": [
              "\n",
              "  <div id=\"df-f15aba43-baa5-43b3-bd87-3eb1c9a2a76c\">\n",
              "    <div class=\"colab-df-container\">\n",
              "      <div>\n",
              "<style scoped>\n",
              "    .dataframe tbody tr th:only-of-type {\n",
              "        vertical-align: middle;\n",
              "    }\n",
              "\n",
              "    .dataframe tbody tr th {\n",
              "        vertical-align: top;\n",
              "    }\n",
              "\n",
              "    .dataframe thead th {\n",
              "        text-align: right;\n",
              "    }\n",
              "</style>\n",
              "<table border=\"1\" class=\"dataframe\">\n",
              "  <thead>\n",
              "    <tr style=\"text-align: right;\">\n",
              "      <th></th>\n",
              "      <th>address</th>\n",
              "      <th>flag</th>\n",
              "      <th>minTimeBetweenSentTnx</th>\n",
              "      <th>maxTimeBetweenSentTnx</th>\n",
              "      <th>avgTimeBetweenSentTnx</th>\n",
              "      <th>minTimeBetweenRecTnx</th>\n",
              "      <th>maxTimeBetweenRecTnx</th>\n",
              "      <th>avgTimeBetweenRecTnx</th>\n",
              "      <th>lifetime</th>\n",
              "      <th>sentTransactions</th>\n",
              "      <th>...</th>\n",
              "      <th>totalEtherBalance</th>\n",
              "      <th>activityDays</th>\n",
              "      <th>dailyMax</th>\n",
              "      <th>ratioRecSent</th>\n",
              "      <th>ratioSentTotal</th>\n",
              "      <th>ratioRecTotal</th>\n",
              "      <th>giniSent</th>\n",
              "      <th>giniRec</th>\n",
              "      <th>txFreq</th>\n",
              "      <th>stdBalanceEth</th>\n",
              "    </tr>\n",
              "  </thead>\n",
              "  <tbody>\n",
              "    <tr>\n",
              "      <th>0</th>\n",
              "      <td>0xd0cc2b24980cbcca47ef755da88b220a82291407</td>\n",
              "      <td>1</td>\n",
              "      <td>0.0</td>\n",
              "      <td>2387389.0</td>\n",
              "      <td>5.807655e+04</td>\n",
              "      <td>89.0</td>\n",
              "      <td>1.501076e+09</td>\n",
              "      <td>7.148260e+07</td>\n",
              "      <td>46</td>\n",
              "      <td>66</td>\n",
              "      <td>...</td>\n",
              "      <td>0.291940</td>\n",
              "      <td>10</td>\n",
              "      <td>60</td>\n",
              "      <td>0.313433</td>\n",
              "      <td>0.750000</td>\n",
              "      <td>0.238636</td>\n",
              "      <td>0.969121</td>\n",
              "      <td>0.888782</td>\n",
              "      <td>1.891304</td>\n",
              "      <td>147.701484</td>\n",
              "    </tr>\n",
              "    <tr>\n",
              "      <th>1</th>\n",
              "      <td>0x4cdc1cba0aeb5539f2e0ba158281e67e0e54a9b1</td>\n",
              "      <td>1</td>\n",
              "      <td>0.0</td>\n",
              "      <td>0.0</td>\n",
              "      <td>0.000000e+00</td>\n",
              "      <td>3021091.0</td>\n",
              "      <td>1.502802e+09</td>\n",
              "      <td>7.529115e+08</td>\n",
              "      <td>35</td>\n",
              "      <td>0</td>\n",
              "      <td>...</td>\n",
              "      <td>0.013541</td>\n",
              "      <td>2</td>\n",
              "      <td>1</td>\n",
              "      <td>2.000000</td>\n",
              "      <td>0.000000</td>\n",
              "      <td>0.666667</td>\n",
              "      <td>0.000000</td>\n",
              "      <td>0.238480</td>\n",
              "      <td>0.057143</td>\n",
              "      <td>0.005000</td>\n",
              "    </tr>\n",
              "    <tr>\n",
              "      <th>2</th>\n",
              "      <td>0x00e01a648ff41346cdeb873182383333d2184dd1</td>\n",
              "      <td>1</td>\n",
              "      <td>37.0</td>\n",
              "      <td>25112882.0</td>\n",
              "      <td>1.710279e+06</td>\n",
              "      <td>0.0</td>\n",
              "      <td>1.500397e+09</td>\n",
              "      <td>6.820612e+07</td>\n",
              "      <td>299</td>\n",
              "      <td>15</td>\n",
              "      <td>...</td>\n",
              "      <td>0.266494</td>\n",
              "      <td>14</td>\n",
              "      <td>16</td>\n",
              "      <td>1.375000</td>\n",
              "      <td>0.394737</td>\n",
              "      <td>0.578947</td>\n",
              "      <td>0.465450</td>\n",
              "      <td>0.614205</td>\n",
              "      <td>0.123746</td>\n",
              "      <td>52.129575</td>\n",
              "    </tr>\n",
              "    <tr>\n",
              "      <th>3</th>\n",
              "      <td>0x858457daa7e087ad74cdeeceab8419079bc2ca03</td>\n",
              "      <td>1</td>\n",
              "      <td>0.0</td>\n",
              "      <td>642460.0</td>\n",
              "      <td>1.576106e+04</td>\n",
              "      <td>0.0</td>\n",
              "      <td>1.500037e+09</td>\n",
              "      <td>1.352571e+07</td>\n",
              "      <td>36</td>\n",
              "      <td>109</td>\n",
              "      <td>...</td>\n",
              "      <td>0.007419</td>\n",
              "      <td>36</td>\n",
              "      <td>67</td>\n",
              "      <td>1.009091</td>\n",
              "      <td>0.493213</td>\n",
              "      <td>0.502262</td>\n",
              "      <td>0.957906</td>\n",
              "      <td>0.794121</td>\n",
              "      <td>6.111111</td>\n",
              "      <td>233.689231</td>\n",
              "    </tr>\n",
              "    <tr>\n",
              "      <th>4</th>\n",
              "      <td>0x240e125c20a4cc84bd6e7f8d1fd07aff4c06d43d</td>\n",
              "      <td>1</td>\n",
              "      <td>0.0</td>\n",
              "      <td>0.0</td>\n",
              "      <td>0.000000e+00</td>\n",
              "      <td>3894.0</td>\n",
              "      <td>1.500402e+09</td>\n",
              "      <td>3.751409e+08</td>\n",
              "      <td>82</td>\n",
              "      <td>1</td>\n",
              "      <td>...</td>\n",
              "      <td>0.002199</td>\n",
              "      <td>3</td>\n",
              "      <td>3</td>\n",
              "      <td>2.000000</td>\n",
              "      <td>0.166667</td>\n",
              "      <td>0.666667</td>\n",
              "      <td>0.000000</td>\n",
              "      <td>0.406556</td>\n",
              "      <td>0.060976</td>\n",
              "      <td>0.757788</td>\n",
              "    </tr>\n",
              "  </tbody>\n",
              "</table>\n",
              "<p>5 rows × 34 columns</p>\n",
              "</div>\n",
              "      <button class=\"colab-df-convert\" onclick=\"convertToInteractive('df-f15aba43-baa5-43b3-bd87-3eb1c9a2a76c')\"\n",
              "              title=\"Convert this dataframe to an interactive table.\"\n",
              "              style=\"display:none;\">\n",
              "        \n",
              "  <svg xmlns=\"http://www.w3.org/2000/svg\" height=\"24px\"viewBox=\"0 0 24 24\"\n",
              "       width=\"24px\">\n",
              "    <path d=\"M0 0h24v24H0V0z\" fill=\"none\"/>\n",
              "    <path d=\"M18.56 5.44l.94 2.06.94-2.06 2.06-.94-2.06-.94-.94-2.06-.94 2.06-2.06.94zm-11 1L8.5 8.5l.94-2.06 2.06-.94-2.06-.94L8.5 2.5l-.94 2.06-2.06.94zm10 10l.94 2.06.94-2.06 2.06-.94-2.06-.94-.94-2.06-.94 2.06-2.06.94z\"/><path d=\"M17.41 7.96l-1.37-1.37c-.4-.4-.92-.59-1.43-.59-.52 0-1.04.2-1.43.59L10.3 9.45l-7.72 7.72c-.78.78-.78 2.05 0 2.83L4 21.41c.39.39.9.59 1.41.59.51 0 1.02-.2 1.41-.59l7.78-7.78 2.81-2.81c.8-.78.8-2.07 0-2.86zM5.41 20L4 18.59l7.72-7.72 1.47 1.35L5.41 20z\"/>\n",
              "  </svg>\n",
              "      </button>\n",
              "      \n",
              "  <style>\n",
              "    .colab-df-container {\n",
              "      display:flex;\n",
              "      flex-wrap:wrap;\n",
              "      gap: 12px;\n",
              "    }\n",
              "\n",
              "    .colab-df-convert {\n",
              "      background-color: #E8F0FE;\n",
              "      border: none;\n",
              "      border-radius: 50%;\n",
              "      cursor: pointer;\n",
              "      display: none;\n",
              "      fill: #1967D2;\n",
              "      height: 32px;\n",
              "      padding: 0 0 0 0;\n",
              "      width: 32px;\n",
              "    }\n",
              "\n",
              "    .colab-df-convert:hover {\n",
              "      background-color: #E2EBFA;\n",
              "      box-shadow: 0px 1px 2px rgba(60, 64, 67, 0.3), 0px 1px 3px 1px rgba(60, 64, 67, 0.15);\n",
              "      fill: #174EA6;\n",
              "    }\n",
              "\n",
              "    [theme=dark] .colab-df-convert {\n",
              "      background-color: #3B4455;\n",
              "      fill: #D2E3FC;\n",
              "    }\n",
              "\n",
              "    [theme=dark] .colab-df-convert:hover {\n",
              "      background-color: #434B5C;\n",
              "      box-shadow: 0px 1px 3px 1px rgba(0, 0, 0, 0.15);\n",
              "      filter: drop-shadow(0px 1px 2px rgba(0, 0, 0, 0.3));\n",
              "      fill: #FFFFFF;\n",
              "    }\n",
              "  </style>\n",
              "\n",
              "      <script>\n",
              "        const buttonEl =\n",
              "          document.querySelector('#df-f15aba43-baa5-43b3-bd87-3eb1c9a2a76c button.colab-df-convert');\n",
              "        buttonEl.style.display =\n",
              "          google.colab.kernel.accessAllowed ? 'block' : 'none';\n",
              "\n",
              "        async function convertToInteractive(key) {\n",
              "          const element = document.querySelector('#df-f15aba43-baa5-43b3-bd87-3eb1c9a2a76c');\n",
              "          const dataTable =\n",
              "            await google.colab.kernel.invokeFunction('convertToInteractive',\n",
              "                                                     [key], {});\n",
              "          if (!dataTable) return;\n",
              "\n",
              "          const docLinkHtml = 'Like what you see? Visit the ' +\n",
              "            '<a target=\"_blank\" href=https://colab.research.google.com/notebooks/data_table.ipynb>data table notebook</a>'\n",
              "            + ' to learn more about interactive tables.';\n",
              "          element.innerHTML = '';\n",
              "          dataTable['output_type'] = 'display_data';\n",
              "          await google.colab.output.renderOutput(dataTable, element);\n",
              "          const docLink = document.createElement('div');\n",
              "          docLink.innerHTML = docLinkHtml;\n",
              "          element.appendChild(docLink);\n",
              "        }\n",
              "      </script>\n",
              "    </div>\n",
              "  </div>\n",
              "  "
            ]
          },
          "metadata": {},
          "execution_count": 3
        }
      ]
    },
    {
      "cell_type": "code",
      "source": [
        "data_2.head()"
      ],
      "metadata": {
        "id": "latMx2dJX9HN",
        "outputId": "4b85292f-6582-4de0-d757-262654982f32",
        "colab": {
          "base_uri": "https://localhost:8080/",
          "height": 349
        }
      },
      "execution_count": 4,
      "outputs": [
        {
          "output_type": "execute_result",
          "data": {
            "text/plain": [
              "   Unnamed: 0  Index                                     Address  FLAG  \\\n",
              "0           0      1  0x00009277775ac7d0d59eaad8fee3d10ac6c805e8     0   \n",
              "1           1      2  0x0002b44ddb1476db43c868bd494422ee4c136fed     0   \n",
              "2           2      3  0x0002bda54cb772d040f779e88eb453cac0daa244     0   \n",
              "3           3      4  0x00038e6ba2fd5c09aedb96697c8d7b8fa6632e5e     0   \n",
              "4           4      5  0x00062d1dd1afb6fb02540ddad9cdebfe568e0d89     0   \n",
              "\n",
              "   Avg min between sent tnx  Avg min between received tnx  \\\n",
              "0                    844.26                       1093.71   \n",
              "1                  12709.07                       2958.44   \n",
              "2                 246194.54                       2434.02   \n",
              "3                  10219.60                      15785.09   \n",
              "4                     36.61                      10707.77   \n",
              "\n",
              "   Time Diff between first and last (Mins)  Sent tnx  Received Tnx  \\\n",
              "0                                704785.63       721            89   \n",
              "1                               1218216.73        94             8   \n",
              "2                                516729.30         2            10   \n",
              "3                                397555.90        25             9   \n",
              "4                                382472.42      4598            20   \n",
              "\n",
              "   Number of Created Contracts  ...   ERC20 min val sent   ERC20 max val sent  \\\n",
              "0                            0  ...             0.000000         1.683100e+07   \n",
              "1                            0  ...             2.260809         2.260809e+00   \n",
              "2                            0  ...             0.000000         0.000000e+00   \n",
              "3                            0  ...           100.000000         9.029231e+03   \n",
              "4                            1  ...             0.000000         4.500000e+04   \n",
              "\n",
              "    ERC20 avg val sent   ERC20 min val sent contract  \\\n",
              "0        271779.920000                           0.0   \n",
              "1             2.260809                           0.0   \n",
              "2             0.000000                           0.0   \n",
              "3          3804.076893                           0.0   \n",
              "4         13726.659220                           0.0   \n",
              "\n",
              "    ERC20 max val sent contract   ERC20 avg val sent contract  \\\n",
              "0                           0.0                           0.0   \n",
              "1                           0.0                           0.0   \n",
              "2                           0.0                           0.0   \n",
              "3                           0.0                           0.0   \n",
              "4                           0.0                           0.0   \n",
              "\n",
              "    ERC20 uniq sent token name   ERC20 uniq rec token name  \\\n",
              "0                         39.0                        57.0   \n",
              "1                          1.0                         7.0   \n",
              "2                          0.0                         8.0   \n",
              "3                          1.0                        11.0   \n",
              "4                          6.0                        27.0   \n",
              "\n",
              "    ERC20 most sent token type   ERC20_most_rec_token_type  \n",
              "0                    Cofoundit                   Numeraire  \n",
              "1               Livepeer Token              Livepeer Token  \n",
              "2                         None                       XENON  \n",
              "3                       Raiden                       XENON  \n",
              "4                StatusNetwork                         EOS  \n",
              "\n",
              "[5 rows x 51 columns]"
            ],
            "text/html": [
              "\n",
              "  <div id=\"df-6565454e-7f7c-4715-9996-d8dbccb42a0e\">\n",
              "    <div class=\"colab-df-container\">\n",
              "      <div>\n",
              "<style scoped>\n",
              "    .dataframe tbody tr th:only-of-type {\n",
              "        vertical-align: middle;\n",
              "    }\n",
              "\n",
              "    .dataframe tbody tr th {\n",
              "        vertical-align: top;\n",
              "    }\n",
              "\n",
              "    .dataframe thead th {\n",
              "        text-align: right;\n",
              "    }\n",
              "</style>\n",
              "<table border=\"1\" class=\"dataframe\">\n",
              "  <thead>\n",
              "    <tr style=\"text-align: right;\">\n",
              "      <th></th>\n",
              "      <th>Unnamed: 0</th>\n",
              "      <th>Index</th>\n",
              "      <th>Address</th>\n",
              "      <th>FLAG</th>\n",
              "      <th>Avg min between sent tnx</th>\n",
              "      <th>Avg min between received tnx</th>\n",
              "      <th>Time Diff between first and last (Mins)</th>\n",
              "      <th>Sent tnx</th>\n",
              "      <th>Received Tnx</th>\n",
              "      <th>Number of Created Contracts</th>\n",
              "      <th>...</th>\n",
              "      <th>ERC20 min val sent</th>\n",
              "      <th>ERC20 max val sent</th>\n",
              "      <th>ERC20 avg val sent</th>\n",
              "      <th>ERC20 min val sent contract</th>\n",
              "      <th>ERC20 max val sent contract</th>\n",
              "      <th>ERC20 avg val sent contract</th>\n",
              "      <th>ERC20 uniq sent token name</th>\n",
              "      <th>ERC20 uniq rec token name</th>\n",
              "      <th>ERC20 most sent token type</th>\n",
              "      <th>ERC20_most_rec_token_type</th>\n",
              "    </tr>\n",
              "  </thead>\n",
              "  <tbody>\n",
              "    <tr>\n",
              "      <th>0</th>\n",
              "      <td>0</td>\n",
              "      <td>1</td>\n",
              "      <td>0x00009277775ac7d0d59eaad8fee3d10ac6c805e8</td>\n",
              "      <td>0</td>\n",
              "      <td>844.26</td>\n",
              "      <td>1093.71</td>\n",
              "      <td>704785.63</td>\n",
              "      <td>721</td>\n",
              "      <td>89</td>\n",
              "      <td>0</td>\n",
              "      <td>...</td>\n",
              "      <td>0.000000</td>\n",
              "      <td>1.683100e+07</td>\n",
              "      <td>271779.920000</td>\n",
              "      <td>0.0</td>\n",
              "      <td>0.0</td>\n",
              "      <td>0.0</td>\n",
              "      <td>39.0</td>\n",
              "      <td>57.0</td>\n",
              "      <td>Cofoundit</td>\n",
              "      <td>Numeraire</td>\n",
              "    </tr>\n",
              "    <tr>\n",
              "      <th>1</th>\n",
              "      <td>1</td>\n",
              "      <td>2</td>\n",
              "      <td>0x0002b44ddb1476db43c868bd494422ee4c136fed</td>\n",
              "      <td>0</td>\n",
              "      <td>12709.07</td>\n",
              "      <td>2958.44</td>\n",
              "      <td>1218216.73</td>\n",
              "      <td>94</td>\n",
              "      <td>8</td>\n",
              "      <td>0</td>\n",
              "      <td>...</td>\n",
              "      <td>2.260809</td>\n",
              "      <td>2.260809e+00</td>\n",
              "      <td>2.260809</td>\n",
              "      <td>0.0</td>\n",
              "      <td>0.0</td>\n",
              "      <td>0.0</td>\n",
              "      <td>1.0</td>\n",
              "      <td>7.0</td>\n",
              "      <td>Livepeer Token</td>\n",
              "      <td>Livepeer Token</td>\n",
              "    </tr>\n",
              "    <tr>\n",
              "      <th>2</th>\n",
              "      <td>2</td>\n",
              "      <td>3</td>\n",
              "      <td>0x0002bda54cb772d040f779e88eb453cac0daa244</td>\n",
              "      <td>0</td>\n",
              "      <td>246194.54</td>\n",
              "      <td>2434.02</td>\n",
              "      <td>516729.30</td>\n",
              "      <td>2</td>\n",
              "      <td>10</td>\n",
              "      <td>0</td>\n",
              "      <td>...</td>\n",
              "      <td>0.000000</td>\n",
              "      <td>0.000000e+00</td>\n",
              "      <td>0.000000</td>\n",
              "      <td>0.0</td>\n",
              "      <td>0.0</td>\n",
              "      <td>0.0</td>\n",
              "      <td>0.0</td>\n",
              "      <td>8.0</td>\n",
              "      <td>None</td>\n",
              "      <td>XENON</td>\n",
              "    </tr>\n",
              "    <tr>\n",
              "      <th>3</th>\n",
              "      <td>3</td>\n",
              "      <td>4</td>\n",
              "      <td>0x00038e6ba2fd5c09aedb96697c8d7b8fa6632e5e</td>\n",
              "      <td>0</td>\n",
              "      <td>10219.60</td>\n",
              "      <td>15785.09</td>\n",
              "      <td>397555.90</td>\n",
              "      <td>25</td>\n",
              "      <td>9</td>\n",
              "      <td>0</td>\n",
              "      <td>...</td>\n",
              "      <td>100.000000</td>\n",
              "      <td>9.029231e+03</td>\n",
              "      <td>3804.076893</td>\n",
              "      <td>0.0</td>\n",
              "      <td>0.0</td>\n",
              "      <td>0.0</td>\n",
              "      <td>1.0</td>\n",
              "      <td>11.0</td>\n",
              "      <td>Raiden</td>\n",
              "      <td>XENON</td>\n",
              "    </tr>\n",
              "    <tr>\n",
              "      <th>4</th>\n",
              "      <td>4</td>\n",
              "      <td>5</td>\n",
              "      <td>0x00062d1dd1afb6fb02540ddad9cdebfe568e0d89</td>\n",
              "      <td>0</td>\n",
              "      <td>36.61</td>\n",
              "      <td>10707.77</td>\n",
              "      <td>382472.42</td>\n",
              "      <td>4598</td>\n",
              "      <td>20</td>\n",
              "      <td>1</td>\n",
              "      <td>...</td>\n",
              "      <td>0.000000</td>\n",
              "      <td>4.500000e+04</td>\n",
              "      <td>13726.659220</td>\n",
              "      <td>0.0</td>\n",
              "      <td>0.0</td>\n",
              "      <td>0.0</td>\n",
              "      <td>6.0</td>\n",
              "      <td>27.0</td>\n",
              "      <td>StatusNetwork</td>\n",
              "      <td>EOS</td>\n",
              "    </tr>\n",
              "  </tbody>\n",
              "</table>\n",
              "<p>5 rows × 51 columns</p>\n",
              "</div>\n",
              "      <button class=\"colab-df-convert\" onclick=\"convertToInteractive('df-6565454e-7f7c-4715-9996-d8dbccb42a0e')\"\n",
              "              title=\"Convert this dataframe to an interactive table.\"\n",
              "              style=\"display:none;\">\n",
              "        \n",
              "  <svg xmlns=\"http://www.w3.org/2000/svg\" height=\"24px\"viewBox=\"0 0 24 24\"\n",
              "       width=\"24px\">\n",
              "    <path d=\"M0 0h24v24H0V0z\" fill=\"none\"/>\n",
              "    <path d=\"M18.56 5.44l.94 2.06.94-2.06 2.06-.94-2.06-.94-.94-2.06-.94 2.06-2.06.94zm-11 1L8.5 8.5l.94-2.06 2.06-.94-2.06-.94L8.5 2.5l-.94 2.06-2.06.94zm10 10l.94 2.06.94-2.06 2.06-.94-2.06-.94-.94-2.06-.94 2.06-2.06.94z\"/><path d=\"M17.41 7.96l-1.37-1.37c-.4-.4-.92-.59-1.43-.59-.52 0-1.04.2-1.43.59L10.3 9.45l-7.72 7.72c-.78.78-.78 2.05 0 2.83L4 21.41c.39.39.9.59 1.41.59.51 0 1.02-.2 1.41-.59l7.78-7.78 2.81-2.81c.8-.78.8-2.07 0-2.86zM5.41 20L4 18.59l7.72-7.72 1.47 1.35L5.41 20z\"/>\n",
              "  </svg>\n",
              "      </button>\n",
              "      \n",
              "  <style>\n",
              "    .colab-df-container {\n",
              "      display:flex;\n",
              "      flex-wrap:wrap;\n",
              "      gap: 12px;\n",
              "    }\n",
              "\n",
              "    .colab-df-convert {\n",
              "      background-color: #E8F0FE;\n",
              "      border: none;\n",
              "      border-radius: 50%;\n",
              "      cursor: pointer;\n",
              "      display: none;\n",
              "      fill: #1967D2;\n",
              "      height: 32px;\n",
              "      padding: 0 0 0 0;\n",
              "      width: 32px;\n",
              "    }\n",
              "\n",
              "    .colab-df-convert:hover {\n",
              "      background-color: #E2EBFA;\n",
              "      box-shadow: 0px 1px 2px rgba(60, 64, 67, 0.3), 0px 1px 3px 1px rgba(60, 64, 67, 0.15);\n",
              "      fill: #174EA6;\n",
              "    }\n",
              "\n",
              "    [theme=dark] .colab-df-convert {\n",
              "      background-color: #3B4455;\n",
              "      fill: #D2E3FC;\n",
              "    }\n",
              "\n",
              "    [theme=dark] .colab-df-convert:hover {\n",
              "      background-color: #434B5C;\n",
              "      box-shadow: 0px 1px 3px 1px rgba(0, 0, 0, 0.15);\n",
              "      filter: drop-shadow(0px 1px 2px rgba(0, 0, 0, 0.3));\n",
              "      fill: #FFFFFF;\n",
              "    }\n",
              "  </style>\n",
              "\n",
              "      <script>\n",
              "        const buttonEl =\n",
              "          document.querySelector('#df-6565454e-7f7c-4715-9996-d8dbccb42a0e button.colab-df-convert');\n",
              "        buttonEl.style.display =\n",
              "          google.colab.kernel.accessAllowed ? 'block' : 'none';\n",
              "\n",
              "        async function convertToInteractive(key) {\n",
              "          const element = document.querySelector('#df-6565454e-7f7c-4715-9996-d8dbccb42a0e');\n",
              "          const dataTable =\n",
              "            await google.colab.kernel.invokeFunction('convertToInteractive',\n",
              "                                                     [key], {});\n",
              "          if (!dataTable) return;\n",
              "\n",
              "          const docLinkHtml = 'Like what you see? Visit the ' +\n",
              "            '<a target=\"_blank\" href=https://colab.research.google.com/notebooks/data_table.ipynb>data table notebook</a>'\n",
              "            + ' to learn more about interactive tables.';\n",
              "          element.innerHTML = '';\n",
              "          dataTable['output_type'] = 'display_data';\n",
              "          await google.colab.output.renderOutput(dataTable, element);\n",
              "          const docLink = document.createElement('div');\n",
              "          docLink.innerHTML = docLinkHtml;\n",
              "          element.appendChild(docLink);\n",
              "        }\n",
              "      </script>\n",
              "    </div>\n",
              "  </div>\n",
              "  "
            ]
          },
          "metadata": {},
          "execution_count": 4
        }
      ]
    },
    {
      "cell_type": "code",
      "source": [],
      "metadata": {
        "id": "DmssH0BgNLXz"
      },
      "execution_count": null,
      "outputs": []
    },
    {
      "cell_type": "code",
      "source": [
        "col_mapping1 = [f\"{c[0]}:{c[1]}\" for c in enumerate(data_1.columns)]\n",
        "col_mapping1"
      ],
      "metadata": {
        "id": "7k535e3OM-Yi",
        "outputId": "2545d054-f856-4ea1-830d-94d7de05c93f",
        "colab": {
          "base_uri": "https://localhost:8080/"
        }
      },
      "execution_count": 7,
      "outputs": [
        {
          "output_type": "execute_result",
          "data": {
            "text/plain": [
              "['0:address',\n",
              " '1:flag',\n",
              " '2:minTimeBetweenSentTnx',\n",
              " '3:maxTimeBetweenSentTnx',\n",
              " '4:avgTimeBetweenSentTnx',\n",
              " '5:minTimeBetweenRecTnx',\n",
              " '6:maxTimeBetweenRecTnx',\n",
              " '7:avgTimeBetweenRecTnx',\n",
              " '8:lifetime',\n",
              " '9:sentTransactions',\n",
              " '10:receivedTransactions',\n",
              " '11:createdContracts',\n",
              " '12:numUniqSentAddress',\n",
              " '13:numUniqRecAddress',\n",
              " '14:minValSent',\n",
              " '15:maxValSent',\n",
              " '16:avgValSent',\n",
              " '17:minValReceived',\n",
              " '18:maxValReceived',\n",
              " '19:avgValReceived',\n",
              " '20:totalTransactions',\n",
              " '21:totalEtherSent',\n",
              " '22:totalEtherReceived',\n",
              " '23:totalEtherSentContracts',\n",
              " '24:totalEtherBalance',\n",
              " '25:activityDays',\n",
              " '26:dailyMax',\n",
              " '27:ratioRecSent',\n",
              " '28:ratioSentTotal',\n",
              " '29:ratioRecTotal',\n",
              " '30:giniSent',\n",
              " '31:giniRec',\n",
              " '32:txFreq',\n",
              " '33:stdBalanceEth']"
            ]
          },
          "metadata": {},
          "execution_count": 7
        }
      ]
    },
    {
      "cell_type": "code",
      "source": [
        "col_mapping2 = [f\"{c[0]}:{c[1]}\" for c in enumerate(data_2.columns)]\n",
        "col_mapping2"
      ],
      "metadata": {
        "id": "DkoHLSv1MrlT",
        "outputId": "d74e8fa1-b431-4a8d-d0e8-471bd638cffa",
        "colab": {
          "base_uri": "https://localhost:8080/"
        }
      },
      "execution_count": 8,
      "outputs": [
        {
          "output_type": "execute_result",
          "data": {
            "text/plain": [
              "['0:Unnamed: 0',\n",
              " '1:Index',\n",
              " '2:Address',\n",
              " '3:FLAG',\n",
              " '4:Avg min between sent tnx',\n",
              " '5:Avg min between received tnx',\n",
              " '6:Time Diff between first and last (Mins)',\n",
              " '7:Sent tnx',\n",
              " '8:Received Tnx',\n",
              " '9:Number of Created Contracts',\n",
              " '10:Unique Received From Addresses',\n",
              " '11:Unique Sent To Addresses',\n",
              " '12:min value received',\n",
              " '13:max value received ',\n",
              " '14:avg val received',\n",
              " '15:min val sent',\n",
              " '16:max val sent',\n",
              " '17:avg val sent',\n",
              " '18:min value sent to contract',\n",
              " '19:max val sent to contract',\n",
              " '20:avg value sent to contract',\n",
              " '21:total transactions (including tnx to create contract',\n",
              " '22:total Ether sent',\n",
              " '23:total ether received',\n",
              " '24:total ether sent contracts',\n",
              " '25:total ether balance',\n",
              " '26: Total ERC20 tnxs',\n",
              " '27: ERC20 total Ether received',\n",
              " '28: ERC20 total ether sent',\n",
              " '29: ERC20 total Ether sent contract',\n",
              " '30: ERC20 uniq sent addr',\n",
              " '31: ERC20 uniq rec addr',\n",
              " '32: ERC20 uniq sent addr.1',\n",
              " '33: ERC20 uniq rec contract addr',\n",
              " '34: ERC20 avg time between sent tnx',\n",
              " '35: ERC20 avg time between rec tnx',\n",
              " '36: ERC20 avg time between rec 2 tnx',\n",
              " '37: ERC20 avg time between contract tnx',\n",
              " '38: ERC20 min val rec',\n",
              " '39: ERC20 max val rec',\n",
              " '40: ERC20 avg val rec',\n",
              " '41: ERC20 min val sent',\n",
              " '42: ERC20 max val sent',\n",
              " '43: ERC20 avg val sent',\n",
              " '44: ERC20 min val sent contract',\n",
              " '45: ERC20 max val sent contract',\n",
              " '46: ERC20 avg val sent contract',\n",
              " '47: ERC20 uniq sent token name',\n",
              " '48: ERC20 uniq rec token name',\n",
              " '49: ERC20 most sent token type',\n",
              " '50: ERC20_most_rec_token_type']"
            ]
          },
          "metadata": {},
          "execution_count": 8
        }
      ]
    },
    {
      "cell_type": "code",
      "source": [
        "corr = data_1.corr()"
      ],
      "metadata": {
        "id": "R4lAedn5Mrjf"
      },
      "execution_count": 9,
      "outputs": []
    },
    {
      "cell_type": "code",
      "source": [
        "f, ax = plt.subplots(figsize=(11, 9))\n",
        "sns.heatmap(corr, square=True)"
      ],
      "metadata": {
        "id": "2olSiw9kMrhQ",
        "outputId": "1750548a-8dc1-4919-b88f-99a4d0de73cf",
        "colab": {
          "base_uri": "https://localhost:8080/",
          "height": 680
        }
      },
      "execution_count": 16,
      "outputs": [
        {
          "output_type": "execute_result",
          "data": {
            "text/plain": [
              "<matplotlib.axes._subplots.AxesSubplot at 0x7fcfa8c6ef50>"
            ]
          },
          "metadata": {},
          "execution_count": 16
        },
        {
          "output_type": "display_data",
          "data": {
            "text/plain": [
              "<Figure size 792x648 with 2 Axes>"
            ],
            "image/png": "[encoded data removed]"
          },
          "metadata": {
            "needs_background": "light"
          }
        }
      ]
    },
    {
      "cell_type": "code",
      "source": [],
      "metadata": {
        "id": "GfvxdPv0Mreo"
      },
      "execution_count": null,
      "outputs": []
    },
    {
      "cell_type": "code",
      "source": [],
      "metadata": {
        "id": "ghfbbf8SMrbv"
      },
      "execution_count": null,
      "outputs": []
    },
    {
      "cell_type": "code",
      "source": [],
      "metadata": {
        "id": "kYVv0htwMrZO"
      },
      "execution_count": null,
      "outputs": []
    },
    {
      "cell_type": "code",
      "source": [],
      "metadata": {
        "id": "XVbtx1lNMrWX"
      },
      "execution_count": null,
      "outputs": []
    },
    {
      "cell_type": "code",
      "source": [],
      "metadata": {
        "id": "f9xR3QsgMrRr"
      },
      "execution_count": null,
      "outputs": []
    },
    {
      "cell_type": "code",
      "source": [],
      "metadata": {
        "id": "bgMlqtxvMrPT"
      },
      "execution_count": null,
      "outputs": []
    },
    {
      "cell_type": "code",
      "source": [],
      "metadata": {
        "id": "DHk0-NvIMrNA"
      },
      "execution_count": null,
      "outputs": []
    },
    {
      "cell_type": "code",
      "source": [],
      "metadata": {
        "id": "u46RHzM_MrKf"
      },
      "execution_count": null,
      "outputs": []
    },
    {
      "cell_type": "code",
      "source": [],
      "metadata": {
        "id": "Gm-f-P_3MrH7"
      },
      "execution_count": null,
      "outputs": []
    },
    {
      "cell_type": "code",
      "source": [],
      "metadata": {
        "id": "mX7lV5X3MrF7"
      },
      "execution_count": null,
      "outputs": []
    },
    {
      "cell_type": "code",
      "source": [],
      "metadata": {
        "id": "H-mOgf7QMrDo"
      },
      "execution_count": null,
      "outputs": []
    },
    {
      "cell_type": "code",
      "source": [],
      "metadata": {
        "id": "YKB-CmPHMrBH"
      },
      "execution_count": null,
      "outputs": []
    },
    {
      "cell_type": "code",
      "source": [],
      "metadata": {
        "id": "l4LKuu8SMq-1"
      },
      "execution_count": null,
      "outputs": []
    },
    {
      "cell_type": "code",
      "source": [],
      "metadata": {
        "id": "GnV56h2lMq8Z"
      },
      "execution_count": null,
      "outputs": []
    },
    {
      "cell_type": "code",
      "source": [],
      "metadata": {
        "id": "GgOFMMG5Mq6B"
      },
      "execution_count": null,
      "outputs": []
    },
    {
      "cell_type": "code",
      "source": [],
      "metadata": {
        "id": "-WbWebRSMq3N"
      },
      "execution_count": null,
      "outputs": []
    },
    {
      "cell_type": "code",
      "source": [],
      "metadata": {
        "id": "qiibm10oMq1P"
      },
      "execution_count": null,
      "outputs": []
    },
    {
      "cell_type": "code",
      "source": [],
      "metadata": {
        "id": "7Zg_ne9mMqzE"
      },
      "execution_count": null,
      "outputs": []
    },
    {
      "cell_type": "code",
      "source": [],
      "metadata": {
        "id": "7LQ4JBoBMqwz"
      },
      "execution_count": null,
      "outputs": []
    },
    {
      "cell_type": "code",
      "source": [],
      "metadata": {
        "id": "jMy7YhVwMqug"
      },
      "execution_count": null,
      "outputs": []
    },
    {
      "cell_type": "code",
      "source": [],
      "metadata": {
        "id": "RjhKmWgzMqr9"
      },
      "execution_count": null,
      "outputs": []
    },
    {
      "cell_type": "code",
      "source": [],
      "metadata": {
        "id": "jDVRsBzLMqpe"
      },
      "execution_count": null,
      "outputs": []
    },
    {
      "cell_type": "code",
      "source": [],
      "metadata": {
        "id": "MRq_shiiMqm8"
      },
      "execution_count": null,
      "outputs": []
    },
    {
      "cell_type": "code",
      "source": [],
      "metadata": {
        "id": "zPcOcHxWMqix"
      },
      "execution_count": null,
      "outputs": []
    }
  ]
}