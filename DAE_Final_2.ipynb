{
  "cells": [
    {
      "cell_type": "markdown",
      "metadata": {
        "id": "view-in-github",
        "colab_type": "text"
      },
      "source": [
        "<a href=\"https://colab.research.google.com/github/RushilPatel0703/DAE_Project/blob/main/DAE_Final_2.ipynb\" target=\"_parent\"><img src=\"https://colab.research.google.com/assets/colab-badge.svg\" alt=\"Open In Colab\"/></a>"
      ]
    },
    {
      "cell_type": "markdown",
      "metadata": {
        "id": "Bt07K4d4716t"
      },
      "source": [
        "# Ethereum Fraud Detection"
      ]
    },
    {
      "cell_type": "markdown",
      "metadata": {
        "id": "rpsuSE1O716w"
      },
      "source": [
        "Sections:\n",
        "\n",
        "- Housekeeping and Imports\n",
        "- Data Loading\n",
        "- Data Exploration\n",
        "- Data Cleaning\n",
        "- Feature Engineering\n",
        "- Data Transformation and Preparation\n",
        "- Model Exploration and Performance Analysis\n",
        "- Final Model Building\n",
        " "
      ]
    },
    {
      "cell_type": "markdown",
      "metadata": {
        "id": "ZIEXznEy716w"
      },
      "source": [
        "## Housekeeping and Imports"
      ]
    },
    {
      "cell_type": "markdown",
      "metadata": {
        "id": "tepOVOvL716x"
      },
      "source": [
        "For importing libraries necessary for the project, and for basic preprocessing functions. \n",
        "\n",
        "We're going to import commonly used Data Science libraries"
      ]
    },
    {
      "cell_type": "code",
      "execution_count": 21,
      "metadata": {
        "id": "IL806t6W716x"
      },
      "outputs": [],
      "source": [
        "## IMPORT REQUIRED PYTHON LIBRARIES\n",
        "import pandas as pd\n",
        "import numpy as np\n",
        "import matplotlib.pyplot as plt\n",
        "import seaborn as sns\n",
        "from sklearn.model_selection import train_test_split\n",
        "from sklearn.linear_model import LogisticRegression\n",
        "from sklearn.metrics import classification_report, confusion_matrix\n",
        "from sklearn.preprocessing import StandardScaler\n",
        "from imblearn.over_sampling import SMOTE, SMOTENC\n",
        "from sklearn.neighbors import KNeighborsClassifier\n",
        "from sklearn.naive_bayes import GaussianNB\n",
        "from sklearn.svm import SVC\n",
        "from sklearn.pipeline import make_pipeline\n",
        "from sklearn import tree\n",
        "import xgboost as xgb\n",
        "from sklearn.ensemble import RandomForestClassifier\n",
        "from sklearn.metrics import accuracy_score,confusion_matrix,classification_report,roc_auc_score, roc_curve\n",
        "from scipy import stats\n"
      ]
    },
    {
      "cell_type": "markdown",
      "metadata": {
        "id": "-sCHOZ8d716y"
      },
      "source": [
        "## Data Loading"
      ]
    },
    {
      "cell_type": "markdown",
      "metadata": {
        "id": "mirHWLq4716z"
      },
      "source": [
        "For loading data files into appropriate variables."
      ]
    },
    {
      "cell_type": "code",
      "execution_count": 2,
      "metadata": {
        "id": "MjHoos6U7160"
      },
      "outputs": [],
      "source": [
        "## DOWNLOAD DATA AND READ IT WITH PANDAS\n",
        "url1 = 'https://raw.githubusercontent.com/RushilPatel0703/DAE_Project/main/eth_illicit_features.csv'\n",
        "data_1 = pd.read_csv(url1)\n",
        "\n",
        "url2 = 'https://raw.githubusercontent.com/RushilPatel0703/DAE_Project/main/transaction_dataset.csv'\n",
        "data_2 = pd.read_csv(url2)\n",
        "pd.reset_option('max_rows')"
      ]
    },
    {
      "cell_type": "markdown",
      "metadata": {
        "id": "Rie42UVn7160"
      },
      "source": [
        "## Data Exploration"
      ]
    },
    {
      "cell_type": "markdown",
      "metadata": {
        "id": "l4mU_2Ms7160"
      },
      "source": [
        "Section for **exploratory analysis** on the available data. \n",
        "\n",
        "The exploration techniques vary for numerical, categorical, or time-series variables. Currently, \n",
        "\n",
        "Here we typically:\n",
        "\n",
        "- look at example records in the dataset\n",
        "- Merging datasets, keeping features that are present in both datasets\n",
        "- investigate the datatypes of variables in the dataset\n",
        "- calculate and investigate descriptive statistics (ex: central tendencies, variability etc.)\n",
        "- investigate distribution of feature vectors (ex: to check for skewness and outliers)\n",
        "- investigate distribution of prediction vector\n",
        "- check out the relationship (ex: correlation) between different features\n",
        "- check out the relationship between feature vectors and prediction vector\n",
        "\n",
        "Common steps to check the health of the data:\n",
        "\n",
        "- Check for missing data\n",
        "- Check the skewness of the data, outlier detection\n",
        "- etc..."
      ]
    },
    {
      "cell_type": "markdown",
      "metadata": {
        "id": "LWMZ4NnV7160"
      },
      "source": [
        "### Look at Example Records"
      ]
    },
    {
      "cell_type": "code",
      "execution_count": 3,
      "metadata": {
        "colab": {
          "base_uri": "https://localhost:8080/",
          "height": 300
        },
        "id": "o3NwqN7T7161",
        "outputId": "18dbf8ab-5983-4d86-ebef-7bfec4a58412"
      },
      "outputs": [
        {
          "output_type": "execute_result",
          "data": {
            "text/plain": [
              "                                      address  flag  minTimeBetweenSentTnx  \\\n",
              "0  0xd0cc2b24980cbcca47ef755da88b220a82291407     1                    0.0   \n",
              "1  0x4cdc1cba0aeb5539f2e0ba158281e67e0e54a9b1     1                    0.0   \n",
              "2  0x00e01a648ff41346cdeb873182383333d2184dd1     1                   37.0   \n",
              "3  0x858457daa7e087ad74cdeeceab8419079bc2ca03     1                    0.0   \n",
              "4  0x240e125c20a4cc84bd6e7f8d1fd07aff4c06d43d     1                    0.0   \n",
              "\n",
              "   maxTimeBetweenSentTnx  avgTimeBetweenSentTnx  minTimeBetweenRecTnx  \\\n",
              "0              2387389.0           5.807655e+04                  89.0   \n",
              "1                    0.0           0.000000e+00             3021091.0   \n",
              "2             25112882.0           1.710279e+06                   0.0   \n",
              "3               642460.0           1.576106e+04                   0.0   \n",
              "4                    0.0           0.000000e+00                3894.0   \n",
              "\n",
              "   maxTimeBetweenRecTnx  avgTimeBetweenRecTnx  lifetime  sentTransactions  \\\n",
              "0          1.501076e+09          7.148260e+07        46                66   \n",
              "1          1.502802e+09          7.529115e+08        35                 0   \n",
              "2          1.500397e+09          6.820612e+07       299                15   \n",
              "3          1.500037e+09          1.352571e+07        36               109   \n",
              "4          1.500402e+09          3.751409e+08        82                 1   \n",
              "\n",
              "   ...  totalEtherBalance  activityDays  dailyMax  ratioRecSent  \\\n",
              "0  ...           0.291940            10        60      0.313433   \n",
              "1  ...           0.013541             2         1      2.000000   \n",
              "2  ...           0.266494            14        16      1.375000   \n",
              "3  ...           0.007419            36        67      1.009091   \n",
              "4  ...           0.002199             3         3      2.000000   \n",
              "\n",
              "   ratioSentTotal  ratioRecTotal  giniSent   giniRec    txFreq  stdBalanceEth  \n",
              "0        0.750000       0.238636  0.969121  0.888782  1.891304     147.701484  \n",
              "1        0.000000       0.666667  0.000000  0.238480  0.057143       0.005000  \n",
              "2        0.394737       0.578947  0.465450  0.614205  0.123746      52.129575  \n",
              "3        0.493213       0.502262  0.957906  0.794121  6.111111     233.689231  \n",
              "4        0.166667       0.666667  0.000000  0.406556  0.060976       0.757788  \n",
              "\n",
              "[5 rows x 34 columns]"
            ],
            "text/html": [
              "\n",
              "  <div id=\"df-f2364b55-f9da-454d-aaaa-36e9cf840d81\">\n",
              "    <div class=\"colab-df-container\">\n",
              "      <div>\n",
              "<style scoped>\n",
              "    .dataframe tbody tr th:only-of-type {\n",
              "        vertical-align: middle;\n",
              "    }\n",
              "\n",
              "    .dataframe tbody tr th {\n",
              "        vertical-align: top;\n",
              "    }\n",
              "\n",
              "    .dataframe thead th {\n",
              "        text-align: right;\n",
              "    }\n",
              "</style>\n",
              "<table border=\"1\" class=\"dataframe\">\n",
              "  <thead>\n",
              "    <tr style=\"text-align: right;\">\n",
              "      <th></th>\n",
              "      <th>address</th>\n",
              "      <th>flag</th>\n",
              "      <th>minTimeBetweenSentTnx</th>\n",
              "      <th>maxTimeBetweenSentTnx</th>\n",
              "      <th>avgTimeBetweenSentTnx</th>\n",
              "      <th>minTimeBetweenRecTnx</th>\n",
              "      <th>maxTimeBetweenRecTnx</th>\n",
              "      <th>avgTimeBetweenRecTnx</th>\n",
              "      <th>lifetime</th>\n",
              "      <th>sentTransactions</th>\n",
              "      <th>...</th>\n",
              "      <th>totalEtherBalance</th>\n",
              "      <th>activityDays</th>\n",
              "      <th>dailyMax</th>\n",
              "      <th>ratioRecSent</th>\n",
              "      <th>ratioSentTotal</th>\n",
              "      <th>ratioRecTotal</th>\n",
              "      <th>giniSent</th>\n",
              "      <th>giniRec</th>\n",
              "      <th>txFreq</th>\n",
              "      <th>stdBalanceEth</th>\n",
              "    </tr>\n",
              "  </thead>\n",
              "  <tbody>\n",
              "    <tr>\n",
              "      <th>0</th>\n",
              "      <td>0xd0cc2b24980cbcca47ef755da88b220a82291407</td>\n",
              "      <td>1</td>\n",
              "      <td>0.0</td>\n",
              "      <td>2387389.0</td>\n",
              "      <td>5.807655e+04</td>\n",
              "      <td>89.0</td>\n",
              "      <td>1.501076e+09</td>\n",
              "      <td>7.148260e+07</td>\n",
              "      <td>46</td>\n",
              "      <td>66</td>\n",
              "      <td>...</td>\n",
              "      <td>0.291940</td>\n",
              "      <td>10</td>\n",
              "      <td>60</td>\n",
              "      <td>0.313433</td>\n",
              "      <td>0.750000</td>\n",
              "      <td>0.238636</td>\n",
              "      <td>0.969121</td>\n",
              "      <td>0.888782</td>\n",
              "      <td>1.891304</td>\n",
              "      <td>147.701484</td>\n",
              "    </tr>\n",
              "    <tr>\n",
              "      <th>1</th>\n",
              "      <td>0x4cdc1cba0aeb5539f2e0ba158281e67e0e54a9b1</td>\n",
              "      <td>1</td>\n",
              "      <td>0.0</td>\n",
              "      <td>0.0</td>\n",
              "      <td>0.000000e+00</td>\n",
              "      <td>3021091.0</td>\n",
              "      <td>1.502802e+09</td>\n",
              "      <td>7.529115e+08</td>\n",
              "      <td>35</td>\n",
              "      <td>0</td>\n",
              "      <td>...</td>\n",
              "      <td>0.013541</td>\n",
              "      <td>2</td>\n",
              "      <td>1</td>\n",
              "      <td>2.000000</td>\n",
              "      <td>0.000000</td>\n",
              "      <td>0.666667</td>\n",
              "      <td>0.000000</td>\n",
              "      <td>0.238480</td>\n",
              "      <td>0.057143</td>\n",
              "      <td>0.005000</td>\n",
              "    </tr>\n",
              "    <tr>\n",
              "      <th>2</th>\n",
              "      <td>0x00e01a648ff41346cdeb873182383333d2184dd1</td>\n",
              "      <td>1</td>\n",
              "      <td>37.0</td>\n",
              "      <td>25112882.0</td>\n",
              "      <td>1.710279e+06</td>\n",
              "      <td>0.0</td>\n",
              "      <td>1.500397e+09</td>\n",
              "      <td>6.820612e+07</td>\n",
              "      <td>299</td>\n",
              "      <td>15</td>\n",
              "      <td>...</td>\n",
              "      <td>0.266494</td>\n",
              "      <td>14</td>\n",
              "      <td>16</td>\n",
              "      <td>1.375000</td>\n",
              "      <td>0.394737</td>\n",
              "      <td>0.578947</td>\n",
              "      <td>0.465450</td>\n",
              "      <td>0.614205</td>\n",
              "      <td>0.123746</td>\n",
              "      <td>52.129575</td>\n",
              "    </tr>\n",
              "    <tr>\n",
              "      <th>3</th>\n",
              "      <td>0x858457daa7e087ad74cdeeceab8419079bc2ca03</td>\n",
              "      <td>1</td>\n",
              "      <td>0.0</td>\n",
              "      <td>642460.0</td>\n",
              "      <td>1.576106e+04</td>\n",
              "      <td>0.0</td>\n",
              "      <td>1.500037e+09</td>\n",
              "      <td>1.352571e+07</td>\n",
              "      <td>36</td>\n",
              "      <td>109</td>\n",
              "      <td>...</td>\n",
              "      <td>0.007419</td>\n",
              "      <td>36</td>\n",
              "      <td>67</td>\n",
              "      <td>1.009091</td>\n",
              "      <td>0.493213</td>\n",
              "      <td>0.502262</td>\n",
              "      <td>0.957906</td>\n",
              "      <td>0.794121</td>\n",
              "      <td>6.111111</td>\n",
              "      <td>233.689231</td>\n",
              "    </tr>\n",
              "    <tr>\n",
              "      <th>4</th>\n",
              "      <td>0x240e125c20a4cc84bd6e7f8d1fd07aff4c06d43d</td>\n",
              "      <td>1</td>\n",
              "      <td>0.0</td>\n",
              "      <td>0.0</td>\n",
              "      <td>0.000000e+00</td>\n",
              "      <td>3894.0</td>\n",
              "      <td>1.500402e+09</td>\n",
              "      <td>3.751409e+08</td>\n",
              "      <td>82</td>\n",
              "      <td>1</td>\n",
              "      <td>...</td>\n",
              "      <td>0.002199</td>\n",
              "      <td>3</td>\n",
              "      <td>3</td>\n",
              "      <td>2.000000</td>\n",
              "      <td>0.166667</td>\n",
              "      <td>0.666667</td>\n",
              "      <td>0.000000</td>\n",
              "      <td>0.406556</td>\n",
              "      <td>0.060976</td>\n",
              "      <td>0.757788</td>\n",
              "    </tr>\n",
              "  </tbody>\n",
              "</table>\n",
              "<p>5 rows × 34 columns</p>\n",
              "</div>\n",
              "      <button class=\"colab-df-convert\" onclick=\"convertToInteractive('df-f2364b55-f9da-454d-aaaa-36e9cf840d81')\"\n",
              "              title=\"Convert this dataframe to an interactive table.\"\n",
              "              style=\"display:none;\">\n",
              "        \n",
              "  <svg xmlns=\"http://www.w3.org/2000/svg\" height=\"24px\"viewBox=\"0 0 24 24\"\n",
              "       width=\"24px\">\n",
              "    <path d=\"M0 0h24v24H0V0z\" fill=\"none\"/>\n",
              "    <path d=\"M18.56 5.44l.94 2.06.94-2.06 2.06-.94-2.06-.94-.94-2.06-.94 2.06-2.06.94zm-11 1L8.5 8.5l.94-2.06 2.06-.94-2.06-.94L8.5 2.5l-.94 2.06-2.06.94zm10 10l.94 2.06.94-2.06 2.06-.94-2.06-.94-.94-2.06-.94 2.06-2.06.94z\"/><path d=\"M17.41 7.96l-1.37-1.37c-.4-.4-.92-.59-1.43-.59-.52 0-1.04.2-1.43.59L10.3 9.45l-7.72 7.72c-.78.78-.78 2.05 0 2.83L4 21.41c.39.39.9.59 1.41.59.51 0 1.02-.2 1.41-.59l7.78-7.78 2.81-2.81c.8-.78.8-2.07 0-2.86zM5.41 20L4 18.59l7.72-7.72 1.47 1.35L5.41 20z\"/>\n",
              "  </svg>\n",
              "      </button>\n",
              "      \n",
              "  <style>\n",
              "    .colab-df-container {\n",
              "      display:flex;\n",
              "      flex-wrap:wrap;\n",
              "      gap: 12px;\n",
              "    }\n",
              "\n",
              "    .colab-df-convert {\n",
              "      background-color: #E8F0FE;\n",
              "      border: none;\n",
              "      border-radius: 50%;\n",
              "      cursor: pointer;\n",
              "      display: none;\n",
              "      fill: #1967D2;\n",
              "      height: 32px;\n",
              "      padding: 0 0 0 0;\n",
              "      width: 32px;\n",
              "    }\n",
              "\n",
              "    .colab-df-convert:hover {\n",
              "      background-color: #E2EBFA;\n",
              "      box-shadow: 0px 1px 2px rgba(60, 64, 67, 0.3), 0px 1px 3px 1px rgba(60, 64, 67, 0.15);\n",
              "      fill: #174EA6;\n",
              "    }\n",
              "\n",
              "    [theme=dark] .colab-df-convert {\n",
              "      background-color: #3B4455;\n",
              "      fill: #D2E3FC;\n",
              "    }\n",
              "\n",
              "    [theme=dark] .colab-df-convert:hover {\n",
              "      background-color: #434B5C;\n",
              "      box-shadow: 0px 1px 3px 1px rgba(0, 0, 0, 0.15);\n",
              "      filter: drop-shadow(0px 1px 2px rgba(0, 0, 0, 0.3));\n",
              "      fill: #FFFFFF;\n",
              "    }\n",
              "  </style>\n",
              "\n",
              "      <script>\n",
              "        const buttonEl =\n",
              "          document.querySelector('#df-f2364b55-f9da-454d-aaaa-36e9cf840d81 button.colab-df-convert');\n",
              "        buttonEl.style.display =\n",
              "          google.colab.kernel.accessAllowed ? 'block' : 'none';\n",
              "\n",
              "        async function convertToInteractive(key) {\n",
              "          const element = document.querySelector('#df-f2364b55-f9da-454d-aaaa-36e9cf840d81');\n",
              "          const dataTable =\n",
              "            await google.colab.kernel.invokeFunction('convertToInteractive',\n",
              "                                                     [key], {});\n",
              "          if (!dataTable) return;\n",
              "\n",
              "          const docLinkHtml = 'Like what you see? Visit the ' +\n",
              "            '<a target=\"_blank\" href=https://colab.research.google.com/notebooks/data_table.ipynb>data table notebook</a>'\n",
              "            + ' to learn more about interactive tables.';\n",
              "          element.innerHTML = '';\n",
              "          dataTable['output_type'] = 'display_data';\n",
              "          await google.colab.output.renderOutput(dataTable, element);\n",
              "          const docLink = document.createElement('div');\n",
              "          docLink.innerHTML = docLinkHtml;\n",
              "          element.appendChild(docLink);\n",
              "        }\n",
              "      </script>\n",
              "    </div>\n",
              "  </div>\n",
              "  "
            ]
          },
          "metadata": {},
          "execution_count": 3
        }
      ],
      "source": [
        "data_1.head()"
      ]
    },
    {
      "cell_type": "code",
      "execution_count": 4,
      "metadata": {
        "colab": {
          "base_uri": "https://localhost:8080/",
          "height": 386
        },
        "id": "MPhYcJDfRSNy",
        "outputId": "77aa86ab-38bf-4b43-c8e9-16b49e6e1f62"
      },
      "outputs": [
        {
          "output_type": "execute_result",
          "data": {
            "text/plain": [
              "   Unnamed: 0  Index                                     Address  FLAG  \\\n",
              "0           0      1  0x00009277775ac7d0d59eaad8fee3d10ac6c805e8     0   \n",
              "1           1      2  0x0002b44ddb1476db43c868bd494422ee4c136fed     0   \n",
              "2           2      3  0x0002bda54cb772d040f779e88eb453cac0daa244     0   \n",
              "3           3      4  0x00038e6ba2fd5c09aedb96697c8d7b8fa6632e5e     0   \n",
              "4           4      5  0x00062d1dd1afb6fb02540ddad9cdebfe568e0d89     0   \n",
              "\n",
              "   Avg min between sent tnx  Avg min between received tnx  \\\n",
              "0                    844.26                       1093.71   \n",
              "1                  12709.07                       2958.44   \n",
              "2                 246194.54                       2434.02   \n",
              "3                  10219.60                      15785.09   \n",
              "4                     36.61                      10707.77   \n",
              "\n",
              "   Time Diff between first and last (Mins)  Sent tnx  Received Tnx  \\\n",
              "0                                704785.63       721            89   \n",
              "1                               1218216.73        94             8   \n",
              "2                                516729.30         2            10   \n",
              "3                                397555.90        25             9   \n",
              "4                                382472.42      4598            20   \n",
              "\n",
              "   Number of Created Contracts  ...   ERC20 min val sent   ERC20 max val sent  \\\n",
              "0                            0  ...             0.000000         1.683100e+07   \n",
              "1                            0  ...             2.260809         2.260809e+00   \n",
              "2                            0  ...             0.000000         0.000000e+00   \n",
              "3                            0  ...           100.000000         9.029231e+03   \n",
              "4                            1  ...             0.000000         4.500000e+04   \n",
              "\n",
              "    ERC20 avg val sent   ERC20 min val sent contract  \\\n",
              "0        271779.920000                           0.0   \n",
              "1             2.260809                           0.0   \n",
              "2             0.000000                           0.0   \n",
              "3          3804.076893                           0.0   \n",
              "4         13726.659220                           0.0   \n",
              "\n",
              "    ERC20 max val sent contract   ERC20 avg val sent contract  \\\n",
              "0                           0.0                           0.0   \n",
              "1                           0.0                           0.0   \n",
              "2                           0.0                           0.0   \n",
              "3                           0.0                           0.0   \n",
              "4                           0.0                           0.0   \n",
              "\n",
              "    ERC20 uniq sent token name   ERC20 uniq rec token name  \\\n",
              "0                         39.0                        57.0   \n",
              "1                          1.0                         7.0   \n",
              "2                          0.0                         8.0   \n",
              "3                          1.0                        11.0   \n",
              "4                          6.0                        27.0   \n",
              "\n",
              "    ERC20 most sent token type   ERC20_most_rec_token_type  \n",
              "0                    Cofoundit                   Numeraire  \n",
              "1               Livepeer Token              Livepeer Token  \n",
              "2                         None                       XENON  \n",
              "3                       Raiden                       XENON  \n",
              "4                StatusNetwork                         EOS  \n",
              "\n",
              "[5 rows x 51 columns]"
            ],
            "text/html": [
              "\n",
              "  <div id=\"df-65a57507-2e58-44f4-9584-93bbc1f0b0b3\">\n",
              "    <div class=\"colab-df-container\">\n",
              "      <div>\n",
              "<style scoped>\n",
              "    .dataframe tbody tr th:only-of-type {\n",
              "        vertical-align: middle;\n",
              "    }\n",
              "\n",
              "    .dataframe tbody tr th {\n",
              "        vertical-align: top;\n",
              "    }\n",
              "\n",
              "    .dataframe thead th {\n",
              "        text-align: right;\n",
              "    }\n",
              "</style>\n",
              "<table border=\"1\" class=\"dataframe\">\n",
              "  <thead>\n",
              "    <tr style=\"text-align: right;\">\n",
              "      <th></th>\n",
              "      <th>Unnamed: 0</th>\n",
              "      <th>Index</th>\n",
              "      <th>Address</th>\n",
              "      <th>FLAG</th>\n",
              "      <th>Avg min between sent tnx</th>\n",
              "      <th>Avg min between received tnx</th>\n",
              "      <th>Time Diff between first and last (Mins)</th>\n",
              "      <th>Sent tnx</th>\n",
              "      <th>Received Tnx</th>\n",
              "      <th>Number of Created Contracts</th>\n",
              "      <th>...</th>\n",
              "      <th>ERC20 min val sent</th>\n",
              "      <th>ERC20 max val sent</th>\n",
              "      <th>ERC20 avg val sent</th>\n",
              "      <th>ERC20 min val sent contract</th>\n",
              "      <th>ERC20 max val sent contract</th>\n",
              "      <th>ERC20 avg val sent contract</th>\n",
              "      <th>ERC20 uniq sent token name</th>\n",
              "      <th>ERC20 uniq rec token name</th>\n",
              "      <th>ERC20 most sent token type</th>\n",
              "      <th>ERC20_most_rec_token_type</th>\n",
              "    </tr>\n",
              "  </thead>\n",
              "  <tbody>\n",
              "    <tr>\n",
              "      <th>0</th>\n",
              "      <td>0</td>\n",
              "      <td>1</td>\n",
              "      <td>0x00009277775ac7d0d59eaad8fee3d10ac6c805e8</td>\n",
              "      <td>0</td>\n",
              "      <td>844.26</td>\n",
              "      <td>1093.71</td>\n",
              "      <td>704785.63</td>\n",
              "      <td>721</td>\n",
              "      <td>89</td>\n",
              "      <td>0</td>\n",
              "      <td>...</td>\n",
              "      <td>0.000000</td>\n",
              "      <td>1.683100e+07</td>\n",
              "      <td>271779.920000</td>\n",
              "      <td>0.0</td>\n",
              "      <td>0.0</td>\n",
              "      <td>0.0</td>\n",
              "      <td>39.0</td>\n",
              "      <td>57.0</td>\n",
              "      <td>Cofoundit</td>\n",
              "      <td>Numeraire</td>\n",
              "    </tr>\n",
              "    <tr>\n",
              "      <th>1</th>\n",
              "      <td>1</td>\n",
              "      <td>2</td>\n",
              "      <td>0x0002b44ddb1476db43c868bd494422ee4c136fed</td>\n",
              "      <td>0</td>\n",
              "      <td>12709.07</td>\n",
              "      <td>2958.44</td>\n",
              "      <td>1218216.73</td>\n",
              "      <td>94</td>\n",
              "      <td>8</td>\n",
              "      <td>0</td>\n",
              "      <td>...</td>\n",
              "      <td>2.260809</td>\n",
              "      <td>2.260809e+00</td>\n",
              "      <td>2.260809</td>\n",
              "      <td>0.0</td>\n",
              "      <td>0.0</td>\n",
              "      <td>0.0</td>\n",
              "      <td>1.0</td>\n",
              "      <td>7.0</td>\n",
              "      <td>Livepeer Token</td>\n",
              "      <td>Livepeer Token</td>\n",
              "    </tr>\n",
              "    <tr>\n",
              "      <th>2</th>\n",
              "      <td>2</td>\n",
              "      <td>3</td>\n",
              "      <td>0x0002bda54cb772d040f779e88eb453cac0daa244</td>\n",
              "      <td>0</td>\n",
              "      <td>246194.54</td>\n",
              "      <td>2434.02</td>\n",
              "      <td>516729.30</td>\n",
              "      <td>2</td>\n",
              "      <td>10</td>\n",
              "      <td>0</td>\n",
              "      <td>...</td>\n",
              "      <td>0.000000</td>\n",
              "      <td>0.000000e+00</td>\n",
              "      <td>0.000000</td>\n",
              "      <td>0.0</td>\n",
              "      <td>0.0</td>\n",
              "      <td>0.0</td>\n",
              "      <td>0.0</td>\n",
              "      <td>8.0</td>\n",
              "      <td>None</td>\n",
              "      <td>XENON</td>\n",
              "    </tr>\n",
              "    <tr>\n",
              "      <th>3</th>\n",
              "      <td>3</td>\n",
              "      <td>4</td>\n",
              "      <td>0x00038e6ba2fd5c09aedb96697c8d7b8fa6632e5e</td>\n",
              "      <td>0</td>\n",
              "      <td>10219.60</td>\n",
              "      <td>15785.09</td>\n",
              "      <td>397555.90</td>\n",
              "      <td>25</td>\n",
              "      <td>9</td>\n",
              "      <td>0</td>\n",
              "      <td>...</td>\n",
              "      <td>100.000000</td>\n",
              "      <td>9.029231e+03</td>\n",
              "      <td>3804.076893</td>\n",
              "      <td>0.0</td>\n",
              "      <td>0.0</td>\n",
              "      <td>0.0</td>\n",
              "      <td>1.0</td>\n",
              "      <td>11.0</td>\n",
              "      <td>Raiden</td>\n",
              "      <td>XENON</td>\n",
              "    </tr>\n",
              "    <tr>\n",
              "      <th>4</th>\n",
              "      <td>4</td>\n",
              "      <td>5</td>\n",
              "      <td>0x00062d1dd1afb6fb02540ddad9cdebfe568e0d89</td>\n",
              "      <td>0</td>\n",
              "      <td>36.61</td>\n",
              "      <td>10707.77</td>\n",
              "      <td>382472.42</td>\n",
              "      <td>4598</td>\n",
              "      <td>20</td>\n",
              "      <td>1</td>\n",
              "      <td>...</td>\n",
              "      <td>0.000000</td>\n",
              "      <td>4.500000e+04</td>\n",
              "      <td>13726.659220</td>\n",
              "      <td>0.0</td>\n",
              "      <td>0.0</td>\n",
              "      <td>0.0</td>\n",
              "      <td>6.0</td>\n",
              "      <td>27.0</td>\n",
              "      <td>StatusNetwork</td>\n",
              "      <td>EOS</td>\n",
              "    </tr>\n",
              "  </tbody>\n",
              "</table>\n",
              "<p>5 rows × 51 columns</p>\n",
              "</div>\n",
              "      <button class=\"colab-df-convert\" onclick=\"convertToInteractive('df-65a57507-2e58-44f4-9584-93bbc1f0b0b3')\"\n",
              "              title=\"Convert this dataframe to an interactive table.\"\n",
              "              style=\"display:none;\">\n",
              "        \n",
              "  <svg xmlns=\"http://www.w3.org/2000/svg\" height=\"24px\"viewBox=\"0 0 24 24\"\n",
              "       width=\"24px\">\n",
              "    <path d=\"M0 0h24v24H0V0z\" fill=\"none\"/>\n",
              "    <path d=\"M18.56 5.44l.94 2.06.94-2.06 2.06-.94-2.06-.94-.94-2.06-.94 2.06-2.06.94zm-11 1L8.5 8.5l.94-2.06 2.06-.94-2.06-.94L8.5 2.5l-.94 2.06-2.06.94zm10 10l.94 2.06.94-2.06 2.06-.94-2.06-.94-.94-2.06-.94 2.06-2.06.94z\"/><path d=\"M17.41 7.96l-1.37-1.37c-.4-.4-.92-.59-1.43-.59-.52 0-1.04.2-1.43.59L10.3 9.45l-7.72 7.72c-.78.78-.78 2.05 0 2.83L4 21.41c.39.39.9.59 1.41.59.51 0 1.02-.2 1.41-.59l7.78-7.78 2.81-2.81c.8-.78.8-2.07 0-2.86zM5.41 20L4 18.59l7.72-7.72 1.47 1.35L5.41 20z\"/>\n",
              "  </svg>\n",
              "      </button>\n",
              "      \n",
              "  <style>\n",
              "    .colab-df-container {\n",
              "      display:flex;\n",
              "      flex-wrap:wrap;\n",
              "      gap: 12px;\n",
              "    }\n",
              "\n",
              "    .colab-df-convert {\n",
              "      background-color: #E8F0FE;\n",
              "      border: none;\n",
              "      border-radius: 50%;\n",
              "      cursor: pointer;\n",
              "      display: none;\n",
              "      fill: #1967D2;\n",
              "      height: 32px;\n",
              "      padding: 0 0 0 0;\n",
              "      width: 32px;\n",
              "    }\n",
              "\n",
              "    .colab-df-convert:hover {\n",
              "      background-color: #E2EBFA;\n",
              "      box-shadow: 0px 1px 2px rgba(60, 64, 67, 0.3), 0px 1px 3px 1px rgba(60, 64, 67, 0.15);\n",
              "      fill: #174EA6;\n",
              "    }\n",
              "\n",
              "    [theme=dark] .colab-df-convert {\n",
              "      background-color: #3B4455;\n",
              "      fill: #D2E3FC;\n",
              "    }\n",
              "\n",
              "    [theme=dark] .colab-df-convert:hover {\n",
              "      background-color: #434B5C;\n",
              "      box-shadow: 0px 1px 3px 1px rgba(0, 0, 0, 0.15);\n",
              "      filter: drop-shadow(0px 1px 2px rgba(0, 0, 0, 0.3));\n",
              "      fill: #FFFFFF;\n",
              "    }\n",
              "  </style>\n",
              "\n",
              "      <script>\n",
              "        const buttonEl =\n",
              "          document.querySelector('#df-65a57507-2e58-44f4-9584-93bbc1f0b0b3 button.colab-df-convert');\n",
              "        buttonEl.style.display =\n",
              "          google.colab.kernel.accessAllowed ? 'block' : 'none';\n",
              "\n",
              "        async function convertToInteractive(key) {\n",
              "          const element = document.querySelector('#df-65a57507-2e58-44f4-9584-93bbc1f0b0b3');\n",
              "          const dataTable =\n",
              "            await google.colab.kernel.invokeFunction('convertToInteractive',\n",
              "                                                     [key], {});\n",
              "          if (!dataTable) return;\n",
              "\n",
              "          const docLinkHtml = 'Like what you see? Visit the ' +\n",
              "            '<a target=\"_blank\" href=https://colab.research.google.com/notebooks/data_table.ipynb>data table notebook</a>'\n",
              "            + ' to learn more about interactive tables.';\n",
              "          element.innerHTML = '';\n",
              "          dataTable['output_type'] = 'display_data';\n",
              "          await google.colab.output.renderOutput(dataTable, element);\n",
              "          const docLink = document.createElement('div');\n",
              "          docLink.innerHTML = docLinkHtml;\n",
              "          element.appendChild(docLink);\n",
              "        }\n",
              "      </script>\n",
              "    </div>\n",
              "  </div>\n",
              "  "
            ]
          },
          "metadata": {},
          "execution_count": 4
        }
      ],
      "source": [
        "data_2.head()"
      ]
    },
    {
      "cell_type": "markdown",
      "metadata": {
        "id": "2GHJrePjT3Uy"
      },
      "source": [
        "### Merging datasets, keeping features that are present in both datasets"
      ]
    },
    {
      "cell_type": "code",
      "execution_count": 5,
      "metadata": {
        "id": "PQQuwFNT7161"
      },
      "outputs": [],
      "source": [
        "# DROPPING COLUMNS NOT IN COMMON WITH data_2\n",
        "data_1.drop(['minTimeBetweenSentTnx', 'maxTimeBetweenSentTnx', 'minTimeBetweenRecTnx', 'maxTimeBetweenRecTnx', 'lifetime', 'activityDays',\n",
        "       'dailyMax', 'ratioRecSent', 'ratioSentTotal', 'ratioRecTotal',\n",
        "       'giniSent', 'giniRec', 'txFreq', 'stdBalanceEth'], inplace=True, axis=1)"
      ]
    },
    {
      "cell_type": "code",
      "execution_count": 6,
      "metadata": {
        "colab": {
          "base_uri": "https://localhost:8080/"
        },
        "id": "HH4B-TPaUeI9",
        "outputId": "447a834d-9d92-4309-e3ab-a332c3f2add5"
      },
      "outputs": [
        {
          "output_type": "execute_result",
          "data": {
            "text/plain": [
              "Index(['address', 'flag', 'avgTimeBetweenSentTnx', 'avgTimeBetweenRecTnx',\n",
              "       'sentTransactions', 'receivedTransactions', 'createdContracts',\n",
              "       'numUniqSentAddress', 'numUniqRecAddress', 'minValSent', 'maxValSent',\n",
              "       'avgValSent', 'minValReceived', 'maxValReceived', 'avgValReceived',\n",
              "       'totalTransactions', 'totalEtherSent', 'totalEtherReceived',\n",
              "       'totalEtherSentContracts', 'totalEtherBalance'],\n",
              "      dtype='object')"
            ]
          },
          "metadata": {},
          "execution_count": 6
        }
      ],
      "source": [
        "data_1.columns"
      ]
    },
    {
      "cell_type": "code",
      "execution_count": 7,
      "metadata": {
        "id": "yme0PrLZUf-K"
      },
      "outputs": [],
      "source": [
        "# DROPPING COLUMNS NOT IN COMMON WITH  data_1\n",
        "data_2.drop(['Unnamed: 0', 'Index', 'Time Diff between first and last (Mins)',\n",
        "       'min value sent to contract', 'max val sent to contract', 'avg value sent to contract',\n",
        "       ' Total ERC20 tnxs', ' ERC20 total Ether received',\n",
        "       ' ERC20 total ether sent', ' ERC20 total Ether sent contract',\n",
        "       ' ERC20 uniq sent addr', ' ERC20 uniq rec addr',\n",
        "       ' ERC20 uniq sent addr.1', ' ERC20 uniq rec contract addr',\n",
        "       ' ERC20 avg time between sent tnx', ' ERC20 avg time between rec tnx',\n",
        "       ' ERC20 avg time between rec 2 tnx',\n",
        "       ' ERC20 avg time between contract tnx', ' ERC20 min val rec',\n",
        "       ' ERC20 max val rec', ' ERC20 avg val rec', ' ERC20 min val sent',\n",
        "       ' ERC20 max val sent', ' ERC20 avg val sent',\n",
        "       ' ERC20 min val sent contract', ' ERC20 max val sent contract',\n",
        "       ' ERC20 avg val sent contract', ' ERC20 uniq sent token name',\n",
        "       ' ERC20 uniq rec token name', ' ERC20 most sent token type',\n",
        "       ' ERC20_most_rec_token_type'], inplace=True, axis=1)"
      ]
    },
    {
      "cell_type": "code",
      "execution_count": 8,
      "metadata": {
        "colab": {
          "base_uri": "https://localhost:8080/"
        },
        "id": "Yy77o034UjIR",
        "outputId": "54342334-8d8b-413a-f5da-d1e08c89fc3a"
      },
      "outputs": [
        {
          "output_type": "execute_result",
          "data": {
            "text/plain": [
              "Index(['Address', 'FLAG', 'Avg min between sent tnx',\n",
              "       'Avg min between received tnx', 'Sent tnx', 'Received Tnx',\n",
              "       'Number of Created Contracts', 'Unique Received From Addresses',\n",
              "       'Unique Sent To Addresses', 'min value received', 'max value received ',\n",
              "       'avg val received', 'min val sent', 'max val sent', 'avg val sent',\n",
              "       'total transactions (including tnx to create contract',\n",
              "       'total Ether sent', 'total ether received',\n",
              "       'total ether sent contracts', 'total ether balance'],\n",
              "      dtype='object')"
            ]
          },
          "metadata": {},
          "execution_count": 8
        }
      ],
      "source": [
        "data_2.columns"
      ]
    },
    {
      "cell_type": "code",
      "execution_count": 9,
      "metadata": {
        "id": "as7XbI2SUkGU"
      },
      "outputs": [],
      "source": [
        "# RENAMING COLUMNS TO COLUMN NAMES IN data_1 FOR EASE OF\n",
        "data_2.rename(columns= {'Address':'address', 'FLAG':'flag', 'Avg min between sent tnx':'avgTimeBetweenSentTnx',\n",
        "                        'Avg min between received tnx':'avgTimeBetweenRecTnx', 'Sent tnx':'sentTransactions',\n",
        "                        'Received Tnx':'receivedTransactions', 'Number of Created Contracts':'createdContracts',\n",
        "                        'Unique Received From Addresses':'numUniqRecAddress', 'Unique Sent To Addresses':'numUniqSentAddress',\n",
        "                        'min value received':'minValReceived','max value received ':'maxValReceived',\n",
        "                        'avg val received':'avgValReceived', 'min val sent':'minValSent', 'max val sent':'maxValSent',\n",
        "                        'avg val sent': 'avgValSent', 'total transactions (including tnx to create contract':'totalTransactions',\n",
        "                        'total Ether sent':'totalEtherSent', 'total ether received':'totalEtherReceived',\n",
        "                        'total ether sent contracts':'totalEtherSentContracts', 'total ether balance':'totalEtherBalance'}, inplace=True)"
      ]
    },
    {
      "cell_type": "code",
      "execution_count": 10,
      "metadata": {
        "id": "a1meGyTcUmxJ"
      },
      "outputs": [],
      "source": [
        "df = pd.concat([data_1, data_2]) # COMBINE data_1 AND data_2"
      ]
    },
    {
      "cell_type": "markdown",
      "metadata": {
        "id": "rLpAKuE77161"
      },
      "source": [
        "### Data-types, completeness Information\n",
        "\n",
        "Using the Pandas \"info\" function, in addition to the data-type information for the dataset, we can look at counts of available records/missing records too."
      ]
    },
    {
      "cell_type": "code",
      "execution_count": 11,
      "metadata": {
        "colab": {
          "base_uri": "https://localhost:8080/"
        },
        "id": "lsK5sL-v7161",
        "outputId": "9ef3114f-1ae8-453d-aeea-6f33df7a4385"
      },
      "outputs": [
        {
          "output_type": "stream",
          "name": "stdout",
          "text": [
            "<class 'pandas.core.frame.DataFrame'>\n",
            "Int64Index: 21987 entries, 0 to 9840\n",
            "Data columns (total 20 columns):\n",
            " #   Column                   Non-Null Count  Dtype  \n",
            "---  ------                   --------------  -----  \n",
            " 0   address                  21987 non-null  object \n",
            " 1   flag                     21987 non-null  int64  \n",
            " 2   avgTimeBetweenSentTnx    21987 non-null  float64\n",
            " 3   avgTimeBetweenRecTnx     21987 non-null  float64\n",
            " 4   sentTransactions         21987 non-null  int64  \n",
            " 5   receivedTransactions     21987 non-null  int64  \n",
            " 6   createdContracts         21987 non-null  int64  \n",
            " 7   numUniqSentAddress       21987 non-null  int64  \n",
            " 8   numUniqRecAddress        21987 non-null  int64  \n",
            " 9   minValSent               21987 non-null  float64\n",
            " 10  maxValSent               21987 non-null  float64\n",
            " 11  avgValSent               21987 non-null  float64\n",
            " 12  minValReceived           21987 non-null  float64\n",
            " 13  maxValReceived           21987 non-null  float64\n",
            " 14  avgValReceived           21987 non-null  float64\n",
            " 15  totalTransactions        21987 non-null  int64  \n",
            " 16  totalEtherSent           21987 non-null  float64\n",
            " 17  totalEtherReceived       21987 non-null  float64\n",
            " 18  totalEtherSentContracts  21987 non-null  float64\n",
            " 19  totalEtherBalance        21987 non-null  float64\n",
            "dtypes: float64(12), int64(7), object(1)\n",
            "memory usage: 3.5+ MB\n"
          ]
        }
      ],
      "source": [
        "df.info()"
      ]
    },
    {
      "cell_type": "code",
      "execution_count": 12,
      "metadata": {
        "colab": {
          "base_uri": "https://localhost:8080/"
        },
        "id": "XLPL9Nf9T_5R",
        "outputId": "aa8c2050-c3a8-4920-fa68-96ffcec7df5e"
      },
      "outputs": [
        {
          "output_type": "execute_result",
          "data": {
            "text/plain": [
              "address                    0\n",
              "flag                       0\n",
              "avgTimeBetweenSentTnx      0\n",
              "avgTimeBetweenRecTnx       0\n",
              "sentTransactions           0\n",
              "receivedTransactions       0\n",
              "createdContracts           0\n",
              "numUniqSentAddress         0\n",
              "numUniqRecAddress          0\n",
              "minValSent                 0\n",
              "maxValSent                 0\n",
              "avgValSent                 0\n",
              "minValReceived             0\n",
              "maxValReceived             0\n",
              "avgValReceived             0\n",
              "totalTransactions          0\n",
              "totalEtherSent             0\n",
              "totalEtherReceived         0\n",
              "totalEtherSentContracts    0\n",
              "totalEtherBalance          0\n",
              "dtype: int64"
            ]
          },
          "metadata": {},
          "execution_count": 12
        }
      ],
      "source": [
        "df.isnull().sum() # LOOK IF THERE IS ANY MISSING VALUES"
      ]
    },
    {
      "cell_type": "markdown",
      "metadata": {
        "id": "dICQUvkX7161"
      },
      "source": [
        "### Descriptive Statistics"
      ]
    },
    {
      "cell_type": "code",
      "execution_count": 13,
      "metadata": {
        "colab": {
          "base_uri": "https://localhost:8080/",
          "height": 364
        },
        "id": "Ve8KwdLX7161",
        "outputId": "87ef0218-d185-4bb5-dee9-0469be0653a9"
      },
      "outputs": [
        {
          "output_type": "execute_result",
          "data": {
            "text/plain": [
              "               flag  avgTimeBetweenSentTnx  avgTimeBetweenRecTnx  \\\n",
              "count  21987.000000           2.198700e+04          2.198700e+04   \n",
              "mean       0.333333           2.017807e+06          8.849104e+07   \n",
              "std        0.471415           3.068441e+07          1.905694e+08   \n",
              "min        0.000000           0.000000e+00          0.000000e+00   \n",
              "25%        0.000000           0.000000e+00          1.020000e+00   \n",
              "50%        0.000000           2.171600e+02          1.033698e+04   \n",
              "75%        1.000000           3.269873e+04          6.604927e+07   \n",
              "max        1.000000           8.291299e+08          8.309932e+08   \n",
              "\n",
              "       sentTransactions  receivedTransactions  createdContracts  \\\n",
              "count      21987.000000          21987.000000      21987.000000   \n",
              "mean         337.691409            448.022786          2.641788   \n",
              "std         1496.171520           1807.664973        122.922835   \n",
              "min            0.000000              0.000000          0.000000   \n",
              "25%            1.000000              2.000000          0.000000   \n",
              "50%            3.000000              8.000000          0.000000   \n",
              "75%           32.000000             42.000000          0.000000   \n",
              "max        10000.000000          10000.000000       9995.000000   \n",
              "\n",
              "       numUniqSentAddress  numUniqRecAddress    minValSent     maxValSent  \\\n",
              "count        21987.000000       21987.000000  21987.000000   21987.000000   \n",
              "mean            66.613408         167.290535      5.603368     233.015954   \n",
              "std            496.873942         868.424851    206.194426    6315.603885   \n",
              "min              0.000000           0.000000      0.000000       0.000000   \n",
              "25%              1.000000           1.000000      0.000000       0.048303   \n",
              "50%              2.000000           3.000000      0.000000       1.991536   \n",
              "75%              8.000000          10.000000      0.439608      17.409571   \n",
              "max           9950.000000        9999.000000  25533.614329  611102.014456   \n",
              "\n",
              "         avgValSent  minValReceived  maxValReceived  avgValReceived  \\\n",
              "count  21987.000000    21987.000000    21987.000000    21987.000000   \n",
              "mean      26.741914       27.203154      380.656260       73.831433   \n",
              "std      272.599897      427.784109    10626.929063     2767.424229   \n",
              "min        0.000000        0.000000        0.000000        0.000000   \n",
              "25%        0.008546        0.000000        0.300000        0.099454   \n",
              "50%        0.440000        0.011846        2.000000        0.624387   \n",
              "75%        4.512919        0.300000       14.934265        3.322822   \n",
              "max    25533.614329    25533.614518   800000.000000   283618.831600   \n",
              "\n",
              "       totalTransactions  totalEtherSent  totalEtherReceived  \\\n",
              "count       21987.000000    2.198700e+04        2.198700e+04   \n",
              "mean          788.355983    6.238740e+03        6.824447e+03   \n",
              "std          2405.265091    2.494383e+05        2.475040e+05   \n",
              "min             0.000000    0.000000e+00        0.000000e+00   \n",
              "25%             4.000000    7.312695e-02        8.111346e-01   \n",
              "50%            18.000000    5.167382e+00        8.870386e+00   \n",
              "75%           133.000000    6.222540e+01        7.798907e+01   \n",
              "max         19995.000000    2.858096e+07        2.858159e+07   \n",
              "\n",
              "       totalEtherSentContracts  totalEtherBalance  \n",
              "count             21987.000000       2.198700e+04  \n",
              "mean                  0.002042       5.857052e+02  \n",
              "std                   0.263258       1.694017e+05  \n",
              "min                   0.000000      -1.560535e+07  \n",
              "25%                   0.000000       0.000000e+00  \n",
              "50%                   0.000000       1.638000e-03  \n",
              "75%                   0.000000       4.201412e-02  \n",
              "max                  39.000000       1.428864e+07  "
            ],
            "text/html": [
              "\n",
              "  <div id=\"df-2e88c43c-b700-49c5-8de7-06f1f797f7ab\">\n",
              "    <div class=\"colab-df-container\">\n",
              "      <div>\n",
              "<style scoped>\n",
              "    .dataframe tbody tr th:only-of-type {\n",
              "        vertical-align: middle;\n",
              "    }\n",
              "\n",
              "    .dataframe tbody tr th {\n",
              "        vertical-align: top;\n",
              "    }\n",
              "\n",
              "    .dataframe thead th {\n",
              "        text-align: right;\n",
              "    }\n",
              "</style>\n",
              "<table border=\"1\" class=\"dataframe\">\n",
              "  <thead>\n",
              "    <tr style=\"text-align: right;\">\n",
              "      <th></th>\n",
              "      <th>flag</th>\n",
              "      <th>avgTimeBetweenSentTnx</th>\n",
              "      <th>avgTimeBetweenRecTnx</th>\n",
              "      <th>sentTransactions</th>\n",
              "      <th>receivedTransactions</th>\n",
              "      <th>createdContracts</th>\n",
              "      <th>numUniqSentAddress</th>\n",
              "      <th>numUniqRecAddress</th>\n",
              "      <th>minValSent</th>\n",
              "      <th>maxValSent</th>\n",
              "      <th>avgValSent</th>\n",
              "      <th>minValReceived</th>\n",
              "      <th>maxValReceived</th>\n",
              "      <th>avgValReceived</th>\n",
              "      <th>totalTransactions</th>\n",
              "      <th>totalEtherSent</th>\n",
              "      <th>totalEtherReceived</th>\n",
              "      <th>totalEtherSentContracts</th>\n",
              "      <th>totalEtherBalance</th>\n",
              "    </tr>\n",
              "  </thead>\n",
              "  <tbody>\n",
              "    <tr>\n",
              "      <th>count</th>\n",
              "      <td>21987.000000</td>\n",
              "      <td>2.198700e+04</td>\n",
              "      <td>2.198700e+04</td>\n",
              "      <td>21987.000000</td>\n",
              "      <td>21987.000000</td>\n",
              "      <td>21987.000000</td>\n",
              "      <td>21987.000000</td>\n",
              "      <td>21987.000000</td>\n",
              "      <td>21987.000000</td>\n",
              "      <td>21987.000000</td>\n",
              "      <td>21987.000000</td>\n",
              "      <td>21987.000000</td>\n",
              "      <td>21987.000000</td>\n",
              "      <td>21987.000000</td>\n",
              "      <td>21987.000000</td>\n",
              "      <td>2.198700e+04</td>\n",
              "      <td>2.198700e+04</td>\n",
              "      <td>21987.000000</td>\n",
              "      <td>2.198700e+04</td>\n",
              "    </tr>\n",
              "    <tr>\n",
              "      <th>mean</th>\n",
              "      <td>0.333333</td>\n",
              "      <td>2.017807e+06</td>\n",
              "      <td>8.849104e+07</td>\n",
              "      <td>337.691409</td>\n",
              "      <td>448.022786</td>\n",
              "      <td>2.641788</td>\n",
              "      <td>66.613408</td>\n",
              "      <td>167.290535</td>\n",
              "      <td>5.603368</td>\n",
              "      <td>233.015954</td>\n",
              "      <td>26.741914</td>\n",
              "      <td>27.203154</td>\n",
              "      <td>380.656260</td>\n",
              "      <td>73.831433</td>\n",
              "      <td>788.355983</td>\n",
              "      <td>6.238740e+03</td>\n",
              "      <td>6.824447e+03</td>\n",
              "      <td>0.002042</td>\n",
              "      <td>5.857052e+02</td>\n",
              "    </tr>\n",
              "    <tr>\n",
              "      <th>std</th>\n",
              "      <td>0.471415</td>\n",
              "      <td>3.068441e+07</td>\n",
              "      <td>1.905694e+08</td>\n",
              "      <td>1496.171520</td>\n",
              "      <td>1807.664973</td>\n",
              "      <td>122.922835</td>\n",
              "      <td>496.873942</td>\n",
              "      <td>868.424851</td>\n",
              "      <td>206.194426</td>\n",
              "      <td>6315.603885</td>\n",
              "      <td>272.599897</td>\n",
              "      <td>427.784109</td>\n",
              "      <td>10626.929063</td>\n",
              "      <td>2767.424229</td>\n",
              "      <td>2405.265091</td>\n",
              "      <td>2.494383e+05</td>\n",
              "      <td>2.475040e+05</td>\n",
              "      <td>0.263258</td>\n",
              "      <td>1.694017e+05</td>\n",
              "    </tr>\n",
              "    <tr>\n",
              "      <th>min</th>\n",
              "      <td>0.000000</td>\n",
              "      <td>0.000000e+00</td>\n",
              "      <td>0.000000e+00</td>\n",
              "      <td>0.000000</td>\n",
              "      <td>0.000000</td>\n",
              "      <td>0.000000</td>\n",
              "      <td>0.000000</td>\n",
              "      <td>0.000000</td>\n",
              "      <td>0.000000</td>\n",
              "      <td>0.000000</td>\n",
              "      <td>0.000000</td>\n",
              "      <td>0.000000</td>\n",
              "      <td>0.000000</td>\n",
              "      <td>0.000000</td>\n",
              "      <td>0.000000</td>\n",
              "      <td>0.000000e+00</td>\n",
              "      <td>0.000000e+00</td>\n",
              "      <td>0.000000</td>\n",
              "      <td>-1.560535e+07</td>\n",
              "    </tr>\n",
              "    <tr>\n",
              "      <th>25%</th>\n",
              "      <td>0.000000</td>\n",
              "      <td>0.000000e+00</td>\n",
              "      <td>1.020000e+00</td>\n",
              "      <td>1.000000</td>\n",
              "      <td>2.000000</td>\n",
              "      <td>0.000000</td>\n",
              "      <td>1.000000</td>\n",
              "      <td>1.000000</td>\n",
              "      <td>0.000000</td>\n",
              "      <td>0.048303</td>\n",
              "      <td>0.008546</td>\n",
              "      <td>0.000000</td>\n",
              "      <td>0.300000</td>\n",
              "      <td>0.099454</td>\n",
              "      <td>4.000000</td>\n",
              "      <td>7.312695e-02</td>\n",
              "      <td>8.111346e-01</td>\n",
              "      <td>0.000000</td>\n",
              "      <td>0.000000e+00</td>\n",
              "    </tr>\n",
              "    <tr>\n",
              "      <th>50%</th>\n",
              "      <td>0.000000</td>\n",
              "      <td>2.171600e+02</td>\n",
              "      <td>1.033698e+04</td>\n",
              "      <td>3.000000</td>\n",
              "      <td>8.000000</td>\n",
              "      <td>0.000000</td>\n",
              "      <td>2.000000</td>\n",
              "      <td>3.000000</td>\n",
              "      <td>0.000000</td>\n",
              "      <td>1.991536</td>\n",
              "      <td>0.440000</td>\n",
              "      <td>0.011846</td>\n",
              "      <td>2.000000</td>\n",
              "      <td>0.624387</td>\n",
              "      <td>18.000000</td>\n",
              "      <td>5.167382e+00</td>\n",
              "      <td>8.870386e+00</td>\n",
              "      <td>0.000000</td>\n",
              "      <td>1.638000e-03</td>\n",
              "    </tr>\n",
              "    <tr>\n",
              "      <th>75%</th>\n",
              "      <td>1.000000</td>\n",
              "      <td>3.269873e+04</td>\n",
              "      <td>6.604927e+07</td>\n",
              "      <td>32.000000</td>\n",
              "      <td>42.000000</td>\n",
              "      <td>0.000000</td>\n",
              "      <td>8.000000</td>\n",
              "      <td>10.000000</td>\n",
              "      <td>0.439608</td>\n",
              "      <td>17.409571</td>\n",
              "      <td>4.512919</td>\n",
              "      <td>0.300000</td>\n",
              "      <td>14.934265</td>\n",
              "      <td>3.322822</td>\n",
              "      <td>133.000000</td>\n",
              "      <td>6.222540e+01</td>\n",
              "      <td>7.798907e+01</td>\n",
              "      <td>0.000000</td>\n",
              "      <td>4.201412e-02</td>\n",
              "    </tr>\n",
              "    <tr>\n",
              "      <th>max</th>\n",
              "      <td>1.000000</td>\n",
              "      <td>8.291299e+08</td>\n",
              "      <td>8.309932e+08</td>\n",
              "      <td>10000.000000</td>\n",
              "      <td>10000.000000</td>\n",
              "      <td>9995.000000</td>\n",
              "      <td>9950.000000</td>\n",
              "      <td>9999.000000</td>\n",
              "      <td>25533.614329</td>\n",
              "      <td>611102.014456</td>\n",
              "      <td>25533.614329</td>\n",
              "      <td>25533.614518</td>\n",
              "      <td>800000.000000</td>\n",
              "      <td>283618.831600</td>\n",
              "      <td>19995.000000</td>\n",
              "      <td>2.858096e+07</td>\n",
              "      <td>2.858159e+07</td>\n",
              "      <td>39.000000</td>\n",
              "      <td>1.428864e+07</td>\n",
              "    </tr>\n",
              "  </tbody>\n",
              "</table>\n",
              "</div>\n",
              "      <button class=\"colab-df-convert\" onclick=\"convertToInteractive('df-2e88c43c-b700-49c5-8de7-06f1f797f7ab')\"\n",
              "              title=\"Convert this dataframe to an interactive table.\"\n",
              "              style=\"display:none;\">\n",
              "        \n",
              "  <svg xmlns=\"http://www.w3.org/2000/svg\" height=\"24px\"viewBox=\"0 0 24 24\"\n",
              "       width=\"24px\">\n",
              "    <path d=\"M0 0h24v24H0V0z\" fill=\"none\"/>\n",
              "    <path d=\"M18.56 5.44l.94 2.06.94-2.06 2.06-.94-2.06-.94-.94-2.06-.94 2.06-2.06.94zm-11 1L8.5 8.5l.94-2.06 2.06-.94-2.06-.94L8.5 2.5l-.94 2.06-2.06.94zm10 10l.94 2.06.94-2.06 2.06-.94-2.06-.94-.94-2.06-.94 2.06-2.06.94z\"/><path d=\"M17.41 7.96l-1.37-1.37c-.4-.4-.92-.59-1.43-.59-.52 0-1.04.2-1.43.59L10.3 9.45l-7.72 7.72c-.78.78-.78 2.05 0 2.83L4 21.41c.39.39.9.59 1.41.59.51 0 1.02-.2 1.41-.59l7.78-7.78 2.81-2.81c.8-.78.8-2.07 0-2.86zM5.41 20L4 18.59l7.72-7.72 1.47 1.35L5.41 20z\"/>\n",
              "  </svg>\n",
              "      </button>\n",
              "      \n",
              "  <style>\n",
              "    .colab-df-container {\n",
              "      display:flex;\n",
              "      flex-wrap:wrap;\n",
              "      gap: 12px;\n",
              "    }\n",
              "\n",
              "    .colab-df-convert {\n",
              "      background-color: #E8F0FE;\n",
              "      border: none;\n",
              "      border-radius: 50%;\n",
              "      cursor: pointer;\n",
              "      display: none;\n",
              "      fill: #1967D2;\n",
              "      height: 32px;\n",
              "      padding: 0 0 0 0;\n",
              "      width: 32px;\n",
              "    }\n",
              "\n",
              "    .colab-df-convert:hover {\n",
              "      background-color: #E2EBFA;\n",
              "      box-shadow: 0px 1px 2px rgba(60, 64, 67, 0.3), 0px 1px 3px 1px rgba(60, 64, 67, 0.15);\n",
              "      fill: #174EA6;\n",
              "    }\n",
              "\n",
              "    [theme=dark] .colab-df-convert {\n",
              "      background-color: #3B4455;\n",
              "      fill: #D2E3FC;\n",
              "    }\n",
              "\n",
              "    [theme=dark] .colab-df-convert:hover {\n",
              "      background-color: #434B5C;\n",
              "      box-shadow: 0px 1px 3px 1px rgba(0, 0, 0, 0.15);\n",
              "      filter: drop-shadow(0px 1px 2px rgba(0, 0, 0, 0.3));\n",
              "      fill: #FFFFFF;\n",
              "    }\n",
              "  </style>\n",
              "\n",
              "      <script>\n",
              "        const buttonEl =\n",
              "          document.querySelector('#df-2e88c43c-b700-49c5-8de7-06f1f797f7ab button.colab-df-convert');\n",
              "        buttonEl.style.display =\n",
              "          google.colab.kernel.accessAllowed ? 'block' : 'none';\n",
              "\n",
              "        async function convertToInteractive(key) {\n",
              "          const element = document.querySelector('#df-2e88c43c-b700-49c5-8de7-06f1f797f7ab');\n",
              "          const dataTable =\n",
              "            await google.colab.kernel.invokeFunction('convertToInteractive',\n",
              "                                                     [key], {});\n",
              "          if (!dataTable) return;\n",
              "\n",
              "          const docLinkHtml = 'Like what you see? Visit the ' +\n",
              "            '<a target=\"_blank\" href=https://colab.research.google.com/notebooks/data_table.ipynb>data table notebook</a>'\n",
              "            + ' to learn more about interactive tables.';\n",
              "          element.innerHTML = '';\n",
              "          dataTable['output_type'] = 'display_data';\n",
              "          await google.colab.output.renderOutput(dataTable, element);\n",
              "          const docLink = document.createElement('div');\n",
              "          docLink.innerHTML = docLinkHtml;\n",
              "          element.appendChild(docLink);\n",
              "        }\n",
              "      </script>\n",
              "    </div>\n",
              "  </div>\n",
              "  "
            ]
          },
          "metadata": {},
          "execution_count": 13
        }
      ],
      "source": [
        "df.describe()\n",
        "# Additonal: \n",
        "#     We can also make a guess at the skewness of the data at this stage by looking at the difference between\n",
        "#     the means and medians of numerical features"
      ]
    },
    {
      "cell_type": "code",
      "execution_count": 14,
      "metadata": {
        "colab": {
          "base_uri": "https://localhost:8080/"
        },
        "id": "3y3v78PK7161",
        "outputId": "f617ae2b-d8b6-4be0-f745-8d0f05c5c7c5"
      },
      "outputs": [
        {
          "output_type": "execute_result",
          "data": {
            "text/plain": [
              "125"
            ]
          },
          "metadata": {},
          "execution_count": 14
        }
      ],
      "source": [
        "df.duplicated().sum() # LOOK FOR ANY DUPLICATES IN DATA"
      ]
    },
    {
      "cell_type": "code",
      "execution_count": 15,
      "metadata": {
        "colab": {
          "base_uri": "https://localhost:8080/"
        },
        "id": "cLNwk283U53y",
        "outputId": "e165569b-9cd0-43a2-d2c1-bea03e85d5c5"
      },
      "outputs": [
        {
          "output_type": "execute_result",
          "data": {
            "text/plain": [
              "0"
            ]
          },
          "metadata": {},
          "execution_count": 15
        }
      ],
      "source": [
        "df.drop_duplicates(inplace=True) # REMOVING DUPLICATES\n",
        "df.duplicated().sum()"
      ]
    },
    {
      "cell_type": "markdown",
      "metadata": {
        "collapsed": true,
        "id": "M7xA2Kt87162"
      },
      "source": [
        "### Visualizaton: Distribution of features"
      ]
    },
    {
      "cell_type": "markdown",
      "metadata": {
        "id": "fGMDN50c7162"
      },
      "source": [
        "Visualization techniques differ depending on the type of the feature vector (i.e. numerical: continuous or discrete, categorical: ordinal etc). Techniques will also depend on the type of data being dealt with, and the insight that we want to extract from it. \n",
        "\n",
        "Common visualization techniques include:\n",
        "- Bar Plots: Visualize the frequency distribution of categorical features.\n",
        "- Histograms: Visualize the frequency distribution of numerical features.\n",
        "- Box Plots: Visualize a numerical feature, while providing more information like the median, lower/upper quantiles etc..\n",
        "- Scatter Plots: Visualize the relationship (usually the correlation) between two features. Can include a goodness of fit line, to serve as a regression plot."
      ]
    },
    {
      "cell_type": "code",
      "execution_count": 16,
      "metadata": {
        "colab": {
          "base_uri": "https://localhost:8080/",
          "height": 931
        },
        "id": "c3jJl9RnVSNo",
        "outputId": "b371422f-aa8e-4258-e92c-5f6868960b55"
      },
      "outputs": [
        {
          "output_type": "execute_result",
          "data": {
            "text/plain": [
              "<matplotlib.axes._subplots.AxesSubplot at 0x7f1767541410>"
            ]
          },
          "metadata": {},
          "execution_count": 16
        },
        {
          "output_type": "display_data",
          "data": {
            "text/plain": [
              "<Figure size 2880x1440 with 1 Axes>"
            ],
            "image/png": "[encoded data removed]"
          },
          "metadata": {
            "needs_background": "light"
          }
        }
      ],
      "source": [
        "# PLOT FEATURES TO SEE THE OUTLIERS\n",
        "plt.figure(figsize=(40, 20))\n",
        "sns.boxplot(data=df)"
      ]
    },
    {
      "cell_type": "markdown",
      "metadata": {
        "id": "3OKh0E5_7163"
      },
      "source": [
        "### Visualizing prediction vector"
      ]
    },
    {
      "cell_type": "code",
      "execution_count": 17,
      "metadata": {
        "colab": {
          "base_uri": "https://localhost:8080/",
          "height": 297
        },
        "id": "ebsZkJvR7163",
        "outputId": "d2317915-44b0-45c1-8b7d-8cf3699397fb"
      },
      "outputs": [
        {
          "output_type": "execute_result",
          "data": {
            "text/plain": [
              "<matplotlib.axes._subplots.AxesSubplot at 0x7f1767260a50>"
            ]
          },
          "metadata": {},
          "execution_count": 17
        },
        {
          "output_type": "display_data",
          "data": {
            "text/plain": [
              "<Figure size 432x288 with 1 Axes>"
            ],
            "image/png": "[encoded data removed]"
          },
          "metadata": {
            "needs_background": "light"
          }
        }
      ],
      "source": [
        "sns.countplot(x=\"flag\", data=df) # We notice a bias in our dataset where there are more samples with no fraud then frauds(imbalance in predictive class)"
      ]
    },
    {
      "cell_type": "markdown",
      "source": [
        "### Visualizing: Correlation between features under fraud and non-fraud transactions"
      ],
      "metadata": {
        "id": "yA_dGnYhuWEn"
      }
    },
    {
      "cell_type": "code",
      "source": [
        "fraud_df = np.where(df['flag'] == 1)\n",
        "fraud_df = df.iloc[fraud_df]\n",
        "\n",
        "non_fraud_df = np.where(df['flag'] == 0)\n",
        "non_fraud_df = df.iloc[non_fraud_df]"
      ],
      "metadata": {
        "id": "j-SRCiuduY4E"
      },
      "execution_count": 51,
      "outputs": []
    },
    {
      "cell_type": "code",
      "source": [
        "fig, (ax1, ax2) = plt.subplots(ncols=2, figsize=(25, 8))\n",
        "\n",
        "mask = np.triu(np.ones_like(fraud_df.corr(), dtype=bool))\n",
        "ax1.set_title('Fraud', size =15)\n",
        "sns.heatmap(fraud_df.corr(), annot=True,  linewidth=0.5, fmt=\".2f\", cmap=\"crest\", mask=mask, ax=ax1)\n",
        "\n",
        "mask2 = np.triu(np.ones_like(non_fraud_df.corr(), dtype=bool))\n",
        "ax2.set_title('Non-Fraud', size =15)\n",
        "sns.heatmap(non_fraud_df.corr(), annot=True,  linewidth=0.5, fmt=\".2f\", cmap=\"crest\", mask=mask2, ax=ax2)\n",
        "\n",
        "plt.tight_layout()"
      ],
      "metadata": {
        "colab": {
          "base_uri": "https://localhost:8080/",
          "height": 585
        },
        "id": "03CSdzLHuYvW",
        "outputId": "0d7cb322-a3d1-4ef5-a5e6-cef409af1bd7"
      },
      "execution_count": 52,
      "outputs": [
        {
          "output_type": "display_data",
          "data": {
            "text/plain": [
              "<Figure size 1800x576 with 4 Axes>"
            ],
            "image/png": "[encoded data removed]"
          },
          "metadata": {
            "needs_background": "light"
          }
        }
      ]
    },
    {
      "cell_type": "markdown",
      "metadata": {
        "id": "gE2YlIMoXcuV"
      },
      "source": [
        "## Hypothesis Testing"
      ]
    },
    {
      "cell_type": "code",
      "execution_count": 18,
      "metadata": {
        "id": "jcPlOZ1CXcuV"
      },
      "outputs": [],
      "source": [
        "def hyp_test(col1, col2, df, alpha):\n",
        "    fraud_sample = np.array([np.mean(df[df[col1]==1].sample(20)[col2].values) for i in range(500)])\n",
        "    no_fraud_sample = np.array([np.mean(df[df[col1]==0].sample(20)[col2].values) for i in range(500)])\n",
        "\n",
        "    effect = np.mean(fraud_sample) - np.mean(no_fraud_sample)\n",
        "    sigma_first = np.std(fraud_sample)\n",
        "    sigma_second = np.std(no_fraud_sample)\n",
        "    sigma_difference = np.sqrt((sigma_first**2)/len(fraud_sample)  +  (sigma_second**2)/len(no_fraud_sample))\n",
        "    z_score = effect / sigma_difference # getting z-score\n",
        "\n",
        "    p_value = stats.norm.sf(abs(z_score))*2 # getting p-value\n",
        "\n",
        "    if p_value > alpha:\n",
        "        print(\"We fail to reject Null hypothesis\")\n",
        "    elif p_value <= alpha:\n",
        "        print(\"We reject null hypothesis\")"
      ]
    },
    {
      "cell_type": "markdown",
      "metadata": {
        "id": "pFrR9OkkXcuW"
      },
      "source": [
        "H0: Fradulent transactions are independent of average times between transactions recieved\n",
        "\n",
        "H1: Fradulent transactions are dependent of average times between transactions recieved\n",
        "\n",
        "cutoff = 0.05"
      ]
    },
    {
      "cell_type": "code",
      "execution_count": 22,
      "metadata": {
        "colab": {
          "base_uri": "https://localhost:8080/",
          "height": 307
        },
        "id": "T9vHvWfRXcuW",
        "outputId": "a998c9be-799e-4b14-923b-b81cb82b4f1d"
      },
      "outputs": [
        {
          "output_type": "execute_result",
          "data": {
            "text/plain": [
              "<matplotlib.axes._subplots.AxesSubplot at 0x7f17644bead0>"
            ]
          },
          "metadata": {},
          "execution_count": 22
        },
        {
          "output_type": "display_data",
          "data": {
            "text/plain": [
              "<Figure size 432x288 with 1 Axes>"
            ],
            "image/png": "[encoded data removed]"
          },
          "metadata": {
            "needs_background": "light"
          }
        }
      ],
      "source": [
        "df['avgTimeBetweenRecTnx'].plot(kind='kde') #Check distribution of average times"
      ]
    },
    {
      "cell_type": "code",
      "execution_count": 23,
      "metadata": {
        "colab": {
          "base_uri": "https://localhost:8080/"
        },
        "id": "rK3KQ5uuXcuW",
        "outputId": "f4baaa05-e214-48c8-c666-e178f2b86469"
      },
      "outputs": [
        {
          "output_type": "stream",
          "name": "stdout",
          "text": [
            "We reject null hypothesis\n"
          ]
        }
      ],
      "source": [
        "alpha = 0.05\n",
        "hyp_test('flag', 'avgTimeBetweenRecTnx', df, alpha =0.05)"
      ]
    },
    {
      "cell_type": "markdown",
      "metadata": {
        "id": "69Iy_31xXcuX"
      },
      "source": [
        "H0: Fradulent transactions are independent of amount of Ether sent\n",
        "\n",
        "H1: Fradulent transactions are dependent on amount of Ether sent\n",
        "\n",
        "cutoff = 0.05"
      ]
    },
    {
      "cell_type": "code",
      "execution_count": 24,
      "metadata": {
        "colab": {
          "base_uri": "https://localhost:8080/",
          "height": 307
        },
        "id": "fPrCZ6iqXcuY",
        "outputId": "55754f81-e865-4744-f878-66f9369d57e0"
      },
      "outputs": [
        {
          "output_type": "execute_result",
          "data": {
            "text/plain": [
              "<matplotlib.axes._subplots.AxesSubplot at 0x7f17643f1d50>"
            ]
          },
          "metadata": {},
          "execution_count": 24
        },
        {
          "output_type": "display_data",
          "data": {
            "text/plain": [
              "<Figure size 432x288 with 1 Axes>"
            ],
            "image/png": "[encoded data removed]"
          },
          "metadata": {
            "needs_background": "light"
          }
        }
      ],
      "source": [
        "df['totalEtherSent'].plot(kind='kde') #Check distribution of total ether sent"
      ]
    },
    {
      "cell_type": "code",
      "execution_count": 25,
      "metadata": {
        "colab": {
          "base_uri": "https://localhost:8080/"
        },
        "id": "M5c1OdqkXcuY",
        "outputId": "81955839-d760-447a-a218-d7bb8131430b"
      },
      "outputs": [
        {
          "output_type": "stream",
          "name": "stdout",
          "text": [
            "We reject null hypothesis\n"
          ]
        }
      ],
      "source": [
        "alpha = 0.05\n",
        "hyp_test('flag', 'totalEtherSent', df, alpha =0.05)"
      ]
    },
    {
      "cell_type": "markdown",
      "metadata": {
        "id": "Vgvm6tPiXcuZ"
      },
      "source": [
        "H0: Fradulent transactions are independent of Ether balance\n",
        "\n",
        "H1: Fradulent transactions are dependent on Ether balance\n",
        "\n",
        "cutoff = 0.05"
      ]
    },
    {
      "cell_type": "code",
      "execution_count": 26,
      "metadata": {
        "colab": {
          "base_uri": "https://localhost:8080/",
          "height": 307
        },
        "id": "Lz_lcM98XcuZ",
        "outputId": "7a32e7e5-eb66-4828-925b-dacc7f90c03c"
      },
      "outputs": [
        {
          "output_type": "execute_result",
          "data": {
            "text/plain": [
              "<matplotlib.axes._subplots.AxesSubplot at 0x7f1767447490>"
            ]
          },
          "metadata": {},
          "execution_count": 26
        },
        {
          "output_type": "display_data",
          "data": {
            "text/plain": [
              "<Figure size 432x288 with 1 Axes>"
            ],
            "image/png": "[encoded data removed]"
          },
          "metadata": {
            "needs_background": "light"
          }
        }
      ],
      "source": [
        "df['totalEtherBalance'].plot(kind='kde') #Check distribution of total ether balance"
      ]
    },
    {
      "cell_type": "code",
      "execution_count": 27,
      "metadata": {
        "colab": {
          "base_uri": "https://localhost:8080/"
        },
        "id": "5pWWufLMXcuZ",
        "outputId": "86a67397-d9b0-418c-f674-c6cadc19dd83"
      },
      "outputs": [
        {
          "output_type": "stream",
          "name": "stdout",
          "text": [
            "We fail to reject Null hypothesis\n"
          ]
        }
      ],
      "source": [
        "alpha = 0.05\n",
        "hyp_test('flag', 'totalEtherBalance', df, alpha =0.05)"
      ]
    },
    {
      "cell_type": "markdown",
      "metadata": {
        "id": "qD6jEVYdXcua"
      },
      "source": [
        "H0: Fradulent transactions are independent of total number of transactions made\n",
        "\n",
        "H1: Fradulent transactions are dependent on total number of transactions made\n",
        "\n",
        "cutoff = 0.05"
      ]
    },
    {
      "cell_type": "code",
      "execution_count": 28,
      "metadata": {
        "colab": {
          "base_uri": "https://localhost:8080/",
          "height": 283
        },
        "id": "GJM7H8eCXcua",
        "outputId": "3c9ed329-f27f-458d-d0d3-7ae948b2c4fe"
      },
      "outputs": [
        {
          "output_type": "execute_result",
          "data": {
            "text/plain": [
              "<matplotlib.axes._subplots.AxesSubplot at 0x7f1764343910>"
            ]
          },
          "metadata": {},
          "execution_count": 28
        },
        {
          "output_type": "display_data",
          "data": {
            "text/plain": [
              "<Figure size 432x288 with 1 Axes>"
            ],
            "image/png": "[encoded data removed]"
          },
          "metadata": {
            "needs_background": "light"
          }
        }
      ],
      "source": [
        "df['totalTransactions'].plot(kind='kde') #Check distribution of total transactions made\n"
      ]
    },
    {
      "cell_type": "code",
      "execution_count": 29,
      "metadata": {
        "colab": {
          "base_uri": "https://localhost:8080/"
        },
        "id": "DhQH0LXyXcua",
        "outputId": "4f3973ab-84c5-42f9-cc63-7ca2284a3caf"
      },
      "outputs": [
        {
          "output_type": "stream",
          "name": "stdout",
          "text": [
            "We reject null hypothesis\n"
          ]
        }
      ],
      "source": [
        "alpha = 0.05\n",
        "hyp_test('flag', 'totalTransactions', df, alpha =0.05)"
      ]
    },
    {
      "cell_type": "markdown",
      "metadata": {
        "id": "2a6g7otV7163"
      },
      "source": [
        "### Outlier Detection"
      ]
    },
    {
      "cell_type": "markdown",
      "metadata": {
        "id": "QZYHXFG27163"
      },
      "source": [
        "The presence of outliers can often skew results which take into consideration these data points. \n"
      ]
    },
    {
      "cell_type": "code",
      "execution_count": 30,
      "metadata": {
        "colab": {
          "base_uri": "https://localhost:8080/"
        },
        "id": "2AwEMGRn7164",
        "outputId": "93155d3a-9303-429b-aff3-9759c72c9b88"
      },
      "outputs": [
        {
          "output_type": "stream",
          "name": "stderr",
          "text": [
            "/usr/local/lib/python3.7/dist-packages/ipykernel_launcher.py:1: FutureWarning: Dropping of nuisance columns in DataFrame reductions (with 'numeric_only=None') is deprecated; in a future version this will raise TypeError.  Select only valid columns before calling the reduction.\n",
            "  \"\"\"Entry point for launching an IPython kernel.\n"
          ]
        },
        {
          "output_type": "execute_result",
          "data": {
            "text/plain": [
              "totalEtherBalance           -3.218564\n",
              "flag                         0.719930\n",
              "avgTimeBetweenRecTnx         2.620069\n",
              "totalTransactions            3.425968\n",
              "receivedTransactions         4.673886\n",
              "sentTransactions             5.568895\n",
              "numUniqRecAddress            6.753592\n",
              "numUniqSentAddress          12.528606\n",
              "avgTimeBetweenSentTnx       21.763417\n",
              "minValReceived              43.451106\n",
              "avgValSent                  53.459817\n",
              "maxValReceived              58.327570\n",
              "createdContracts            63.004272\n",
              "maxValSent                  73.548959\n",
              "totalEtherReceived          83.881310\n",
              "totalEtherSent              84.067256\n",
              "avgValReceived              97.952199\n",
              "minValSent                  98.741249\n",
              "totalEtherSentContracts    147.452227\n",
              "dtype: float64"
            ]
          },
          "metadata": {},
          "execution_count": 30
        }
      ],
      "source": [
        "df.skew(axis = 0, skipna = True).sort_values() # CHECK THE SKEWNESS OF THE DATA"
      ]
    },
    {
      "cell_type": "markdown",
      "metadata": {
        "id": "YopIdN9m7166"
      },
      "source": [
        "## Data Transformation and Preparation"
      ]
    },
    {
      "cell_type": "markdown",
      "metadata": {
        "id": "IJ-BcDSJ7166"
      },
      "source": [
        "### Transforming Skewed Continous Features "
      ]
    },
    {
      "cell_type": "markdown",
      "metadata": {
        "id": "QXfpIWIt7166"
      },
      "source": [
        "It is common practice to apply a logarthmic transformation to highly skewed continuous feature distributions. A typical flow for this is in a commented code block below."
      ]
    },
    {
      "cell_type": "code",
      "execution_count": 31,
      "metadata": {
        "id": "PcwpEuvR7167"
      },
      "outputs": [],
      "source": [
        "# SPLIT DATA TO PREPARE IT FOR THE DATA TRANSFORMATION\n",
        "X = df.drop('flag',axis=1)\n",
        "y = df['flag']\n",
        "\n",
        "df2 = X.copy()\n",
        "from scipy import stats\n",
        "\n",
        "# BOX COX DATA TRANSFORMATION TO HANDLE SKEWED DATA(IT TRANSFORMS DATA TO HAVE BETTER DISTRIBUTION)\n",
        "# makes a better distribution of the data so that outliers have minimal impact on our ml model\n",
        "# we only transform features that are numerical , not categorical\n",
        "\n",
        "for col in df2:\n",
        "  if df2[col].dtypes == 'int64' or df2[col].dtypes == 'float64':\n",
        "    posdata = df2[col][df2[col] > 0]\n",
        "    col_data, fitted_lambda = stats.boxcox(posdata)\n",
        "    df2.loc[df2[col] > 0, col] = col_data\n",
        "df_final = df2.copy()"
      ]
    },
    {
      "cell_type": "code",
      "execution_count": 32,
      "metadata": {
        "colab": {
          "base_uri": "https://localhost:8080/"
        },
        "id": "ej7l-tWe7167",
        "outputId": "f03abbdd-4de7-4a6c-f6ae-d20850b3eaf6"
      },
      "outputs": [
        {
          "output_type": "stream",
          "name": "stderr",
          "text": [
            "/usr/local/lib/python3.7/dist-packages/ipykernel_launcher.py:1: FutureWarning: Dropping of nuisance columns in DataFrame reductions (with 'numeric_only=None') is deprecated; in a future version this will raise TypeError.  Select only valid columns before calling the reduction.\n",
            "  \"\"\"Entry point for launching an IPython kernel.\n"
          ]
        },
        {
          "output_type": "execute_result",
          "data": {
            "text/plain": [
              "totalEtherBalance         -113.841353\n",
              "totalEtherSentContracts    -32.452553\n",
              "minValSent                  -0.714737\n",
              "minValReceived              -0.492611\n",
              "avgValReceived               0.023142\n",
              "avgValSent                   0.029651\n",
              "maxValReceived               0.074183\n",
              "totalTransactions            0.094538\n",
              "totalEtherReceived           0.159352\n",
              "avgTimeBetweenRecTnx         0.171635\n",
              "receivedTransactions         0.191791\n",
              "numUniqRecAddress            0.261355\n",
              "maxValSent                   0.318413\n",
              "avgTimeBetweenSentTnx        0.337046\n",
              "sentTransactions             0.466997\n",
              "totalEtherSent               0.499708\n",
              "numUniqSentAddress           0.560156\n",
              "createdContracts             9.983197\n",
              "dtype: float64"
            ]
          },
          "metadata": {},
          "execution_count": 32
        }
      ],
      "source": [
        "df_final.skew(axis = 0, skipna = True).sort_values()"
      ]
    },
    {
      "cell_type": "markdown",
      "metadata": {
        "id": "DeM0oejkWnc1"
      },
      "source": [
        "We can see that we get less skewed data after applying boxcox, with only 3 features that are still skew compared to 18 skewed features before transforming"
      ]
    },
    {
      "cell_type": "markdown",
      "metadata": {
        "id": "YN-WalGS7167"
      },
      "source": [
        "### Normalizing Numerical Features "
      ]
    },
    {
      "cell_type": "markdown",
      "metadata": {
        "id": "nm9d89Om7167"
      },
      "source": [
        "Another common practice is to perform some type of scaling on numerical features. Applying scaling doesn't change the shape of each feature's distribution; but ensures that each feature is treated equally when applying supervised learners."
      ]
    },
    {
      "cell_type": "code",
      "execution_count": 33,
      "metadata": {
        "id": "8Y96ZLOI7167"
      },
      "outputs": [],
      "source": [
        "# we standardize the data with StandardScaler we basically just does z = (x-mean)/standard deviation\n",
        "df_final = df_final.drop('address',axis=1)\n",
        "standardizer = StandardScaler()\n",
        "standardized_data = standardizer.fit_transform(df_final)\n",
        "\n",
        "df_standard = pd.DataFrame(standardized_data, columns=df_final.columns)"
      ]
    },
    {
      "cell_type": "code",
      "execution_count": 34,
      "metadata": {
        "colab": {
          "base_uri": "https://localhost:8080/",
          "height": 270
        },
        "id": "WYlIjPL07167",
        "outputId": "99a4338f-fe69-4e6c-c066-ea81a228dff8"
      },
      "outputs": [
        {
          "output_type": "execute_result",
          "data": {
            "text/plain": [
              "   avgTimeBetweenSentTnx  avgTimeBetweenRecTnx  sentTransactions  \\\n",
              "0               0.990254              1.062077          1.102766   \n",
              "1              -1.094791              1.529180         -1.071426   \n",
              "2               1.708255              1.053293          0.548911   \n",
              "3               0.723344              0.762165          1.253017   \n",
              "4              -1.094791              1.385448         -1.071426   \n",
              "\n",
              "   receivedTransactions  createdContracts  numUniqSentAddress  \\\n",
              "0              0.481231          -0.09919            1.568607   \n",
              "1             -0.836902          -0.09919           -0.980744   \n",
              "2              0.501457          -0.09919            1.079560   \n",
              "3              1.097946          -0.09919            1.608723   \n",
              "4             -0.380741          -0.09919           -0.980744   \n",
              "\n",
              "   numUniqRecAddress  minValSent  maxValSent  avgValSent  minValReceived  \\\n",
              "0           1.007200    0.236215    1.559800    0.630309       -0.636442   \n",
              "1          -0.488049    0.236215   -0.469916   -0.038562       -1.188476   \n",
              "2           1.101833    0.236215    0.764414    0.983630        0.317770   \n",
              "3           1.626989    0.236215    2.098147    1.030859       -0.841394   \n",
              "4           0.125843    0.566486   -0.228777    0.208009       -1.351767   \n",
              "\n",
              "   maxValReceived  avgValReceived  totalTransactions  totalEtherSent  \\\n",
              "0        1.628231        1.070049           0.630022        1.286401   \n",
              "1       -1.997764       -1.630478          -1.379166       -0.647831   \n",
              "2        1.038705        0.827471           0.286820        1.064519   \n",
              "3        1.516157        1.004981           0.946943        1.856391   \n",
              "4       -0.349198       -0.226705          -0.758518       -0.460246   \n",
              "\n",
              "   totalEtherReceived  totalEtherSentContracts  totalEtherBalance  \n",
              "0            1.194415                 0.032857           0.014673  \n",
              "1           -1.927021                 0.032857           0.014642  \n",
              "2            0.991605                 0.032857           0.014672  \n",
              "3            1.702888                 0.032857           0.014635  \n",
              "4           -0.490133                 0.032857           0.014621  "
            ],
            "text/html": [
              "\n",
              "  <div id=\"df-75c93750-2654-4113-a072-0d73471193e4\">\n",
              "    <div class=\"colab-df-container\">\n",
              "      <div>\n",
              "<style scoped>\n",
              "    .dataframe tbody tr th:only-of-type {\n",
              "        vertical-align: middle;\n",
              "    }\n",
              "\n",
              "    .dataframe tbody tr th {\n",
              "        vertical-align: top;\n",
              "    }\n",
              "\n",
              "    .dataframe thead th {\n",
              "        text-align: right;\n",
              "    }\n",
              "</style>\n",
              "<table border=\"1\" class=\"dataframe\">\n",
              "  <thead>\n",
              "    <tr style=\"text-align: right;\">\n",
              "      <th></th>\n",
              "      <th>avgTimeBetweenSentTnx</th>\n",
              "      <th>avgTimeBetweenRecTnx</th>\n",
              "      <th>sentTransactions</th>\n",
              "      <th>receivedTransactions</th>\n",
              "      <th>createdContracts</th>\n",
              "      <th>numUniqSentAddress</th>\n",
              "      <th>numUniqRecAddress</th>\n",
              "      <th>minValSent</th>\n",
              "      <th>maxValSent</th>\n",
              "      <th>avgValSent</th>\n",
              "      <th>minValReceived</th>\n",
              "      <th>maxValReceived</th>\n",
              "      <th>avgValReceived</th>\n",
              "      <th>totalTransactions</th>\n",
              "      <th>totalEtherSent</th>\n",
              "      <th>totalEtherReceived</th>\n",
              "      <th>totalEtherSentContracts</th>\n",
              "      <th>totalEtherBalance</th>\n",
              "    </tr>\n",
              "  </thead>\n",
              "  <tbody>\n",
              "    <tr>\n",
              "      <th>0</th>\n",
              "      <td>0.990254</td>\n",
              "      <td>1.062077</td>\n",
              "      <td>1.102766</td>\n",
              "      <td>0.481231</td>\n",
              "      <td>-0.09919</td>\n",
              "      <td>1.568607</td>\n",
              "      <td>1.007200</td>\n",
              "      <td>0.236215</td>\n",
              "      <td>1.559800</td>\n",
              "      <td>0.630309</td>\n",
              "      <td>-0.636442</td>\n",
              "      <td>1.628231</td>\n",
              "      <td>1.070049</td>\n",
              "      <td>0.630022</td>\n",
              "      <td>1.286401</td>\n",
              "      <td>1.194415</td>\n",
              "      <td>0.032857</td>\n",
              "      <td>0.014673</td>\n",
              "    </tr>\n",
              "    <tr>\n",
              "      <th>1</th>\n",
              "      <td>-1.094791</td>\n",
              "      <td>1.529180</td>\n",
              "      <td>-1.071426</td>\n",
              "      <td>-0.836902</td>\n",
              "      <td>-0.09919</td>\n",
              "      <td>-0.980744</td>\n",
              "      <td>-0.488049</td>\n",
              "      <td>0.236215</td>\n",
              "      <td>-0.469916</td>\n",
              "      <td>-0.038562</td>\n",
              "      <td>-1.188476</td>\n",
              "      <td>-1.997764</td>\n",
              "      <td>-1.630478</td>\n",
              "      <td>-1.379166</td>\n",
              "      <td>-0.647831</td>\n",
              "      <td>-1.927021</td>\n",
              "      <td>0.032857</td>\n",
              "      <td>0.014642</td>\n",
              "    </tr>\n",
              "    <tr>\n",
              "      <th>2</th>\n",
              "      <td>1.708255</td>\n",
              "      <td>1.053293</td>\n",
              "      <td>0.548911</td>\n",
              "      <td>0.501457</td>\n",
              "      <td>-0.09919</td>\n",
              "      <td>1.079560</td>\n",
              "      <td>1.101833</td>\n",
              "      <td>0.236215</td>\n",
              "      <td>0.764414</td>\n",
              "      <td>0.983630</td>\n",
              "      <td>0.317770</td>\n",
              "      <td>1.038705</td>\n",
              "      <td>0.827471</td>\n",
              "      <td>0.286820</td>\n",
              "      <td>1.064519</td>\n",
              "      <td>0.991605</td>\n",
              "      <td>0.032857</td>\n",
              "      <td>0.014672</td>\n",
              "    </tr>\n",
              "    <tr>\n",
              "      <th>3</th>\n",
              "      <td>0.723344</td>\n",
              "      <td>0.762165</td>\n",
              "      <td>1.253017</td>\n",
              "      <td>1.097946</td>\n",
              "      <td>-0.09919</td>\n",
              "      <td>1.608723</td>\n",
              "      <td>1.626989</td>\n",
              "      <td>0.236215</td>\n",
              "      <td>2.098147</td>\n",
              "      <td>1.030859</td>\n",
              "      <td>-0.841394</td>\n",
              "      <td>1.516157</td>\n",
              "      <td>1.004981</td>\n",
              "      <td>0.946943</td>\n",
              "      <td>1.856391</td>\n",
              "      <td>1.702888</td>\n",
              "      <td>0.032857</td>\n",
              "      <td>0.014635</td>\n",
              "    </tr>\n",
              "    <tr>\n",
              "      <th>4</th>\n",
              "      <td>-1.094791</td>\n",
              "      <td>1.385448</td>\n",
              "      <td>-1.071426</td>\n",
              "      <td>-0.380741</td>\n",
              "      <td>-0.09919</td>\n",
              "      <td>-0.980744</td>\n",
              "      <td>0.125843</td>\n",
              "      <td>0.566486</td>\n",
              "      <td>-0.228777</td>\n",
              "      <td>0.208009</td>\n",
              "      <td>-1.351767</td>\n",
              "      <td>-0.349198</td>\n",
              "      <td>-0.226705</td>\n",
              "      <td>-0.758518</td>\n",
              "      <td>-0.460246</td>\n",
              "      <td>-0.490133</td>\n",
              "      <td>0.032857</td>\n",
              "      <td>0.014621</td>\n",
              "    </tr>\n",
              "  </tbody>\n",
              "</table>\n",
              "</div>\n",
              "      <button class=\"colab-df-convert\" onclick=\"convertToInteractive('df-75c93750-2654-4113-a072-0d73471193e4')\"\n",
              "              title=\"Convert this dataframe to an interactive table.\"\n",
              "              style=\"display:none;\">\n",
              "        \n",
              "  <svg xmlns=\"http://www.w3.org/2000/svg\" height=\"24px\"viewBox=\"0 0 24 24\"\n",
              "       width=\"24px\">\n",
              "    <path d=\"M0 0h24v24H0V0z\" fill=\"none\"/>\n",
              "    <path d=\"M18.56 5.44l.94 2.06.94-2.06 2.06-.94-2.06-.94-.94-2.06-.94 2.06-2.06.94zm-11 1L8.5 8.5l.94-2.06 2.06-.94-2.06-.94L8.5 2.5l-.94 2.06-2.06.94zm10 10l.94 2.06.94-2.06 2.06-.94-2.06-.94-.94-2.06-.94 2.06-2.06.94z\"/><path d=\"M17.41 7.96l-1.37-1.37c-.4-.4-.92-.59-1.43-.59-.52 0-1.04.2-1.43.59L10.3 9.45l-7.72 7.72c-.78.78-.78 2.05 0 2.83L4 21.41c.39.39.9.59 1.41.59.51 0 1.02-.2 1.41-.59l7.78-7.78 2.81-2.81c.8-.78.8-2.07 0-2.86zM5.41 20L4 18.59l7.72-7.72 1.47 1.35L5.41 20z\"/>\n",
              "  </svg>\n",
              "      </button>\n",
              "      \n",
              "  <style>\n",
              "    .colab-df-container {\n",
              "      display:flex;\n",
              "      flex-wrap:wrap;\n",
              "      gap: 12px;\n",
              "    }\n",
              "\n",
              "    .colab-df-convert {\n",
              "      background-color: #E8F0FE;\n",
              "      border: none;\n",
              "      border-radius: 50%;\n",
              "      cursor: pointer;\n",
              "      display: none;\n",
              "      fill: #1967D2;\n",
              "      height: 32px;\n",
              "      padding: 0 0 0 0;\n",
              "      width: 32px;\n",
              "    }\n",
              "\n",
              "    .colab-df-convert:hover {\n",
              "      background-color: #E2EBFA;\n",
              "      box-shadow: 0px 1px 2px rgba(60, 64, 67, 0.3), 0px 1px 3px 1px rgba(60, 64, 67, 0.15);\n",
              "      fill: #174EA6;\n",
              "    }\n",
              "\n",
              "    [theme=dark] .colab-df-convert {\n",
              "      background-color: #3B4455;\n",
              "      fill: #D2E3FC;\n",
              "    }\n",
              "\n",
              "    [theme=dark] .colab-df-convert:hover {\n",
              "      background-color: #434B5C;\n",
              "      box-shadow: 0px 1px 3px 1px rgba(0, 0, 0, 0.15);\n",
              "      filter: drop-shadow(0px 1px 2px rgba(0, 0, 0, 0.3));\n",
              "      fill: #FFFFFF;\n",
              "    }\n",
              "  </style>\n",
              "\n",
              "      <script>\n",
              "        const buttonEl =\n",
              "          document.querySelector('#df-75c93750-2654-4113-a072-0d73471193e4 button.colab-df-convert');\n",
              "        buttonEl.style.display =\n",
              "          google.colab.kernel.accessAllowed ? 'block' : 'none';\n",
              "\n",
              "        async function convertToInteractive(key) {\n",
              "          const element = document.querySelector('#df-75c93750-2654-4113-a072-0d73471193e4');\n",
              "          const dataTable =\n",
              "            await google.colab.kernel.invokeFunction('convertToInteractive',\n",
              "                                                     [key], {});\n",
              "          if (!dataTable) return;\n",
              "\n",
              "          const docLinkHtml = 'Like what you see? Visit the ' +\n",
              "            '<a target=\"_blank\" href=https://colab.research.google.com/notebooks/data_table.ipynb>data table notebook</a>'\n",
              "            + ' to learn more about interactive tables.';\n",
              "          element.innerHTML = '';\n",
              "          dataTable['output_type'] = 'display_data';\n",
              "          await google.colab.output.renderOutput(dataTable, element);\n",
              "          const docLink = document.createElement('div');\n",
              "          docLink.innerHTML = docLinkHtml;\n",
              "          element.appendChild(docLink);\n",
              "        }\n",
              "      </script>\n",
              "    </div>\n",
              "  </div>\n",
              "  "
            ]
          },
          "metadata": {},
          "execution_count": 34
        }
      ],
      "source": [
        "df_standard.head()"
      ]
    },
    {
      "cell_type": "markdown",
      "metadata": {
        "id": "4MXBsFb3Xi44"
      },
      "source": [
        "### Adding Smote data and Splitting data into Train and Test"
      ]
    },
    {
      "cell_type": "code",
      "execution_count": 35,
      "metadata": {
        "id": "ya3PWQj_XnGt"
      },
      "outputs": [],
      "source": [
        "# we will use SMOTE-NC to artificially generate data points to fix the imbalance noticed earlier\n",
        "# this will only be applied to only the training data\n",
        "# we will also stratify our y labels because we do have a imbalance\n",
        "\n",
        "X_train, X_test, y_train, y_test = train_test_split(df_standard, y ,train_size=0.8, stratify=y, random_state=1)\n",
        "\n",
        "smote_nc = SMOTENC(random_state=42, k_neighbors=2, categorical_features=[0])\n",
        "X_train_new, y_train_new = smote_nc.fit_resample(X_train,y_train)"
      ]
    },
    {
      "cell_type": "markdown",
      "metadata": {
        "id": "RttCOaeq7168"
      },
      "source": [
        "## Model Exploration"
      ]
    },
    {
      "cell_type": "markdown",
      "metadata": {
        "id": "28WraO8feQV5"
      },
      "source": [
        "We tested our data on multiple models. For each model we print the train data score, and the confusion matrix scores for the test data."
      ]
    },
    {
      "cell_type": "markdown",
      "metadata": {
        "id": "NMpMyuI_ebLd"
      },
      "source": [
        "For the case of fraud detection we will focus on the recall, since we want a high recall on true fraudulent transactions and non fraudelent transactions"
      ]
    },
    {
      "cell_type": "markdown",
      "metadata": {
        "id": "SMhyp8fQdpKM"
      },
      "source": [
        "### 1.Logistic Regression"
      ]
    },
    {
      "cell_type": "code",
      "execution_count": 36,
      "metadata": {
        "colab": {
          "base_uri": "https://localhost:8080/"
        },
        "id": "sSdwTVSIX76S",
        "outputId": "4e07e129-7054-43a2-fabd-d655f73d02bc"
      },
      "outputs": [
        {
          "output_type": "stream",
          "name": "stdout",
          "text": [
            "Accuracy on Train data:  0.8016401845207586\n"
          ]
        }
      ],
      "source": [
        "clf = LogisticRegression(random_state=0).fit(X_train_new, y_train_new)\n",
        "print(\"Accuracy on Train data: \",clf.score(X_train_new, y_train_new))"
      ]
    },
    {
      "cell_type": "code",
      "execution_count": 37,
      "metadata": {
        "colab": {
          "base_uri": "https://localhost:8080/"
        },
        "id": "1tOfjGTJX8B9",
        "outputId": "2d5f4f0a-5c06-4f34-b6d6-345e3bd211f7"
      },
      "outputs": [
        {
          "output_type": "stream",
          "name": "stdout",
          "text": [
            "              precision    recall  f1-score   support\n",
            "\n",
            "           0       0.88      0.82      0.85      2927\n",
            "           1       0.69      0.77      0.73      1446\n",
            "\n",
            "    accuracy                           0.81      4373\n",
            "   macro avg       0.78      0.80      0.79      4373\n",
            "weighted avg       0.82      0.81      0.81      4373\n",
            "\n"
          ]
        }
      ],
      "source": [
        "pred = clf.predict(X_test)\n",
        "print(classification_report(y_test, pred))"
      ]
    },
    {
      "cell_type": "markdown",
      "metadata": {
        "id": "uLDLJhE4d7jd"
      },
      "source": [
        "### 2.KNN"
      ]
    },
    {
      "cell_type": "code",
      "execution_count": 38,
      "metadata": {
        "colab": {
          "base_uri": "https://localhost:8080/"
        },
        "id": "Q6f0AYC9716_",
        "outputId": "ee5f5b38-c54a-40da-d590-7089e2565a16"
      },
      "outputs": [
        {
          "output_type": "stream",
          "name": "stdout",
          "text": [
            "Accuracy on Train data:  0.9533572526909277\n"
          ]
        }
      ],
      "source": [
        "neigh = KNeighborsClassifier(n_neighbors=3)\n",
        "neigh.fit(X_train_new, y_train_new)\n",
        "print(\"Accuracy on Train data: \",neigh.score(X_train_new, y_train_new))"
      ]
    },
    {
      "cell_type": "code",
      "execution_count": 39,
      "metadata": {
        "colab": {
          "base_uri": "https://localhost:8080/"
        },
        "id": "mOq_d9FJeN9C",
        "outputId": "9ba36651-4cfd-4afd-a741-bd4a991cfd3d"
      },
      "outputs": [
        {
          "output_type": "stream",
          "name": "stdout",
          "text": [
            "              precision    recall  f1-score   support\n",
            "\n",
            "           0       0.93      0.89      0.91      2927\n",
            "           1       0.79      0.86      0.82      1446\n",
            "\n",
            "    accuracy                           0.88      4373\n",
            "   macro avg       0.86      0.87      0.86      4373\n",
            "weighted avg       0.88      0.88      0.88      4373\n",
            "\n"
          ]
        }
      ],
      "source": [
        "pred = neigh.predict(X_test)\n",
        "print(classification_report(y_test, pred))"
      ]
    },
    {
      "cell_type": "markdown",
      "metadata": {
        "id": "VesH0MgaemGq"
      },
      "source": [
        "### 3.Naive Bayes"
      ]
    },
    {
      "cell_type": "code",
      "execution_count": 40,
      "metadata": {
        "colab": {
          "base_uri": "https://localhost:8080/"
        },
        "id": "d1jSpvQQePto",
        "outputId": "b164b1fd-da66-4942-87e5-90c40e71a154"
      },
      "outputs": [
        {
          "output_type": "stream",
          "name": "stdout",
          "text": [
            "Accuracy on Train data:  0.5718862121988724\n"
          ]
        }
      ],
      "source": [
        "gnb = GaussianNB()\n",
        "gnb.fit(X_train_new, y_train_new)\n",
        "print(\"Accuracy on Train data: \",gnb.score(X_train_new, y_train_new))"
      ]
    },
    {
      "cell_type": "code",
      "execution_count": 41,
      "metadata": {
        "colab": {
          "base_uri": "https://localhost:8080/"
        },
        "id": "FzA-rV0ierb-",
        "outputId": "4acc651e-1bc0-4288-bf09-dea76d5804b5"
      },
      "outputs": [
        {
          "output_type": "stream",
          "name": "stdout",
          "text": [
            "              precision    recall  f1-score   support\n",
            "\n",
            "           0       0.91      0.19      0.32      2927\n",
            "           1       0.37      0.96      0.53      1446\n",
            "\n",
            "    accuracy                           0.45      4373\n",
            "   macro avg       0.64      0.58      0.43      4373\n",
            "weighted avg       0.73      0.45      0.39      4373\n",
            "\n"
          ]
        }
      ],
      "source": [
        "pred = gnb.predict(X_test)\n",
        "print(classification_report(y_test, pred))"
      ]
    },
    {
      "cell_type": "markdown",
      "metadata": {
        "id": "3IPxUEmje0T8"
      },
      "source": [
        "### 4.SVM"
      ]
    },
    {
      "cell_type": "code",
      "execution_count": 42,
      "metadata": {
        "colab": {
          "base_uri": "https://localhost:8080/"
        },
        "id": "gOohGZ-Xeujn",
        "outputId": "c92dc327-e087-4b69-d21e-a18f35fdf2dd"
      },
      "outputs": [
        {
          "output_type": "stream",
          "name": "stdout",
          "text": [
            "Accuracy on Train data:  0.8880488638305143\n"
          ]
        }
      ],
      "source": [
        "svm = make_pipeline(SVC(gamma='auto'))\n",
        "svm.fit(X_train_new, y_train_new)\n",
        "print(\"Accuracy on Train data: \",svm.score(X_train_new, y_train_new))"
      ]
    },
    {
      "cell_type": "code",
      "execution_count": 43,
      "metadata": {
        "colab": {
          "base_uri": "https://localhost:8080/"
        },
        "id": "PhhbWEBfe3Rv",
        "outputId": "fed6b6e6-c17a-4d00-d9ad-d6c985898027"
      },
      "outputs": [
        {
          "output_type": "stream",
          "name": "stdout",
          "text": [
            "              precision    recall  f1-score   support\n",
            "\n",
            "           0       0.93      0.87      0.90      2927\n",
            "           1       0.77      0.87      0.82      1446\n",
            "\n",
            "    accuracy                           0.87      4373\n",
            "   macro avg       0.85      0.87      0.86      4373\n",
            "weighted avg       0.88      0.87      0.87      4373\n",
            "\n"
          ]
        }
      ],
      "source": [
        "pred = svm.predict(X_test)\n",
        "print(classification_report(y_test, pred))"
      ]
    },
    {
      "cell_type": "markdown",
      "metadata": {
        "id": "uZYVZphDe_kl"
      },
      "source": [
        "### 5.Decision Tree"
      ]
    },
    {
      "cell_type": "code",
      "execution_count": 44,
      "metadata": {
        "colab": {
          "base_uri": "https://localhost:8080/"
        },
        "id": "n9oPWUJbe-4y",
        "outputId": "aa43bef5-4ff4-4af7-d8bf-3344dc4a6eb9"
      },
      "outputs": [
        {
          "output_type": "stream",
          "name": "stdout",
          "text": [
            "Accuracy on Train data:  0.9986758927045959\n"
          ]
        }
      ],
      "source": [
        "dt = tree.DecisionTreeClassifier(random_state=0)\n",
        "dt.fit(X_train_new, y_train_new)\n",
        "print(\"Accuracy on Train data: \",dt.score(X_train_new, y_train_new))"
      ]
    },
    {
      "cell_type": "code",
      "execution_count": 45,
      "metadata": {
        "colab": {
          "base_uri": "https://localhost:8080/"
        },
        "id": "_dp6Gf_5fE0s",
        "outputId": "34987688-b5be-47b0-eb0e-9ada6d646adf"
      },
      "outputs": [
        {
          "output_type": "stream",
          "name": "stdout",
          "text": [
            "              precision    recall  f1-score   support\n",
            "\n",
            "           0       0.93      0.91      0.92      2927\n",
            "           1       0.82      0.86      0.84      1446\n",
            "\n",
            "    accuracy                           0.89      4373\n",
            "   macro avg       0.87      0.88      0.88      4373\n",
            "weighted avg       0.89      0.89      0.89      4373\n",
            "\n"
          ]
        }
      ],
      "source": [
        "pred = dt.predict(X_test)\n",
        "print(classification_report(y_test, pred))"
      ]
    },
    {
      "cell_type": "markdown",
      "metadata": {
        "id": "UWe-vyzxfJ6N"
      },
      "source": [
        "### 6.XGBoost"
      ]
    },
    {
      "cell_type": "code",
      "execution_count": 46,
      "metadata": {
        "colab": {
          "base_uri": "https://localhost:8080/"
        },
        "id": "jMoYg-qwfH8v",
        "outputId": "9ea06735-a4be-4a1f-d667-88e1b11dfb32"
      },
      "outputs": [
        {
          "output_type": "stream",
          "name": "stdout",
          "text": [
            "Accuracy on Train data:  0.9058175294720656\n"
          ]
        }
      ],
      "source": [
        "xgb_cl = xgb.XGBClassifier()\n",
        "\n",
        "xgb_cl.fit(X_train_new, y_train_new)\n",
        "print(\"Accuracy on Train data: \",xgb_cl.score(X_train_new, y_train_new))"
      ]
    },
    {
      "cell_type": "code",
      "execution_count": 47,
      "metadata": {
        "colab": {
          "base_uri": "https://localhost:8080/"
        },
        "id": "k2ATUrqRfPj8",
        "outputId": "3699d9e4-55b2-4b86-8749-b1e3d3c6b542"
      },
      "outputs": [
        {
          "output_type": "stream",
          "name": "stdout",
          "text": [
            "              precision    recall  f1-score   support\n",
            "\n",
            "           0       0.94      0.90      0.92      2927\n",
            "           1       0.82      0.87      0.85      1446\n",
            "\n",
            "    accuracy                           0.89      4373\n",
            "   macro avg       0.88      0.89      0.88      4373\n",
            "weighted avg       0.90      0.89      0.90      4373\n",
            "\n"
          ]
        }
      ],
      "source": [
        "pred = xgb_cl.predict(X_test)\n",
        "print(classification_report(y_test, pred))"
      ]
    },
    {
      "cell_type": "markdown",
      "metadata": {
        "id": "qZZdinHyfTt-"
      },
      "source": [
        "### 7.Random Forest Tree"
      ]
    },
    {
      "cell_type": "code",
      "execution_count": 48,
      "metadata": {
        "colab": {
          "base_uri": "https://localhost:8080/"
        },
        "id": "cPHAw3_xfRcs",
        "outputId": "d19add43-b5bd-4825-fa36-12581620340f"
      },
      "outputs": [
        {
          "output_type": "stream",
          "name": "stdout",
          "text": [
            "Accuracy on Train data:  0.9986758927045959\n"
          ]
        }
      ],
      "source": [
        "rf = RandomForestClassifier(n_estimators = 100, random_state=0)\n",
        "rf.fit(X_train_new, y_train_new)\n",
        "print(\"Accuracy on Train data: \",rf.score(X_train_new, y_train_new))"
      ]
    },
    {
      "cell_type": "code",
      "execution_count": 49,
      "metadata": {
        "colab": {
          "base_uri": "https://localhost:8080/"
        },
        "id": "7x8tB2iZfZhG",
        "outputId": "f3093983-6e7f-48fd-ea0d-cb23f09ac7a9"
      },
      "outputs": [
        {
          "output_type": "stream",
          "name": "stdout",
          "text": [
            "              precision    recall  f1-score   support\n",
            "\n",
            "           0       0.94      0.94      0.94      2927\n",
            "           1       0.88      0.88      0.88      1446\n",
            "\n",
            "    accuracy                           0.92      4373\n",
            "   macro avg       0.91      0.91      0.91      4373\n",
            "weighted avg       0.92      0.92      0.92      4373\n",
            "\n"
          ]
        }
      ],
      "source": [
        "pred = rf.predict(X_test)\n",
        "print(classification_report(y_test, pred))"
      ]
    },
    {
      "cell_type": "markdown",
      "source": [
        "### Visualization: Evalution Metrics"
      ],
      "metadata": {
        "id": "0UmD6Dheukzp"
      }
    },
    {
      "cell_type": "code",
      "source": [
        "def addlabels(x,y):\n",
        "    for i in range(len(x)):\n",
        "        plt.text(i,y[i],y[i])\n",
        "\n",
        "plt.figure(figsize=(9, 6))\n",
        "models = ['Logistic Reg', 'KNN', 'Naive Bayes', 'SVM', 'Decision Trees', 'XGBoost', 'Random Forest']\n",
        "accuracies = [81, 88, 45, 87, 89, 89, 92]\n",
        "colors = ['#FFA69E', '#B1CC74', '#B8F2E6', '#AED9E0', '#5E6472', '#25283D', '#7A89C2']\n",
        "\n",
        "plt.title('Performence of Models', size =15)\n",
        "plt.xlabel('Models')\n",
        "plt.ylabel('Accuracy (%)')\n",
        "plt.bar(models, accuracies, color=colors)\n",
        "addlabels(models, accuracies)\n",
        "\n",
        "plt.tight_layout()\n",
        "plt.show()"
      ],
      "metadata": {
        "colab": {
          "base_uri": "https://localhost:8080/",
          "height": 441
        },
        "id": "Jr-MW4RJu6HR",
        "outputId": "c3953383-6dcd-4613-8097-e179e81a3d2d"
      },
      "execution_count": 72,
      "outputs": [
        {
          "output_type": "display_data",
          "data": {
            "text/plain": [
              "<Figure size 648x432 with 1 Axes>"
            ],
            "image/png": "[encoded data removed]"
          },
          "metadata": {
            "needs_background": "light"
          }
        }
      ]
    },
    {
      "cell_type": "markdown",
      "metadata": {
        "id": "8MxgTkGRgKgY"
      },
      "source": [
        "## Hyperparameter Tuning on Top 3 Models"
      ]
    },
    {
      "cell_type": "markdown",
      "metadata": {
        "id": "HkAn03SIgQei"
      },
      "source": [
        "From the results above we saw that Random Forest and Decision Tree models gave us the highest evaluation metric scores, we will now do some paramter tuning and then make final conclusions which model should be used based on the results."
      ]
    },
    {
      "cell_type": "markdown",
      "metadata": {
        "id": "bBpE-GxPhAFK"
      },
      "source": [
        "### Random Forest"
      ]
    },
    {
      "cell_type": "code",
      "execution_count": 70,
      "metadata": {
        "colab": {
          "base_uri": "https://localhost:8080/",
          "height": 372
        },
        "id": "00ehRJIAXcup",
        "outputId": "69cad94a-3401-4a56-8ff8-816263d55355"
      },
      "outputs": [
        {
          "output_type": "stream",
          "name": "stdout",
          "text": [
            "Fitting 3 folds for each of 300 candidates, totalling 900 fits\n"
          ]
        },
        {
          "output_type": "error",
          "ename": "KeyboardInterrupt",
          "evalue": "ignored",
          "traceback": [
            "\u001b[0;31m---------------------------------------------------------------------------\u001b[0m",
            "\u001b[0;31mKeyboardInterrupt\u001b[0m                         Traceback (most recent call last)",
            "\u001b[0;32m<ipython-input-70-f839025626f7>\u001b[0m in \u001b[0;36m<module>\u001b[0;34m\u001b[0m\n\u001b[1;32m     15\u001b[0m \u001b[0;31m#Applying GridSearchCV to get the best value for hyperparameters\u001b[0m\u001b[0;34m\u001b[0m\u001b[0;34m\u001b[0m\u001b[0;34m\u001b[0m\u001b[0m\n\u001b[1;32m     16\u001b[0m \u001b[0mgridrf\u001b[0m \u001b[0;34m=\u001b[0m \u001b[0mGridSearchCV\u001b[0m\u001b[0;34m(\u001b[0m\u001b[0mrf\u001b[0m\u001b[0;34m,\u001b[0m \u001b[0mhyper_rf\u001b[0m\u001b[0;34m,\u001b[0m \u001b[0mcv\u001b[0m \u001b[0;34m=\u001b[0m \u001b[0;36m3\u001b[0m\u001b[0;34m,\u001b[0m \u001b[0mverbose\u001b[0m \u001b[0;34m=\u001b[0m \u001b[0;36m1\u001b[0m\u001b[0;34m,\u001b[0m \u001b[0mn_jobs\u001b[0m \u001b[0;34m=\u001b[0m \u001b[0;34m-\u001b[0m\u001b[0;36m1\u001b[0m\u001b[0;34m)\u001b[0m\u001b[0;34m\u001b[0m\u001b[0;34m\u001b[0m\u001b[0m\n\u001b[0;32m---> 17\u001b[0;31m \u001b[0mbestrf\u001b[0m \u001b[0;34m=\u001b[0m \u001b[0mgridrf\u001b[0m\u001b[0;34m.\u001b[0m\u001b[0mfit\u001b[0m\u001b[0;34m(\u001b[0m\u001b[0mX_train_new\u001b[0m\u001b[0;34m,\u001b[0m \u001b[0my_train_new\u001b[0m\u001b[0;34m)\u001b[0m\u001b[0;34m\u001b[0m\u001b[0;34m\u001b[0m\u001b[0m\n\u001b[0m",
            "\u001b[0;32m/usr/local/lib/python3.7/dist-packages/sklearn/model_selection/_search.py\u001b[0m in \u001b[0;36mfit\u001b[0;34m(self, X, y, groups, **fit_params)\u001b[0m\n\u001b[1;32m    889\u001b[0m                 \u001b[0;32mreturn\u001b[0m \u001b[0mresults\u001b[0m\u001b[0;34m\u001b[0m\u001b[0;34m\u001b[0m\u001b[0m\n\u001b[1;32m    890\u001b[0m \u001b[0;34m\u001b[0m\u001b[0m\n\u001b[0;32m--> 891\u001b[0;31m             \u001b[0mself\u001b[0m\u001b[0;34m.\u001b[0m\u001b[0m_run_search\u001b[0m\u001b[0;34m(\u001b[0m\u001b[0mevaluate_candidates\u001b[0m\u001b[0;34m)\u001b[0m\u001b[0;34m\u001b[0m\u001b[0;34m\u001b[0m\u001b[0m\n\u001b[0m\u001b[1;32m    892\u001b[0m \u001b[0;34m\u001b[0m\u001b[0m\n\u001b[1;32m    893\u001b[0m             \u001b[0;31m# multimetric is determined here because in the case of a callable\u001b[0m\u001b[0;34m\u001b[0m\u001b[0;34m\u001b[0m\u001b[0;34m\u001b[0m\u001b[0m\n",
            "\u001b[0;32m/usr/local/lib/python3.7/dist-packages/sklearn/model_selection/_search.py\u001b[0m in \u001b[0;36m_run_search\u001b[0;34m(self, evaluate_candidates)\u001b[0m\n\u001b[1;32m   1390\u001b[0m     \u001b[0;32mdef\u001b[0m \u001b[0m_run_search\u001b[0m\u001b[0;34m(\u001b[0m\u001b[0mself\u001b[0m\u001b[0;34m,\u001b[0m \u001b[0mevaluate_candidates\u001b[0m\u001b[0;34m)\u001b[0m\u001b[0;34m:\u001b[0m\u001b[0;34m\u001b[0m\u001b[0;34m\u001b[0m\u001b[0m\n\u001b[1;32m   1391\u001b[0m         \u001b[0;34m\"\"\"Search all candidates in param_grid\"\"\"\u001b[0m\u001b[0;34m\u001b[0m\u001b[0;34m\u001b[0m\u001b[0m\n\u001b[0;32m-> 1392\u001b[0;31m         \u001b[0mevaluate_candidates\u001b[0m\u001b[0;34m(\u001b[0m\u001b[0mParameterGrid\u001b[0m\u001b[0;34m(\u001b[0m\u001b[0mself\u001b[0m\u001b[0;34m.\u001b[0m\u001b[0mparam_grid\u001b[0m\u001b[0;34m)\u001b[0m\u001b[0;34m)\u001b[0m\u001b[0;34m\u001b[0m\u001b[0;34m\u001b[0m\u001b[0m\n\u001b[0m\u001b[1;32m   1393\u001b[0m \u001b[0;34m\u001b[0m\u001b[0m\n\u001b[1;32m   1394\u001b[0m \u001b[0;34m\u001b[0m\u001b[0m\n",
            "\u001b[0;32m/usr/local/lib/python3.7/dist-packages/sklearn/model_selection/_search.py\u001b[0m in \u001b[0;36mevaluate_candidates\u001b[0;34m(candidate_params, cv, more_results)\u001b[0m\n\u001b[1;32m    849\u001b[0m                     )\n\u001b[1;32m    850\u001b[0m                     for (cand_idx, parameters), (split_idx, (train, test)) in product(\n\u001b[0;32m--> 851\u001b[0;31m                         \u001b[0menumerate\u001b[0m\u001b[0;34m(\u001b[0m\u001b[0mcandidate_params\u001b[0m\u001b[0;34m)\u001b[0m\u001b[0;34m,\u001b[0m \u001b[0menumerate\u001b[0m\u001b[0;34m(\u001b[0m\u001b[0mcv\u001b[0m\u001b[0;34m.\u001b[0m\u001b[0msplit\u001b[0m\u001b[0;34m(\u001b[0m\u001b[0mX\u001b[0m\u001b[0;34m,\u001b[0m \u001b[0my\u001b[0m\u001b[0;34m,\u001b[0m \u001b[0mgroups\u001b[0m\u001b[0;34m)\u001b[0m\u001b[0;34m)\u001b[0m\u001b[0;34m\u001b[0m\u001b[0;34m\u001b[0m\u001b[0m\n\u001b[0m\u001b[1;32m    852\u001b[0m                     )\n\u001b[1;32m    853\u001b[0m                 )\n",
            "\u001b[0;32m/usr/local/lib/python3.7/dist-packages/joblib/parallel.py\u001b[0m in \u001b[0;36m__call__\u001b[0;34m(self, iterable)\u001b[0m\n\u001b[1;32m   1096\u001b[0m \u001b[0;34m\u001b[0m\u001b[0m\n\u001b[1;32m   1097\u001b[0m             \u001b[0;32mwith\u001b[0m \u001b[0mself\u001b[0m\u001b[0;34m.\u001b[0m\u001b[0m_backend\u001b[0m\u001b[0;34m.\u001b[0m\u001b[0mretrieval_context\u001b[0m\u001b[0;34m(\u001b[0m\u001b[0;34m)\u001b[0m\u001b[0;34m:\u001b[0m\u001b[0;34m\u001b[0m\u001b[0;34m\u001b[0m\u001b[0m\n\u001b[0;32m-> 1098\u001b[0;31m                 \u001b[0mself\u001b[0m\u001b[0;34m.\u001b[0m\u001b[0mretrieve\u001b[0m\u001b[0;34m(\u001b[0m\u001b[0;34m)\u001b[0m\u001b[0;34m\u001b[0m\u001b[0;34m\u001b[0m\u001b[0m\n\u001b[0m\u001b[1;32m   1099\u001b[0m             \u001b[0;31m# Make sure that we get a last message telling us we are done\u001b[0m\u001b[0;34m\u001b[0m\u001b[0;34m\u001b[0m\u001b[0;34m\u001b[0m\u001b[0m\n\u001b[1;32m   1100\u001b[0m             \u001b[0melapsed_time\u001b[0m \u001b[0;34m=\u001b[0m \u001b[0mtime\u001b[0m\u001b[0;34m.\u001b[0m\u001b[0mtime\u001b[0m\u001b[0;34m(\u001b[0m\u001b[0;34m)\u001b[0m \u001b[0;34m-\u001b[0m \u001b[0mself\u001b[0m\u001b[0;34m.\u001b[0m\u001b[0m_start_time\u001b[0m\u001b[0;34m\u001b[0m\u001b[0;34m\u001b[0m\u001b[0m\n",
            "\u001b[0;32m/usr/local/lib/python3.7/dist-packages/joblib/parallel.py\u001b[0m in \u001b[0;36mretrieve\u001b[0;34m(self)\u001b[0m\n\u001b[1;32m    973\u001b[0m             \u001b[0;32mtry\u001b[0m\u001b[0;34m:\u001b[0m\u001b[0;34m\u001b[0m\u001b[0;34m\u001b[0m\u001b[0m\n\u001b[1;32m    974\u001b[0m                 \u001b[0;32mif\u001b[0m \u001b[0mgetattr\u001b[0m\u001b[0;34m(\u001b[0m\u001b[0mself\u001b[0m\u001b[0;34m.\u001b[0m\u001b[0m_backend\u001b[0m\u001b[0;34m,\u001b[0m \u001b[0;34m'supports_timeout'\u001b[0m\u001b[0;34m,\u001b[0m \u001b[0;32mFalse\u001b[0m\u001b[0;34m)\u001b[0m\u001b[0;34m:\u001b[0m\u001b[0;34m\u001b[0m\u001b[0;34m\u001b[0m\u001b[0m\n\u001b[0;32m--> 975\u001b[0;31m                     \u001b[0mself\u001b[0m\u001b[0;34m.\u001b[0m\u001b[0m_output\u001b[0m\u001b[0;34m.\u001b[0m\u001b[0mextend\u001b[0m\u001b[0;34m(\u001b[0m\u001b[0mjob\u001b[0m\u001b[0;34m.\u001b[0m\u001b[0mget\u001b[0m\u001b[0;34m(\u001b[0m\u001b[0mtimeout\u001b[0m\u001b[0;34m=\u001b[0m\u001b[0mself\u001b[0m\u001b[0;34m.\u001b[0m\u001b[0mtimeout\u001b[0m\u001b[0;34m)\u001b[0m\u001b[0;34m)\u001b[0m\u001b[0;34m\u001b[0m\u001b[0;34m\u001b[0m\u001b[0m\n\u001b[0m\u001b[1;32m    976\u001b[0m                 \u001b[0;32melse\u001b[0m\u001b[0;34m:\u001b[0m\u001b[0;34m\u001b[0m\u001b[0;34m\u001b[0m\u001b[0m\n\u001b[1;32m    977\u001b[0m                     \u001b[0mself\u001b[0m\u001b[0;34m.\u001b[0m\u001b[0m_output\u001b[0m\u001b[0;34m.\u001b[0m\u001b[0mextend\u001b[0m\u001b[0;34m(\u001b[0m\u001b[0mjob\u001b[0m\u001b[0;34m.\u001b[0m\u001b[0mget\u001b[0m\u001b[0;34m(\u001b[0m\u001b[0;34m)\u001b[0m\u001b[0;34m)\u001b[0m\u001b[0;34m\u001b[0m\u001b[0;34m\u001b[0m\u001b[0m\n",
            "\u001b[0;32m/usr/local/lib/python3.7/dist-packages/joblib/_parallel_backends.py\u001b[0m in \u001b[0;36mwrap_future_result\u001b[0;34m(future, timeout)\u001b[0m\n\u001b[1;32m    565\u001b[0m         AsyncResults.get from multiprocessing.\"\"\"\n\u001b[1;32m    566\u001b[0m         \u001b[0;32mtry\u001b[0m\u001b[0;34m:\u001b[0m\u001b[0;34m\u001b[0m\u001b[0;34m\u001b[0m\u001b[0m\n\u001b[0;32m--> 567\u001b[0;31m             \u001b[0;32mreturn\u001b[0m \u001b[0mfuture\u001b[0m\u001b[0;34m.\u001b[0m\u001b[0mresult\u001b[0m\u001b[0;34m(\u001b[0m\u001b[0mtimeout\u001b[0m\u001b[0;34m=\u001b[0m\u001b[0mtimeout\u001b[0m\u001b[0;34m)\u001b[0m\u001b[0;34m\u001b[0m\u001b[0;34m\u001b[0m\u001b[0m\n\u001b[0m\u001b[1;32m    568\u001b[0m         \u001b[0;32mexcept\u001b[0m \u001b[0mCfTimeoutError\u001b[0m \u001b[0;32mas\u001b[0m \u001b[0me\u001b[0m\u001b[0;34m:\u001b[0m\u001b[0;34m\u001b[0m\u001b[0;34m\u001b[0m\u001b[0m\n\u001b[1;32m    569\u001b[0m             \u001b[0;32mraise\u001b[0m \u001b[0mTimeoutError\u001b[0m \u001b[0;32mfrom\u001b[0m \u001b[0me\u001b[0m\u001b[0;34m\u001b[0m\u001b[0;34m\u001b[0m\u001b[0m\n",
            "\u001b[0;32m/usr/lib/python3.7/concurrent/futures/_base.py\u001b[0m in \u001b[0;36mresult\u001b[0;34m(self, timeout)\u001b[0m\n\u001b[1;32m    428\u001b[0m                 \u001b[0;32mreturn\u001b[0m \u001b[0mself\u001b[0m\u001b[0;34m.\u001b[0m\u001b[0m__get_result\u001b[0m\u001b[0;34m(\u001b[0m\u001b[0;34m)\u001b[0m\u001b[0;34m\u001b[0m\u001b[0;34m\u001b[0m\u001b[0m\n\u001b[1;32m    429\u001b[0m \u001b[0;34m\u001b[0m\u001b[0m\n\u001b[0;32m--> 430\u001b[0;31m             \u001b[0mself\u001b[0m\u001b[0;34m.\u001b[0m\u001b[0m_condition\u001b[0m\u001b[0;34m.\u001b[0m\u001b[0mwait\u001b[0m\u001b[0;34m(\u001b[0m\u001b[0mtimeout\u001b[0m\u001b[0;34m)\u001b[0m\u001b[0;34m\u001b[0m\u001b[0;34m\u001b[0m\u001b[0m\n\u001b[0m\u001b[1;32m    431\u001b[0m \u001b[0;34m\u001b[0m\u001b[0m\n\u001b[1;32m    432\u001b[0m             \u001b[0;32mif\u001b[0m \u001b[0mself\u001b[0m\u001b[0;34m.\u001b[0m\u001b[0m_state\u001b[0m \u001b[0;32min\u001b[0m \u001b[0;34m[\u001b[0m\u001b[0mCANCELLED\u001b[0m\u001b[0;34m,\u001b[0m \u001b[0mCANCELLED_AND_NOTIFIED\u001b[0m\u001b[0;34m]\u001b[0m\u001b[0;34m:\u001b[0m\u001b[0;34m\u001b[0m\u001b[0;34m\u001b[0m\u001b[0m\n",
            "\u001b[0;32m/usr/lib/python3.7/threading.py\u001b[0m in \u001b[0;36mwait\u001b[0;34m(self, timeout)\u001b[0m\n\u001b[1;32m    294\u001b[0m         \u001b[0;32mtry\u001b[0m\u001b[0;34m:\u001b[0m    \u001b[0;31m# restore state no matter what (e.g., KeyboardInterrupt)\u001b[0m\u001b[0;34m\u001b[0m\u001b[0;34m\u001b[0m\u001b[0m\n\u001b[1;32m    295\u001b[0m             \u001b[0;32mif\u001b[0m \u001b[0mtimeout\u001b[0m \u001b[0;32mis\u001b[0m \u001b[0;32mNone\u001b[0m\u001b[0;34m:\u001b[0m\u001b[0;34m\u001b[0m\u001b[0;34m\u001b[0m\u001b[0m\n\u001b[0;32m--> 296\u001b[0;31m                 \u001b[0mwaiter\u001b[0m\u001b[0;34m.\u001b[0m\u001b[0macquire\u001b[0m\u001b[0;34m(\u001b[0m\u001b[0;34m)\u001b[0m\u001b[0;34m\u001b[0m\u001b[0;34m\u001b[0m\u001b[0m\n\u001b[0m\u001b[1;32m    297\u001b[0m                 \u001b[0mgotit\u001b[0m \u001b[0;34m=\u001b[0m \u001b[0;32mTrue\u001b[0m\u001b[0;34m\u001b[0m\u001b[0;34m\u001b[0m\u001b[0m\n\u001b[1;32m    298\u001b[0m             \u001b[0;32melse\u001b[0m\u001b[0;34m:\u001b[0m\u001b[0;34m\u001b[0m\u001b[0;34m\u001b[0m\u001b[0m\n",
            "\u001b[0;31mKeyboardInterrupt\u001b[0m: "
          ]
        }
      ],
      "source": [
        "from sklearn.model_selection import GridSearchCV\n",
        "\n",
        "rf=RandomForestClassifier(random_state=42)\n",
        "\n",
        "#Setting values for the parameters\n",
        "n_estimators = [50, 100, 200]\n",
        "max_depth = [5, 10, 15, 25, 30]\n",
        "min_samples_split = [2, 5, 10, 15, 100]\n",
        "min_samples_leaf = [1, 2, 5, 10]\n",
        "\n",
        "#Creating a dictionary for the hyper parameters\n",
        "hyper_rf = dict(n_estimators = n_estimators, max_depth = max_depth, \n",
        "              min_samples_split = min_samples_split, min_samples_leaf = min_samples_leaf)\n",
        "\n",
        "#Applying GridSearchCV to get the best value for hyperparameters\n",
        "gridrf = GridSearchCV(rf, hyper_rf, cv = 3, verbose = 1, n_jobs = -1)\n",
        "bestrf = gridrf.fit(X_train_new, y_train_new)"
      ]
    },
    {
      "cell_type": "code",
      "execution_count": null,
      "metadata": {
        "id": "Ap2gGg_JXcuq"
      },
      "outputs": [],
      "source": [
        "#Printing the best hyperparameters\n",
        "print('The best hyper parameters are:\\n',gridrf.best_params_)"
      ]
    },
    {
      "cell_type": "code",
      "execution_count": null,
      "metadata": {
        "id": "Y8j_SVU_Xcuq"
      },
      "outputs": [],
      "source": [
        "#Fitting the random forest model with the best hyper parameters obtained through GridSearchCV\n",
        "rf1 = RandomForestClassifier(max_depth=25, min_samples_leaf=1, min_samples_split=2, n_estimators=200)\n",
        "rf1.fit(X_train_new,y_train_new)\n",
        "pred_rf1 = rf1.predict(X_test)"
      ]
    },
    {
      "cell_type": "code",
      "execution_count": null,
      "metadata": {
        "id": "m2U9e5nDXcur"
      },
      "outputs": [],
      "source": [
        "#Checking different metrics for random forest model after tuning the hyperparameters\n",
        "print('Checking different metrics for random forest model after tuning the hyperparameters:\\n')\n",
        "print(\"Training accuracy: \",rf1.score(X_train_new,y_train_new))\n",
        "acc_score = accuracy_score(y_test, pred_rf1)\n",
        "print('Testing accuracy: ',acc_score)\n",
        "conf_mat = confusion_matrix(y_test, pred_rf1)\n",
        "print('Confusion Matrix: \\n',conf_mat)\n",
        "roc_auc = roc_auc_score(y_test,pred_rf1)\n",
        "print('ROC AUC score: ',roc_auc)\n",
        "class_rep3 = classification_report(y_test,pred_rf1)\n",
        "print('Classification Report: \\n',class_rep3)"
      ]
    },
    {
      "cell_type": "markdown",
      "metadata": {
        "id": "7I13cwAFXcur"
      },
      "source": [
        "### Decision Tree"
      ]
    },
    {
      "cell_type": "code",
      "execution_count": null,
      "metadata": {
        "id": "lkG0zwbEXcur"
      },
      "outputs": [],
      "source": [
        "#Setting values for the parameters\n",
        "max_depth = [5, 10, 15, 25, 30, None]\n",
        "min_samples_split = [2, 5, 10, 15, 100]\n",
        "min_samples_leaf = [1, 2, 5, 10]\n",
        "max_features = [1, 2, 5, 10, None]\n",
        "t = tree.DecisionTreeClassifier()\n",
        "\n",
        "#Creating a dictionary for the hyper parameters\n",
        "hyperT = dict(max_depth = max_depth, min_samples_split = min_samples_split, \n",
        "              min_samples_leaf = min_samples_leaf, max_features=max_features, random_state=[0])\n",
        "\n",
        "#Applying GridSearchCV to get the best value for hyperparameters\n",
        "gridT = GridSearchCV(t, hyperT, cv = 5, verbose = 1, n_jobs = -1)\n",
        "bestT = gridT.fit(X_train_new, y_train_new)"
      ]
    },
    {
      "cell_type": "code",
      "execution_count": null,
      "metadata": {
        "id": "lvII0e2xXcur"
      },
      "outputs": [],
      "source": [
        "#Printing the best hyperparameters\n",
        "print('The best hyper parameters are: \\n',gridT.best_params_)"
      ]
    },
    {
      "cell_type": "code",
      "execution_count": null,
      "metadata": {
        "id": "cI5CikcwXcur"
      },
      "outputs": [],
      "source": [
        "#Fitting the decision tree model with the best hyper parameters obtained through GridSearchCV\n",
        "tree1 = tree.DecisionTreeClassifier(criterion='gini',splitter='random',max_depth=30, min_samples_leaf=1,min_samples_split=2, max_features=10,random_state=0)\n",
        "tree1.fit(X_train_new,y_train_new)\n",
        "pred_tree1 = tree1.predict(X_test)"
      ]
    },
    {
      "cell_type": "code",
      "execution_count": null,
      "metadata": {
        "id": "h0xUA9qsXcus"
      },
      "outputs": [],
      "source": [
        "#Checking different metrics for decision tree model after tuning the hyperparameters\n",
        "print('Checking different metrics for decision tree model after tuning the hyperparameters:\\n')\n",
        "print(\"Training accuracy: \",tree1.score(X_train_new,y_train_new))\n",
        "acc_score = accuracy_score(y_test, pred_tree1)\n",
        "print('Testing accuracy: ',acc_score)\n",
        "conf_mat = confusion_matrix(y_test, pred_tree1)\n",
        "print('Confusion Matrix: \\n',conf_mat)\n",
        "roc_auc = roc_auc_score(y_test,pred_tree1)\n",
        "print('ROC AUC score: ',roc_auc)\n",
        "class_rep2 = classification_report(y_test,pred_tree1)\n",
        "print('Classification Report: \\n',class_rep2)"
      ]
    },
    {
      "cell_type": "markdown",
      "metadata": {
        "id": "1qbN9l34Xcut"
      },
      "source": [
        "### XGBoost"
      ]
    },
    {
      "cell_type": "code",
      "execution_count": null,
      "metadata": {
        "id": "ZikcAqLbXcuu"
      },
      "outputs": [],
      "source": [
        "#Setting values for the parameters\n",
        "n_estimators = [100,200]\n",
        "learning_rate = [0.01,0.05,0.1]\n",
        "booster = ['gbtree', 'gblinear']\n",
        "\n",
        "reg_alpha = [0, 0.5, 1]\n",
        "reg_lambda = [0.5, 1, 5]\n",
        "base_score = [0.2, 0.5, 1]\n",
        "\n",
        "xgb = XGBClassifier()\n",
        "\n",
        "#Creating a dictionary for the hyper parameters\n",
        "hyperT = dict(n_estimators = n_estimators, learning_rate = learning_rate, \n",
        "              booster = booster, reg_alpha=reg_alpha, reg_lambda=reg_lambda,base_score=base_score )\n",
        "\n",
        "#Applying GridSearchCV to get the best value for hyperparameters\n",
        "gridT = GridSearchCV(xgb, hyperT, cv = 5, verbose = 1, n_jobs = -1)\n",
        "bestT = gridT.fit(X_train_new, y_train_new)"
      ]
    },
    {
      "cell_type": "code",
      "execution_count": null,
      "metadata": {
        "id": "6RGr2dTKXcuv"
      },
      "outputs": [],
      "source": [
        "#Printing the best hyperparameters\n",
        "print('The best hyper parameters are: \\n',gs2.best_params_)"
      ]
    },
    {
      "cell_type": "code",
      "execution_count": null,
      "metadata": {
        "id": "kyWPqSBxXcux"
      },
      "outputs": [],
      "source": [
        "xgbf = XGBClassifier(base_score= 0.2, booster= 'gbtree', gamma= 0, learning_rate= 0.1, n_estimators= 100, reg_alpha= 0, reg_lambda= 0.5,random_state=0)\n",
        "xgbf.fit(X_train_new,y_train_new)\n",
        "pred_xgbf = xgbf.predict(X_test)"
      ]
    },
    {
      "cell_type": "code",
      "execution_count": null,
      "metadata": {
        "id": "GlJ7n_lAXcuy"
      },
      "outputs": [],
      "source": [
        "#Checking different metrics for decision tree model after tuning the hyperparameters\n",
        "print('Checking different metrics for decision tree model after tuning the hyperparameters:\\n')\n",
        "print(\"Training accuracy: \",tree1.score(X_train_new,y_train_new))\n",
        "acc_score = accuracy_score(y_test, pred_xgbf)\n",
        "print('Testing accuracy: ',acc_score)\n",
        "conf_mat = confusion_matrix(y_test, pred_xgbf)\n",
        "print('Confusion Matrix: \\n',conf_mat)\n",
        "roc_auc = roc_auc_score(y_test,pred_xgbf)\n",
        "print('ROC AUC score: ',roc_auc)\n",
        "class_rep2 = classification_report(y_test,pred_xgbf)\n",
        "print('Classification Report: \\n',class_rep2)"
      ]
    },
    {
      "cell_type": "markdown",
      "metadata": {
        "id": "pVZB0iBSXcuy"
      },
      "source": [
        "We can see that the random forest and xgboost models have similar results regarding the evaluation metrics, but if we look at our recall evaluations, we would rather choose the xgboost model , its better to have wrongly classified non-fraud transactions than wrongly classified fraudalent transactions."
      ]
    },
    {
      "cell_type": "code",
      "execution_count": null,
      "metadata": {
        "id": "8ByzBXcAXcuy"
      },
      "outputs": [],
      "source": []
    }
  ],
  "metadata": {
    "anaconda-cloud": {},
    "colab": {
      "collapsed_sections": [
        "-sCHOZ8d716y",
        "IJ-BcDSJ7166",
        "YN-WalGS7167",
        "SMhyp8fQdpKM",
        "uLDLJhE4d7jd",
        "VesH0MgaemGq",
        "3IPxUEmje0T8",
        "uZYVZphDe_kl",
        "UWe-vyzxfJ6N",
        "qZZdinHyfTt-"
      ],
      "provenance": [],
      "include_colab_link": true
    },
    "kernelspec": {
      "display_name": "Python 3 (ipykernel)",
      "language": "python",
      "name": "python3"
    },
    "language_info": {
      "codemirror_mode": {
        "name": "ipython",
        "version": 3
      },
      "file_extension": ".py",
      "mimetype": "text/x-python",
      "name": "python",
      "nbconvert_exporter": "python",
      "pygments_lexer": "ipython3",
      "version": "3.9.12"
    }
  },
  "nbformat": 4,
  "nbformat_minor": 0
}