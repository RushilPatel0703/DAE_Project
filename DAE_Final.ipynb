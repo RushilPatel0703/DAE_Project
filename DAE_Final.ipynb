{
  "cells": [
    {
      "cell_type": "markdown",
      "metadata": {
        "id": "Bt07K4d4716t"
      },
      "source": [
        "# Ethereum Fraud Detection"
      ]
    },
    {
      "cell_type": "markdown",
      "metadata": {
        "id": "rpsuSE1O716w"
      },
      "source": [
        "Sections:\n",
        "\n",
        "- Housekeeping and Imports\n",
        "- Data Loading\n",
        "- Data Exploration\n",
        "- Data Transformation and Preparation\n",
        "- Model Exploration and Performance Analysis\n",
        "- Final Model Building(Hyperparamter Tuning)\n",
        "- Feature Importance and Selection\n",
        " "
      ]
    },
    {
      "cell_type": "markdown",
      "metadata": {
        "id": "ZIEXznEy716w"
      },
      "source": [
        "## Housekeeping and Imports"
      ]
    },
    {
      "cell_type": "markdown",
      "metadata": {
        "id": "tepOVOvL716x"
      },
      "source": [
        "For importing libraries necessary for the project, and for basic preprocessing functions. \n",
        "\n",
        "We're going to import commonly used Data Science libraries"
      ]
    },
    {
      "cell_type": "code",
      "execution_count": null,
      "metadata": {
        "id": "IL806t6W716x"
      },
      "outputs": [],
      "source": [
        "## IMPORT REQUIRED PYTHON LIBRARIES\n",
        "import pandas as pd\n",
        "import numpy as np\n",
        "import matplotlib.pyplot as plt\n",
        "import seaborn as sns\n",
        "from sklearn.model_selection import train_test_split\n",
        "from sklearn.linear_model import LogisticRegression\n",
        "from sklearn.metrics import classification_report, confusion_matrix\n",
        "from sklearn.preprocessing import StandardScaler\n",
        "from imblearn.over_sampling import SMOTE, SMOTENC\n",
        "from sklearn.neighbors import KNeighborsClassifier\n",
        "from sklearn.naive_bayes import GaussianNB\n",
        "from sklearn.svm import SVC\n",
        "from sklearn.pipeline import make_pipeline\n",
        "from sklearn import tree\n",
        "from scipy import stats\n",
        "from xgboost import XGBClassifier\n",
        "from sklearn.ensemble import RandomForestClassifier\n",
        "from sklearn.metrics import accuracy_score,confusion_matrix,classification_report,roc_auc_score, roc_curve\n",
        "from sklearn.model_selection import StratifiedKFold, cross_val_score, GridSearchCV, RandomizedSearchCV\n",
        "import warnings\n",
        "warnings.filterwarnings('ignore')\n",
        "from numpy import sort\n",
        "from sklearn.feature_selection import SelectFromModel"
      ]
    },
    {
      "cell_type": "markdown",
      "metadata": {
        "id": "-sCHOZ8d716y"
      },
      "source": [
        "## Data Loading"
      ]
    },
    {
      "cell_type": "markdown",
      "metadata": {
        "id": "mirHWLq4716z"
      },
      "source": [
        "For loading data files into appropriate variables."
      ]
    },
    {
      "cell_type": "code",
      "execution_count": null,
      "metadata": {
        "id": "MjHoos6U7160"
      },
      "outputs": [],
      "source": [
        "## DOWNLOAD DATA AND READ IT WITH PANDAS\n",
        "url1 = 'https://raw.githubusercontent.com/RushilPatel0703/DAE_Project/main/eth_illicit_features.csv'\n",
        "data_1 = pd.read_csv(url1)\n",
        "\n",
        "url2 = 'https://raw.githubusercontent.com/RushilPatel0703/DAE_Project/main/transaction_dataset.csv'\n",
        "data_2 = pd.read_csv(url2)\n",
        "pd.reset_option('max_rows')"
      ]
    },
    {
      "cell_type": "markdown",
      "metadata": {
        "id": "Rie42UVn7160"
      },
      "source": [
        "## Data Exploration"
      ]
    },
    {
      "cell_type": "markdown",
      "metadata": {
        "id": "l4mU_2Ms7160"
      },
      "source": [
        "Section for **exploratory analysis** on the available data. \n",
        "\n",
        "The exploration techniques vary for numerical, categorical, or time-series variables. Currently, \n",
        "\n",
        "Here we typically:\n",
        "\n",
        "- look at example records in the dataset\n",
        "- Merging datasets, keeping features that are present in both datasets\n",
        "- investigate the datatypes of variables in the dataset\n",
        "- calculate and investigate descriptive statistics (ex: central tendencies, variability etc.)\n",
        "- investigate distribution of feature vectors (ex: to check for skewness and outliers)\n",
        "- investigate distribution of prediction vector\n",
        "- check out the relationship (ex: correlation) between different features\n",
        "- check out the relationship between feature vectors and prediction vector\n",
        "\n",
        "Common steps to check the health of the data:\n",
        "\n",
        "- Check for missing data\n",
        "- Check the skewness of the data, outlier detection\n",
        "- etc..."
      ]
    },
    {
      "cell_type": "markdown",
      "metadata": {
        "id": "LWMZ4NnV7160"
      },
      "source": [
        "### Look at Example Records"
      ]
    },
    {
      "cell_type": "code",
      "execution_count": null,
      "metadata": {
        "colab": {
          "base_uri": "https://localhost:8080/",
          "height": 300
        },
        "id": "o3NwqN7T7161",
        "outputId": "c44ca689-5dd2-4c78-a709-2c4d535196f9"
      },
      "outputs": [
        {
          "data": {
            "text/html": [
              "<div>\n",
              "<style scoped>\n",
              "    .dataframe tbody tr th:only-of-type {\n",
              "        vertical-align: middle;\n",
              "    }\n",
              "\n",
              "    .dataframe tbody tr th {\n",
              "        vertical-align: top;\n",
              "    }\n",
              "\n",
              "    .dataframe thead th {\n",
              "        text-align: right;\n",
              "    }\n",
              "</style>\n",
              "<table border=\"1\" class=\"dataframe\">\n",
              "  <thead>\n",
              "    <tr style=\"text-align: right;\">\n",
              "      <th></th>\n",
              "      <th>address</th>\n",
              "      <th>flag</th>\n",
              "      <th>minTimeBetweenSentTnx</th>\n",
              "      <th>maxTimeBetweenSentTnx</th>\n",
              "      <th>avgTimeBetweenSentTnx</th>\n",
              "      <th>minTimeBetweenRecTnx</th>\n",
              "      <th>maxTimeBetweenRecTnx</th>\n",
              "      <th>avgTimeBetweenRecTnx</th>\n",
              "      <th>lifetime</th>\n",
              "      <th>sentTransactions</th>\n",
              "      <th>...</th>\n",
              "      <th>totalEtherBalance</th>\n",
              "      <th>activityDays</th>\n",
              "      <th>dailyMax</th>\n",
              "      <th>ratioRecSent</th>\n",
              "      <th>ratioSentTotal</th>\n",
              "      <th>ratioRecTotal</th>\n",
              "      <th>giniSent</th>\n",
              "      <th>giniRec</th>\n",
              "      <th>txFreq</th>\n",
              "      <th>stdBalanceEth</th>\n",
              "    </tr>\n",
              "  </thead>\n",
              "  <tbody>\n",
              "    <tr>\n",
              "      <th>0</th>\n",
              "      <td>0xd0cc2b24980cbcca47ef755da88b220a82291407</td>\n",
              "      <td>1</td>\n",
              "      <td>0.0</td>\n",
              "      <td>2387389.0</td>\n",
              "      <td>5.807655e+04</td>\n",
              "      <td>89.0</td>\n",
              "      <td>1.501076e+09</td>\n",
              "      <td>7.148260e+07</td>\n",
              "      <td>46</td>\n",
              "      <td>66</td>\n",
              "      <td>...</td>\n",
              "      <td>0.291940</td>\n",
              "      <td>10</td>\n",
              "      <td>60</td>\n",
              "      <td>0.313433</td>\n",
              "      <td>0.750000</td>\n",
              "      <td>0.238636</td>\n",
              "      <td>0.969121</td>\n",
              "      <td>0.888782</td>\n",
              "      <td>1.891304</td>\n",
              "      <td>147.701484</td>\n",
              "    </tr>\n",
              "    <tr>\n",
              "      <th>1</th>\n",
              "      <td>0x4cdc1cba0aeb5539f2e0ba158281e67e0e54a9b1</td>\n",
              "      <td>1</td>\n",
              "      <td>0.0</td>\n",
              "      <td>0.0</td>\n",
              "      <td>0.000000e+00</td>\n",
              "      <td>3021091.0</td>\n",
              "      <td>1.502802e+09</td>\n",
              "      <td>7.529115e+08</td>\n",
              "      <td>35</td>\n",
              "      <td>0</td>\n",
              "      <td>...</td>\n",
              "      <td>0.013541</td>\n",
              "      <td>2</td>\n",
              "      <td>1</td>\n",
              "      <td>2.000000</td>\n",
              "      <td>0.000000</td>\n",
              "      <td>0.666667</td>\n",
              "      <td>0.000000</td>\n",
              "      <td>0.238480</td>\n",
              "      <td>0.057143</td>\n",
              "      <td>0.005000</td>\n",
              "    </tr>\n",
              "    <tr>\n",
              "      <th>2</th>\n",
              "      <td>0x00e01a648ff41346cdeb873182383333d2184dd1</td>\n",
              "      <td>1</td>\n",
              "      <td>37.0</td>\n",
              "      <td>25112882.0</td>\n",
              "      <td>1.710279e+06</td>\n",
              "      <td>0.0</td>\n",
              "      <td>1.500397e+09</td>\n",
              "      <td>6.820612e+07</td>\n",
              "      <td>299</td>\n",
              "      <td>15</td>\n",
              "      <td>...</td>\n",
              "      <td>0.266494</td>\n",
              "      <td>14</td>\n",
              "      <td>16</td>\n",
              "      <td>1.375000</td>\n",
              "      <td>0.394737</td>\n",
              "      <td>0.578947</td>\n",
              "      <td>0.465450</td>\n",
              "      <td>0.614205</td>\n",
              "      <td>0.123746</td>\n",
              "      <td>52.129575</td>\n",
              "    </tr>\n",
              "    <tr>\n",
              "      <th>3</th>\n",
              "      <td>0x858457daa7e087ad74cdeeceab8419079bc2ca03</td>\n",
              "      <td>1</td>\n",
              "      <td>0.0</td>\n",
              "      <td>642460.0</td>\n",
              "      <td>1.576106e+04</td>\n",
              "      <td>0.0</td>\n",
              "      <td>1.500037e+09</td>\n",
              "      <td>1.352571e+07</td>\n",
              "      <td>36</td>\n",
              "      <td>109</td>\n",
              "      <td>...</td>\n",
              "      <td>0.007419</td>\n",
              "      <td>36</td>\n",
              "      <td>67</td>\n",
              "      <td>1.009091</td>\n",
              "      <td>0.493213</td>\n",
              "      <td>0.502262</td>\n",
              "      <td>0.957906</td>\n",
              "      <td>0.794121</td>\n",
              "      <td>6.111111</td>\n",
              "      <td>233.689231</td>\n",
              "    </tr>\n",
              "    <tr>\n",
              "      <th>4</th>\n",
              "      <td>0x240e125c20a4cc84bd6e7f8d1fd07aff4c06d43d</td>\n",
              "      <td>1</td>\n",
              "      <td>0.0</td>\n",
              "      <td>0.0</td>\n",
              "      <td>0.000000e+00</td>\n",
              "      <td>3894.0</td>\n",
              "      <td>1.500402e+09</td>\n",
              "      <td>3.751409e+08</td>\n",
              "      <td>82</td>\n",
              "      <td>1</td>\n",
              "      <td>...</td>\n",
              "      <td>0.002199</td>\n",
              "      <td>3</td>\n",
              "      <td>3</td>\n",
              "      <td>2.000000</td>\n",
              "      <td>0.166667</td>\n",
              "      <td>0.666667</td>\n",
              "      <td>0.000000</td>\n",
              "      <td>0.406556</td>\n",
              "      <td>0.060976</td>\n",
              "      <td>0.757788</td>\n",
              "    </tr>\n",
              "  </tbody>\n",
              "</table>\n",
              "<p>5 rows × 34 columns</p>\n",
              "</div>"
            ],
            "text/plain": [
              "                                      address  flag  minTimeBetweenSentTnx  \\\n",
              "0  0xd0cc2b24980cbcca47ef755da88b220a82291407     1                    0.0   \n",
              "1  0x4cdc1cba0aeb5539f2e0ba158281e67e0e54a9b1     1                    0.0   \n",
              "2  0x00e01a648ff41346cdeb873182383333d2184dd1     1                   37.0   \n",
              "3  0x858457daa7e087ad74cdeeceab8419079bc2ca03     1                    0.0   \n",
              "4  0x240e125c20a4cc84bd6e7f8d1fd07aff4c06d43d     1                    0.0   \n",
              "\n",
              "   maxTimeBetweenSentTnx  avgTimeBetweenSentTnx  minTimeBetweenRecTnx  \\\n",
              "0              2387389.0           5.807655e+04                  89.0   \n",
              "1                    0.0           0.000000e+00             3021091.0   \n",
              "2             25112882.0           1.710279e+06                   0.0   \n",
              "3               642460.0           1.576106e+04                   0.0   \n",
              "4                    0.0           0.000000e+00                3894.0   \n",
              "\n",
              "   maxTimeBetweenRecTnx  avgTimeBetweenRecTnx  lifetime  sentTransactions  \\\n",
              "0          1.501076e+09          7.148260e+07        46                66   \n",
              "1          1.502802e+09          7.529115e+08        35                 0   \n",
              "2          1.500397e+09          6.820612e+07       299                15   \n",
              "3          1.500037e+09          1.352571e+07        36               109   \n",
              "4          1.500402e+09          3.751409e+08        82                 1   \n",
              "\n",
              "   ...  totalEtherBalance  activityDays  dailyMax  ratioRecSent  \\\n",
              "0  ...           0.291940            10        60      0.313433   \n",
              "1  ...           0.013541             2         1      2.000000   \n",
              "2  ...           0.266494            14        16      1.375000   \n",
              "3  ...           0.007419            36        67      1.009091   \n",
              "4  ...           0.002199             3         3      2.000000   \n",
              "\n",
              "   ratioSentTotal  ratioRecTotal  giniSent   giniRec    txFreq  stdBalanceEth  \n",
              "0        0.750000       0.238636  0.969121  0.888782  1.891304     147.701484  \n",
              "1        0.000000       0.666667  0.000000  0.238480  0.057143       0.005000  \n",
              "2        0.394737       0.578947  0.465450  0.614205  0.123746      52.129575  \n",
              "3        0.493213       0.502262  0.957906  0.794121  6.111111     233.689231  \n",
              "4        0.166667       0.666667  0.000000  0.406556  0.060976       0.757788  \n",
              "\n",
              "[5 rows x 34 columns]"
            ]
          },
          "execution_count": 68,
          "metadata": {},
          "output_type": "execute_result"
        }
      ],
      "source": [
        "data_1.head()"
      ]
    },
    {
      "cell_type": "code",
      "execution_count": null,
      "metadata": {
        "colab": {
          "base_uri": "https://localhost:8080/",
          "height": 386
        },
        "id": "MPhYcJDfRSNy",
        "outputId": "5b34d57c-6a29-460e-f9ad-3189e12511f9"
      },
      "outputs": [
        {
          "data": {
            "text/html": [
              "<div>\n",
              "<style scoped>\n",
              "    .dataframe tbody tr th:only-of-type {\n",
              "        vertical-align: middle;\n",
              "    }\n",
              "\n",
              "    .dataframe tbody tr th {\n",
              "        vertical-align: top;\n",
              "    }\n",
              "\n",
              "    .dataframe thead th {\n",
              "        text-align: right;\n",
              "    }\n",
              "</style>\n",
              "<table border=\"1\" class=\"dataframe\">\n",
              "  <thead>\n",
              "    <tr style=\"text-align: right;\">\n",
              "      <th></th>\n",
              "      <th>Unnamed: 0</th>\n",
              "      <th>Index</th>\n",
              "      <th>Address</th>\n",
              "      <th>FLAG</th>\n",
              "      <th>Avg min between sent tnx</th>\n",
              "      <th>Avg min between received tnx</th>\n",
              "      <th>Time Diff between first and last (Mins)</th>\n",
              "      <th>Sent tnx</th>\n",
              "      <th>Received Tnx</th>\n",
              "      <th>Number of Created Contracts</th>\n",
              "      <th>...</th>\n",
              "      <th>ERC20 min val sent</th>\n",
              "      <th>ERC20 max val sent</th>\n",
              "      <th>ERC20 avg val sent</th>\n",
              "      <th>ERC20 min val sent contract</th>\n",
              "      <th>ERC20 max val sent contract</th>\n",
              "      <th>ERC20 avg val sent contract</th>\n",
              "      <th>ERC20 uniq sent token name</th>\n",
              "      <th>ERC20 uniq rec token name</th>\n",
              "      <th>ERC20 most sent token type</th>\n",
              "      <th>ERC20_most_rec_token_type</th>\n",
              "    </tr>\n",
              "  </thead>\n",
              "  <tbody>\n",
              "    <tr>\n",
              "      <th>0</th>\n",
              "      <td>0</td>\n",
              "      <td>1</td>\n",
              "      <td>0x00009277775ac7d0d59eaad8fee3d10ac6c805e8</td>\n",
              "      <td>0</td>\n",
              "      <td>844.26</td>\n",
              "      <td>1093.71</td>\n",
              "      <td>704785.63</td>\n",
              "      <td>721</td>\n",
              "      <td>89</td>\n",
              "      <td>0</td>\n",
              "      <td>...</td>\n",
              "      <td>0.000000</td>\n",
              "      <td>1.683100e+07</td>\n",
              "      <td>271779.920000</td>\n",
              "      <td>0.0</td>\n",
              "      <td>0.0</td>\n",
              "      <td>0.0</td>\n",
              "      <td>39.0</td>\n",
              "      <td>57.0</td>\n",
              "      <td>Cofoundit</td>\n",
              "      <td>Numeraire</td>\n",
              "    </tr>\n",
              "    <tr>\n",
              "      <th>1</th>\n",
              "      <td>1</td>\n",
              "      <td>2</td>\n",
              "      <td>0x0002b44ddb1476db43c868bd494422ee4c136fed</td>\n",
              "      <td>0</td>\n",
              "      <td>12709.07</td>\n",
              "      <td>2958.44</td>\n",
              "      <td>1218216.73</td>\n",
              "      <td>94</td>\n",
              "      <td>8</td>\n",
              "      <td>0</td>\n",
              "      <td>...</td>\n",
              "      <td>2.260809</td>\n",
              "      <td>2.260809e+00</td>\n",
              "      <td>2.260809</td>\n",
              "      <td>0.0</td>\n",
              "      <td>0.0</td>\n",
              "      <td>0.0</td>\n",
              "      <td>1.0</td>\n",
              "      <td>7.0</td>\n",
              "      <td>Livepeer Token</td>\n",
              "      <td>Livepeer Token</td>\n",
              "    </tr>\n",
              "    <tr>\n",
              "      <th>2</th>\n",
              "      <td>2</td>\n",
              "      <td>3</td>\n",
              "      <td>0x0002bda54cb772d040f779e88eb453cac0daa244</td>\n",
              "      <td>0</td>\n",
              "      <td>246194.54</td>\n",
              "      <td>2434.02</td>\n",
              "      <td>516729.30</td>\n",
              "      <td>2</td>\n",
              "      <td>10</td>\n",
              "      <td>0</td>\n",
              "      <td>...</td>\n",
              "      <td>0.000000</td>\n",
              "      <td>0.000000e+00</td>\n",
              "      <td>0.000000</td>\n",
              "      <td>0.0</td>\n",
              "      <td>0.0</td>\n",
              "      <td>0.0</td>\n",
              "      <td>0.0</td>\n",
              "      <td>8.0</td>\n",
              "      <td>None</td>\n",
              "      <td>XENON</td>\n",
              "    </tr>\n",
              "    <tr>\n",
              "      <th>3</th>\n",
              "      <td>3</td>\n",
              "      <td>4</td>\n",
              "      <td>0x00038e6ba2fd5c09aedb96697c8d7b8fa6632e5e</td>\n",
              "      <td>0</td>\n",
              "      <td>10219.60</td>\n",
              "      <td>15785.09</td>\n",
              "      <td>397555.90</td>\n",
              "      <td>25</td>\n",
              "      <td>9</td>\n",
              "      <td>0</td>\n",
              "      <td>...</td>\n",
              "      <td>100.000000</td>\n",
              "      <td>9.029231e+03</td>\n",
              "      <td>3804.076893</td>\n",
              "      <td>0.0</td>\n",
              "      <td>0.0</td>\n",
              "      <td>0.0</td>\n",
              "      <td>1.0</td>\n",
              "      <td>11.0</td>\n",
              "      <td>Raiden</td>\n",
              "      <td>XENON</td>\n",
              "    </tr>\n",
              "    <tr>\n",
              "      <th>4</th>\n",
              "      <td>4</td>\n",
              "      <td>5</td>\n",
              "      <td>0x00062d1dd1afb6fb02540ddad9cdebfe568e0d89</td>\n",
              "      <td>0</td>\n",
              "      <td>36.61</td>\n",
              "      <td>10707.77</td>\n",
              "      <td>382472.42</td>\n",
              "      <td>4598</td>\n",
              "      <td>20</td>\n",
              "      <td>1</td>\n",
              "      <td>...</td>\n",
              "      <td>0.000000</td>\n",
              "      <td>4.500000e+04</td>\n",
              "      <td>13726.659220</td>\n",
              "      <td>0.0</td>\n",
              "      <td>0.0</td>\n",
              "      <td>0.0</td>\n",
              "      <td>6.0</td>\n",
              "      <td>27.0</td>\n",
              "      <td>StatusNetwork</td>\n",
              "      <td>EOS</td>\n",
              "    </tr>\n",
              "  </tbody>\n",
              "</table>\n",
              "<p>5 rows × 51 columns</p>\n",
              "</div>"
            ],
            "text/plain": [
              "   Unnamed: 0  Index                                     Address  FLAG  \\\n",
              "0           0      1  0x00009277775ac7d0d59eaad8fee3d10ac6c805e8     0   \n",
              "1           1      2  0x0002b44ddb1476db43c868bd494422ee4c136fed     0   \n",
              "2           2      3  0x0002bda54cb772d040f779e88eb453cac0daa244     0   \n",
              "3           3      4  0x00038e6ba2fd5c09aedb96697c8d7b8fa6632e5e     0   \n",
              "4           4      5  0x00062d1dd1afb6fb02540ddad9cdebfe568e0d89     0   \n",
              "\n",
              "   Avg min between sent tnx  Avg min between received tnx  \\\n",
              "0                    844.26                       1093.71   \n",
              "1                  12709.07                       2958.44   \n",
              "2                 246194.54                       2434.02   \n",
              "3                  10219.60                      15785.09   \n",
              "4                     36.61                      10707.77   \n",
              "\n",
              "   Time Diff between first and last (Mins)  Sent tnx  Received Tnx  \\\n",
              "0                                704785.63       721            89   \n",
              "1                               1218216.73        94             8   \n",
              "2                                516729.30         2            10   \n",
              "3                                397555.90        25             9   \n",
              "4                                382472.42      4598            20   \n",
              "\n",
              "   Number of Created Contracts  ...   ERC20 min val sent   ERC20 max val sent  \\\n",
              "0                            0  ...             0.000000         1.683100e+07   \n",
              "1                            0  ...             2.260809         2.260809e+00   \n",
              "2                            0  ...             0.000000         0.000000e+00   \n",
              "3                            0  ...           100.000000         9.029231e+03   \n",
              "4                            1  ...             0.000000         4.500000e+04   \n",
              "\n",
              "    ERC20 avg val sent   ERC20 min val sent contract  \\\n",
              "0        271779.920000                           0.0   \n",
              "1             2.260809                           0.0   \n",
              "2             0.000000                           0.0   \n",
              "3          3804.076893                           0.0   \n",
              "4         13726.659220                           0.0   \n",
              "\n",
              "    ERC20 max val sent contract   ERC20 avg val sent contract  \\\n",
              "0                           0.0                           0.0   \n",
              "1                           0.0                           0.0   \n",
              "2                           0.0                           0.0   \n",
              "3                           0.0                           0.0   \n",
              "4                           0.0                           0.0   \n",
              "\n",
              "    ERC20 uniq sent token name   ERC20 uniq rec token name  \\\n",
              "0                         39.0                        57.0   \n",
              "1                          1.0                         7.0   \n",
              "2                          0.0                         8.0   \n",
              "3                          1.0                        11.0   \n",
              "4                          6.0                        27.0   \n",
              "\n",
              "    ERC20 most sent token type   ERC20_most_rec_token_type  \n",
              "0                    Cofoundit                   Numeraire  \n",
              "1               Livepeer Token              Livepeer Token  \n",
              "2                         None                       XENON  \n",
              "3                       Raiden                       XENON  \n",
              "4                StatusNetwork                         EOS  \n",
              "\n",
              "[5 rows x 51 columns]"
            ]
          },
          "execution_count": 69,
          "metadata": {},
          "output_type": "execute_result"
        }
      ],
      "source": [
        "data_2.head()"
      ]
    },
    {
      "cell_type": "markdown",
      "metadata": {
        "id": "2GHJrePjT3Uy"
      },
      "source": [
        "### Merging datasets, keeping features that are present in both datasets"
      ]
    },
    {
      "cell_type": "code",
      "execution_count": null,
      "metadata": {
        "id": "PQQuwFNT7161"
      },
      "outputs": [],
      "source": [
        "# DROPPING COLUMNS NOT IN COMMON WITH data_2\n",
        "data_1.drop(['minTimeBetweenSentTnx', 'maxTimeBetweenSentTnx', 'minTimeBetweenRecTnx', 'maxTimeBetweenRecTnx', 'lifetime', 'activityDays',\n",
        "       'dailyMax', 'ratioRecSent', 'ratioSentTotal', 'ratioRecTotal',\n",
        "       'giniSent', 'giniRec', 'txFreq', 'stdBalanceEth'], inplace=True, axis=1)"
      ]
    },
    {
      "cell_type": "code",
      "execution_count": null,
      "metadata": {
        "colab": {
          "base_uri": "https://localhost:8080/"
        },
        "id": "HH4B-TPaUeI9",
        "outputId": "67f600d7-a8cc-4c57-db07-969ecc0efc21"
      },
      "outputs": [
        {
          "data": {
            "text/plain": [
              "Index(['address', 'flag', 'avgTimeBetweenSentTnx', 'avgTimeBetweenRecTnx',\n",
              "       'sentTransactions', 'receivedTransactions', 'createdContracts',\n",
              "       'numUniqSentAddress', 'numUniqRecAddress', 'minValSent', 'maxValSent',\n",
              "       'avgValSent', 'minValReceived', 'maxValReceived', 'avgValReceived',\n",
              "       'totalTransactions', 'totalEtherSent', 'totalEtherReceived',\n",
              "       'totalEtherSentContracts', 'totalEtherBalance'],\n",
              "      dtype='object')"
            ]
          },
          "execution_count": 71,
          "metadata": {},
          "output_type": "execute_result"
        }
      ],
      "source": [
        "data_1.columns"
      ]
    },
    {
      "cell_type": "code",
      "execution_count": null,
      "metadata": {
        "id": "yme0PrLZUf-K"
      },
      "outputs": [],
      "source": [
        "# DROPPING COLUMNS NOT IN COMMON WITH  data_1\n",
        "data_2.drop(['Unnamed: 0', 'Index', 'Time Diff between first and last (Mins)',\n",
        "       'min value sent to contract', 'max val sent to contract', 'avg value sent to contract',\n",
        "       ' Total ERC20 tnxs', ' ERC20 total Ether received',\n",
        "       ' ERC20 total ether sent', ' ERC20 total Ether sent contract',\n",
        "       ' ERC20 uniq sent addr', ' ERC20 uniq rec addr',\n",
        "       ' ERC20 uniq sent addr.1', ' ERC20 uniq rec contract addr',\n",
        "       ' ERC20 avg time between sent tnx', ' ERC20 avg time between rec tnx',\n",
        "       ' ERC20 avg time between rec 2 tnx',\n",
        "       ' ERC20 avg time between contract tnx', ' ERC20 min val rec',\n",
        "       ' ERC20 max val rec', ' ERC20 avg val rec', ' ERC20 min val sent',\n",
        "       ' ERC20 max val sent', ' ERC20 avg val sent',\n",
        "       ' ERC20 min val sent contract', ' ERC20 max val sent contract',\n",
        "       ' ERC20 avg val sent contract', ' ERC20 uniq sent token name',\n",
        "       ' ERC20 uniq rec token name', ' ERC20 most sent token type',\n",
        "       ' ERC20_most_rec_token_type'], inplace=True, axis=1)"
      ]
    },
    {
      "cell_type": "code",
      "execution_count": null,
      "metadata": {
        "colab": {
          "base_uri": "https://localhost:8080/"
        },
        "id": "Yy77o034UjIR",
        "outputId": "2fe2a6d8-0261-48c1-dcb1-ea8860e4af44"
      },
      "outputs": [
        {
          "data": {
            "text/plain": [
              "Index(['Address', 'FLAG', 'Avg min between sent tnx',\n",
              "       'Avg min between received tnx', 'Sent tnx', 'Received Tnx',\n",
              "       'Number of Created Contracts', 'Unique Received From Addresses',\n",
              "       'Unique Sent To Addresses', 'min value received', 'max value received ',\n",
              "       'avg val received', 'min val sent', 'max val sent', 'avg val sent',\n",
              "       'total transactions (including tnx to create contract',\n",
              "       'total Ether sent', 'total ether received',\n",
              "       'total ether sent contracts', 'total ether balance'],\n",
              "      dtype='object')"
            ]
          },
          "execution_count": 73,
          "metadata": {},
          "output_type": "execute_result"
        }
      ],
      "source": [
        "data_2.columns"
      ]
    },
    {
      "cell_type": "code",
      "execution_count": null,
      "metadata": {
        "id": "as7XbI2SUkGU"
      },
      "outputs": [],
      "source": [
        "# RENAMING COLUMNS TO COLUMN NAMES IN data_1 FOR EASE OF\n",
        "data_2.rename(columns= {'Address':'address', 'FLAG':'flag', 'Avg min between sent tnx':'avgTimeBetweenSentTnx',\n",
        "                        'Avg min between received tnx':'avgTimeBetweenRecTnx', 'Sent tnx':'sentTransactions',\n",
        "                        'Received Tnx':'receivedTransactions', 'Number of Created Contracts':'createdContracts',\n",
        "                        'Unique Received From Addresses':'numUniqRecAddress', 'Unique Sent To Addresses':'numUniqSentAddress',\n",
        "                        'min value received':'minValReceived','max value received ':'maxValReceived',\n",
        "                        'avg val received':'avgValReceived', 'min val sent':'minValSent', 'max val sent':'maxValSent',\n",
        "                        'avg val sent': 'avgValSent', 'total transactions (including tnx to create contract':'totalTransactions',\n",
        "                        'total Ether sent':'totalEtherSent', 'total ether received':'totalEtherReceived',\n",
        "                        'total ether sent contracts':'totalEtherSentContracts', 'total ether balance':'totalEtherBalance'}, inplace=True)"
      ]
    },
    {
      "cell_type": "code",
      "execution_count": null,
      "metadata": {
        "id": "a1meGyTcUmxJ"
      },
      "outputs": [],
      "source": [
        "df = pd.concat([data_1, data_2]) # COMBINE data_1 AND data_2"
      ]
    },
    {
      "cell_type": "markdown",
      "metadata": {
        "id": "rLpAKuE77161"
      },
      "source": [
        "### Data-types, completeness Information\n",
        "\n",
        "Using the Pandas \"info\" function, in addition to the data-type information for the dataset, we can look at counts of available records/missing records too."
      ]
    },
    {
      "cell_type": "code",
      "execution_count": null,
      "metadata": {
        "colab": {
          "base_uri": "https://localhost:8080/"
        },
        "id": "lsK5sL-v7161",
        "outputId": "d268e3e1-4994-4934-bb3b-2b38932d9fcc"
      },
      "outputs": [
        {
          "name": "stdout",
          "output_type": "stream",
          "text": [
            "<class 'pandas.core.frame.DataFrame'>\n",
            "Int64Index: 21987 entries, 0 to 9840\n",
            "Data columns (total 20 columns):\n",
            " #   Column                   Non-Null Count  Dtype  \n",
            "---  ------                   --------------  -----  \n",
            " 0   address                  21987 non-null  object \n",
            " 1   flag                     21987 non-null  int64  \n",
            " 2   avgTimeBetweenSentTnx    21987 non-null  float64\n",
            " 3   avgTimeBetweenRecTnx     21987 non-null  float64\n",
            " 4   sentTransactions         21987 non-null  int64  \n",
            " 5   receivedTransactions     21987 non-null  int64  \n",
            " 6   createdContracts         21987 non-null  int64  \n",
            " 7   numUniqSentAddress       21987 non-null  int64  \n",
            " 8   numUniqRecAddress        21987 non-null  int64  \n",
            " 9   minValSent               21987 non-null  float64\n",
            " 10  maxValSent               21987 non-null  float64\n",
            " 11  avgValSent               21987 non-null  float64\n",
            " 12  minValReceived           21987 non-null  float64\n",
            " 13  maxValReceived           21987 non-null  float64\n",
            " 14  avgValReceived           21987 non-null  float64\n",
            " 15  totalTransactions        21987 non-null  int64  \n",
            " 16  totalEtherSent           21987 non-null  float64\n",
            " 17  totalEtherReceived       21987 non-null  float64\n",
            " 18  totalEtherSentContracts  21987 non-null  float64\n",
            " 19  totalEtherBalance        21987 non-null  float64\n",
            "dtypes: float64(12), int64(7), object(1)\n",
            "memory usage: 3.5+ MB\n"
          ]
        }
      ],
      "source": [
        "df.info()"
      ]
    },
    {
      "cell_type": "code",
      "execution_count": null,
      "metadata": {
        "colab": {
          "base_uri": "https://localhost:8080/"
        },
        "id": "XLPL9Nf9T_5R",
        "outputId": "f10d4532-1ad6-47a1-8ed1-235c19a6bc25"
      },
      "outputs": [
        {
          "data": {
            "text/plain": [
              "address                    0\n",
              "flag                       0\n",
              "avgTimeBetweenSentTnx      0\n",
              "avgTimeBetweenRecTnx       0\n",
              "sentTransactions           0\n",
              "receivedTransactions       0\n",
              "createdContracts           0\n",
              "numUniqSentAddress         0\n",
              "numUniqRecAddress          0\n",
              "minValSent                 0\n",
              "maxValSent                 0\n",
              "avgValSent                 0\n",
              "minValReceived             0\n",
              "maxValReceived             0\n",
              "avgValReceived             0\n",
              "totalTransactions          0\n",
              "totalEtherSent             0\n",
              "totalEtherReceived         0\n",
              "totalEtherSentContracts    0\n",
              "totalEtherBalance          0\n",
              "dtype: int64"
            ]
          },
          "execution_count": 77,
          "metadata": {},
          "output_type": "execute_result"
        }
      ],
      "source": [
        "df.isnull().sum() # LOOK IF THERE IS ANY MISSING VALUES"
      ]
    },
    {
      "cell_type": "markdown",
      "metadata": {
        "id": "dICQUvkX7161"
      },
      "source": [
        "### Descriptive Statistics"
      ]
    },
    {
      "cell_type": "code",
      "execution_count": null,
      "metadata": {
        "colab": {
          "base_uri": "https://localhost:8080/",
          "height": 364
        },
        "id": "Ve8KwdLX7161",
        "outputId": "21ca84fc-3546-439a-fdb0-d3d3e82d91d5"
      },
      "outputs": [
        {
          "data": {
            "text/html": [
              "<div>\n",
              "<style scoped>\n",
              "    .dataframe tbody tr th:only-of-type {\n",
              "        vertical-align: middle;\n",
              "    }\n",
              "\n",
              "    .dataframe tbody tr th {\n",
              "        vertical-align: top;\n",
              "    }\n",
              "\n",
              "    .dataframe thead th {\n",
              "        text-align: right;\n",
              "    }\n",
              "</style>\n",
              "<table border=\"1\" class=\"dataframe\">\n",
              "  <thead>\n",
              "    <tr style=\"text-align: right;\">\n",
              "      <th></th>\n",
              "      <th>flag</th>\n",
              "      <th>avgTimeBetweenSentTnx</th>\n",
              "      <th>avgTimeBetweenRecTnx</th>\n",
              "      <th>sentTransactions</th>\n",
              "      <th>receivedTransactions</th>\n",
              "      <th>createdContracts</th>\n",
              "      <th>numUniqSentAddress</th>\n",
              "      <th>numUniqRecAddress</th>\n",
              "      <th>minValSent</th>\n",
              "      <th>maxValSent</th>\n",
              "      <th>avgValSent</th>\n",
              "      <th>minValReceived</th>\n",
              "      <th>maxValReceived</th>\n",
              "      <th>avgValReceived</th>\n",
              "      <th>totalTransactions</th>\n",
              "      <th>totalEtherSent</th>\n",
              "      <th>totalEtherReceived</th>\n",
              "      <th>totalEtherSentContracts</th>\n",
              "      <th>totalEtherBalance</th>\n",
              "    </tr>\n",
              "  </thead>\n",
              "  <tbody>\n",
              "    <tr>\n",
              "      <th>count</th>\n",
              "      <td>21987.000000</td>\n",
              "      <td>2.198700e+04</td>\n",
              "      <td>2.198700e+04</td>\n",
              "      <td>21987.000000</td>\n",
              "      <td>21987.000000</td>\n",
              "      <td>21987.000000</td>\n",
              "      <td>21987.000000</td>\n",
              "      <td>21987.000000</td>\n",
              "      <td>21987.000000</td>\n",
              "      <td>21987.000000</td>\n",
              "      <td>21987.000000</td>\n",
              "      <td>21987.000000</td>\n",
              "      <td>21987.000000</td>\n",
              "      <td>21987.000000</td>\n",
              "      <td>21987.000000</td>\n",
              "      <td>2.198700e+04</td>\n",
              "      <td>2.198700e+04</td>\n",
              "      <td>21987.000000</td>\n",
              "      <td>2.198700e+04</td>\n",
              "    </tr>\n",
              "    <tr>\n",
              "      <th>mean</th>\n",
              "      <td>0.333333</td>\n",
              "      <td>2.017807e+06</td>\n",
              "      <td>8.849104e+07</td>\n",
              "      <td>337.691409</td>\n",
              "      <td>448.022786</td>\n",
              "      <td>2.641788</td>\n",
              "      <td>66.613408</td>\n",
              "      <td>167.290535</td>\n",
              "      <td>5.603368</td>\n",
              "      <td>233.015954</td>\n",
              "      <td>26.741914</td>\n",
              "      <td>27.203154</td>\n",
              "      <td>380.656260</td>\n",
              "      <td>73.831433</td>\n",
              "      <td>788.355983</td>\n",
              "      <td>6.238740e+03</td>\n",
              "      <td>6.824447e+03</td>\n",
              "      <td>0.002042</td>\n",
              "      <td>5.857052e+02</td>\n",
              "    </tr>\n",
              "    <tr>\n",
              "      <th>std</th>\n",
              "      <td>0.471415</td>\n",
              "      <td>3.068441e+07</td>\n",
              "      <td>1.905694e+08</td>\n",
              "      <td>1496.171520</td>\n",
              "      <td>1807.664973</td>\n",
              "      <td>122.922835</td>\n",
              "      <td>496.873942</td>\n",
              "      <td>868.424851</td>\n",
              "      <td>206.194426</td>\n",
              "      <td>6315.603885</td>\n",
              "      <td>272.599897</td>\n",
              "      <td>427.784109</td>\n",
              "      <td>10626.929063</td>\n",
              "      <td>2767.424229</td>\n",
              "      <td>2405.265091</td>\n",
              "      <td>2.494383e+05</td>\n",
              "      <td>2.475040e+05</td>\n",
              "      <td>0.263258</td>\n",
              "      <td>1.694017e+05</td>\n",
              "    </tr>\n",
              "    <tr>\n",
              "      <th>min</th>\n",
              "      <td>0.000000</td>\n",
              "      <td>0.000000e+00</td>\n",
              "      <td>0.000000e+00</td>\n",
              "      <td>0.000000</td>\n",
              "      <td>0.000000</td>\n",
              "      <td>0.000000</td>\n",
              "      <td>0.000000</td>\n",
              "      <td>0.000000</td>\n",
              "      <td>0.000000</td>\n",
              "      <td>0.000000</td>\n",
              "      <td>0.000000</td>\n",
              "      <td>0.000000</td>\n",
              "      <td>0.000000</td>\n",
              "      <td>0.000000</td>\n",
              "      <td>0.000000</td>\n",
              "      <td>0.000000e+00</td>\n",
              "      <td>0.000000e+00</td>\n",
              "      <td>0.000000</td>\n",
              "      <td>-1.560535e+07</td>\n",
              "    </tr>\n",
              "    <tr>\n",
              "      <th>25%</th>\n",
              "      <td>0.000000</td>\n",
              "      <td>0.000000e+00</td>\n",
              "      <td>1.020000e+00</td>\n",
              "      <td>1.000000</td>\n",
              "      <td>2.000000</td>\n",
              "      <td>0.000000</td>\n",
              "      <td>1.000000</td>\n",
              "      <td>1.000000</td>\n",
              "      <td>0.000000</td>\n",
              "      <td>0.048303</td>\n",
              "      <td>0.008546</td>\n",
              "      <td>0.000000</td>\n",
              "      <td>0.300000</td>\n",
              "      <td>0.099454</td>\n",
              "      <td>4.000000</td>\n",
              "      <td>7.312695e-02</td>\n",
              "      <td>8.111346e-01</td>\n",
              "      <td>0.000000</td>\n",
              "      <td>0.000000e+00</td>\n",
              "    </tr>\n",
              "    <tr>\n",
              "      <th>50%</th>\n",
              "      <td>0.000000</td>\n",
              "      <td>2.171600e+02</td>\n",
              "      <td>1.033698e+04</td>\n",
              "      <td>3.000000</td>\n",
              "      <td>8.000000</td>\n",
              "      <td>0.000000</td>\n",
              "      <td>2.000000</td>\n",
              "      <td>3.000000</td>\n",
              "      <td>0.000000</td>\n",
              "      <td>1.991536</td>\n",
              "      <td>0.440000</td>\n",
              "      <td>0.011846</td>\n",
              "      <td>2.000000</td>\n",
              "      <td>0.624387</td>\n",
              "      <td>18.000000</td>\n",
              "      <td>5.167382e+00</td>\n",
              "      <td>8.870386e+00</td>\n",
              "      <td>0.000000</td>\n",
              "      <td>1.638000e-03</td>\n",
              "    </tr>\n",
              "    <tr>\n",
              "      <th>75%</th>\n",
              "      <td>1.000000</td>\n",
              "      <td>3.269873e+04</td>\n",
              "      <td>6.604927e+07</td>\n",
              "      <td>32.000000</td>\n",
              "      <td>42.000000</td>\n",
              "      <td>0.000000</td>\n",
              "      <td>8.000000</td>\n",
              "      <td>10.000000</td>\n",
              "      <td>0.439608</td>\n",
              "      <td>17.409571</td>\n",
              "      <td>4.512919</td>\n",
              "      <td>0.300000</td>\n",
              "      <td>14.934265</td>\n",
              "      <td>3.322822</td>\n",
              "      <td>133.000000</td>\n",
              "      <td>6.222540e+01</td>\n",
              "      <td>7.798907e+01</td>\n",
              "      <td>0.000000</td>\n",
              "      <td>4.201412e-02</td>\n",
              "    </tr>\n",
              "    <tr>\n",
              "      <th>max</th>\n",
              "      <td>1.000000</td>\n",
              "      <td>8.291299e+08</td>\n",
              "      <td>8.309932e+08</td>\n",
              "      <td>10000.000000</td>\n",
              "      <td>10000.000000</td>\n",
              "      <td>9995.000000</td>\n",
              "      <td>9950.000000</td>\n",
              "      <td>9999.000000</td>\n",
              "      <td>25533.614329</td>\n",
              "      <td>611102.014456</td>\n",
              "      <td>25533.614329</td>\n",
              "      <td>25533.614518</td>\n",
              "      <td>800000.000000</td>\n",
              "      <td>283618.831600</td>\n",
              "      <td>19995.000000</td>\n",
              "      <td>2.858096e+07</td>\n",
              "      <td>2.858159e+07</td>\n",
              "      <td>39.000000</td>\n",
              "      <td>1.428864e+07</td>\n",
              "    </tr>\n",
              "  </tbody>\n",
              "</table>\n",
              "</div>"
            ],
            "text/plain": [
              "               flag  avgTimeBetweenSentTnx  avgTimeBetweenRecTnx  \\\n",
              "count  21987.000000           2.198700e+04          2.198700e+04   \n",
              "mean       0.333333           2.017807e+06          8.849104e+07   \n",
              "std        0.471415           3.068441e+07          1.905694e+08   \n",
              "min        0.000000           0.000000e+00          0.000000e+00   \n",
              "25%        0.000000           0.000000e+00          1.020000e+00   \n",
              "50%        0.000000           2.171600e+02          1.033698e+04   \n",
              "75%        1.000000           3.269873e+04          6.604927e+07   \n",
              "max        1.000000           8.291299e+08          8.309932e+08   \n",
              "\n",
              "       sentTransactions  receivedTransactions  createdContracts  \\\n",
              "count      21987.000000          21987.000000      21987.000000   \n",
              "mean         337.691409            448.022786          2.641788   \n",
              "std         1496.171520           1807.664973        122.922835   \n",
              "min            0.000000              0.000000          0.000000   \n",
              "25%            1.000000              2.000000          0.000000   \n",
              "50%            3.000000              8.000000          0.000000   \n",
              "75%           32.000000             42.000000          0.000000   \n",
              "max        10000.000000          10000.000000       9995.000000   \n",
              "\n",
              "       numUniqSentAddress  numUniqRecAddress    minValSent     maxValSent  \\\n",
              "count        21987.000000       21987.000000  21987.000000   21987.000000   \n",
              "mean            66.613408         167.290535      5.603368     233.015954   \n",
              "std            496.873942         868.424851    206.194426    6315.603885   \n",
              "min              0.000000           0.000000      0.000000       0.000000   \n",
              "25%              1.000000           1.000000      0.000000       0.048303   \n",
              "50%              2.000000           3.000000      0.000000       1.991536   \n",
              "75%              8.000000          10.000000      0.439608      17.409571   \n",
              "max           9950.000000        9999.000000  25533.614329  611102.014456   \n",
              "\n",
              "         avgValSent  minValReceived  maxValReceived  avgValReceived  \\\n",
              "count  21987.000000    21987.000000    21987.000000    21987.000000   \n",
              "mean      26.741914       27.203154      380.656260       73.831433   \n",
              "std      272.599897      427.784109    10626.929063     2767.424229   \n",
              "min        0.000000        0.000000        0.000000        0.000000   \n",
              "25%        0.008546        0.000000        0.300000        0.099454   \n",
              "50%        0.440000        0.011846        2.000000        0.624387   \n",
              "75%        4.512919        0.300000       14.934265        3.322822   \n",
              "max    25533.614329    25533.614518   800000.000000   283618.831600   \n",
              "\n",
              "       totalTransactions  totalEtherSent  totalEtherReceived  \\\n",
              "count       21987.000000    2.198700e+04        2.198700e+04   \n",
              "mean          788.355983    6.238740e+03        6.824447e+03   \n",
              "std          2405.265091    2.494383e+05        2.475040e+05   \n",
              "min             0.000000    0.000000e+00        0.000000e+00   \n",
              "25%             4.000000    7.312695e-02        8.111346e-01   \n",
              "50%            18.000000    5.167382e+00        8.870386e+00   \n",
              "75%           133.000000    6.222540e+01        7.798907e+01   \n",
              "max         19995.000000    2.858096e+07        2.858159e+07   \n",
              "\n",
              "       totalEtherSentContracts  totalEtherBalance  \n",
              "count             21987.000000       2.198700e+04  \n",
              "mean                  0.002042       5.857052e+02  \n",
              "std                   0.263258       1.694017e+05  \n",
              "min                   0.000000      -1.560535e+07  \n",
              "25%                   0.000000       0.000000e+00  \n",
              "50%                   0.000000       1.638000e-03  \n",
              "75%                   0.000000       4.201412e-02  \n",
              "max                  39.000000       1.428864e+07  "
            ]
          },
          "execution_count": 78,
          "metadata": {},
          "output_type": "execute_result"
        }
      ],
      "source": [
        "df.describe()\n",
        "# Additonal: \n",
        "#     We can also make a guess at the skewness of the data at this stage by looking at the difference between\n",
        "#     the means and medians of numerical features"
      ]
    },
    {
      "cell_type": "code",
      "execution_count": null,
      "metadata": {
        "colab": {
          "base_uri": "https://localhost:8080/"
        },
        "id": "3y3v78PK7161",
        "outputId": "fe690fee-6b74-4c0d-e6aa-a712e5d7ee2f"
      },
      "outputs": [
        {
          "data": {
            "text/plain": [
              "125"
            ]
          },
          "execution_count": 79,
          "metadata": {},
          "output_type": "execute_result"
        }
      ],
      "source": [
        "df.duplicated().sum() # LOOK FOR ANY DUPLICATES IN DATA"
      ]
    },
    {
      "cell_type": "code",
      "execution_count": null,
      "metadata": {
        "colab": {
          "base_uri": "https://localhost:8080/"
        },
        "id": "cLNwk283U53y",
        "outputId": "b03f6f1e-d4cd-4425-e514-822856641b52"
      },
      "outputs": [
        {
          "data": {
            "text/plain": [
              "0"
            ]
          },
          "execution_count": 80,
          "metadata": {},
          "output_type": "execute_result"
        }
      ],
      "source": [
        "df.drop_duplicates(inplace=True) # REMOVING DUPLICATES\n",
        "df.duplicated().sum()"
      ]
    },
    {
      "cell_type": "markdown",
      "metadata": {
        "collapsed": true,
        "id": "M7xA2Kt87162"
      },
      "source": [
        "### Visualizaton: Distribution of features"
      ]
    },
    {
      "cell_type": "markdown",
      "metadata": {
        "id": "fGMDN50c7162"
      },
      "source": [
        "Visualization techniques differ depending on the type of the feature vector (i.e. numerical: continuous or discrete, categorical: ordinal etc). Techniques will also depend on the type of data being dealt with, and the insight that we want to extract from it. \n",
        "\n",
        "Common visualization techniques include:\n",
        "- Bar Plots: Visualize the frequency distribution of categorical features.\n",
        "- Histograms: Visualize the frequency distribution of numerical features.\n",
        "- Box Plots: Visualize a numerical feature, while providing more information like the median, lower/upper quantiles etc..\n",
        "- Scatter Plots: Visualize the relationship (usually the correlation) between two features. Can include a goodness of fit line, to serve as a regression plot."
      ]
    },
    {
      "cell_type": "code",
      "execution_count": null,
      "metadata": {
        "colab": {
          "base_uri": "https://localhost:8080/",
          "height": 933
        },
        "id": "c3jJl9RnVSNo",
        "outputId": "c97ac148-36c0-4ca7-bdaa-d1050f86283d"
      },
      "outputs": [
        {
          "data": {
            "text/plain": [
              "<AxesSubplot:>"
            ]
          },
          "execution_count": 81,
          "metadata": {},
          "output_type": "execute_result"
        },
        {
          "data": {
            "image/png": "[encoded data removed]",
            "text/plain": [
              "<Figure size 2880x1440 with 1 Axes>"
            ]
          },
          "metadata": {
            "needs_background": "light"
          },
          "output_type": "display_data"
        }
      ],
      "source": [
        "# PLOT FEATURES TO SEE THE OUTLIERS\n",
        "plt.figure(figsize=(40, 20))\n",
        "sns.boxplot(data=df)"
      ]
    },
    {
      "cell_type": "markdown",
      "metadata": {
        "id": "3OKh0E5_7163"
      },
      "source": [
        "### Visualizing prediction vector"
      ]
    },
    {
      "cell_type": "code",
      "execution_count": null,
      "metadata": {
        "colab": {
          "base_uri": "https://localhost:8080/",
          "height": 296
        },
        "id": "ebsZkJvR7163",
        "outputId": "e6063016-8a5b-403d-bd0a-7f87eed2c1fb"
      },
      "outputs": [
        {
          "data": {
            "text/plain": [
              "<AxesSubplot:xlabel='flag', ylabel='count'>"
            ]
          },
          "execution_count": 82,
          "metadata": {},
          "output_type": "execute_result"
        },
        {
          "data": {
            "image/png": "[encoded data removed]",
            "text/plain": [
              "<Figure size 432x288 with 1 Axes>"
            ]
          },
          "metadata": {
            "needs_background": "light"
          },
          "output_type": "display_data"
        }
      ],
      "source": [
        "sns.countplot(x=\"flag\", data=df) # We notice a bias in our dataset where there are more samples with no fraud then frauds(imbalance in predictive class)"
      ]
    },
    {
      "cell_type": "markdown",
      "metadata": {
        "id": "ihW15JFgGw8X"
      },
      "source": [
        "### Visualizing: Correlation between features under fraud and non-fraud transactions\n"
      ]
    },
    {
      "cell_type": "code",
      "execution_count": null,
      "metadata": {
        "id": "AAx5cCukGw8X"
      },
      "outputs": [],
      "source": [
        "fraud_df = np.where(df['flag'] == 1)\n",
        "fraud_df = df.iloc[fraud_df]\n",
        "\n",
        "non_fraud_df = np.where(df['flag'] == 0)\n",
        "non_fraud_df = df.iloc[non_fraud_df]"
      ]
    },
    {
      "cell_type": "code",
      "execution_count": null,
      "metadata": {
        "id": "YOpQZFqRGw8X",
        "outputId": "67cc8ca8-d165-4f33-e4c9-71f8b85856cb"
      },
      "outputs": [
        {
          "data": {
            "image/png": "[encoded data removed]",
            "text/plain": [
              "<Figure size 1800x576 with 4 Axes>"
            ]
          },
          "metadata": {
            "needs_background": "light"
          },
          "output_type": "display_data"
        }
      ],
      "source": [
        "fig, (ax1, ax2) = plt.subplots(ncols=2, figsize=(25, 8))\n",
        "\n",
        "mask = np.triu(np.ones_like(fraud_df.corr(), dtype=bool))\n",
        "ax1.set_title('Fraud', size =15)\n",
        "sns.heatmap(fraud_df.corr(), annot=True,  linewidth=0.5, fmt=\".2f\", cmap=\"crest\", mask=mask, ax=ax1)\n",
        "\n",
        "mask2 = np.triu(np.ones_like(non_fraud_df.corr(), dtype=bool))\n",
        "ax2.set_title('Non-Fraud', size =15)\n",
        "sns.heatmap(non_fraud_df.corr(), annot=True,  linewidth=0.5, fmt=\".2f\", cmap=\"crest\", mask=mask2, ax=ax2)\n",
        "\n",
        "plt.tight_layout()"
      ]
    },
    {
      "cell_type": "markdown",
      "metadata": {
        "id": "dxHPvk7ZFeCf"
      },
      "source": [
        "### Hypothesis Testing"
      ]
    },
    {
      "cell_type": "code",
      "execution_count": null,
      "metadata": {
        "id": "_P8LuLt_FeCf"
      },
      "outputs": [],
      "source": [
        "def hyp_test(col1, col2, df, alpha):\n",
        "    fraud_sample = np.array([np.mean(df[df[col1]==1].sample(20)[col2].values) for i in range(500)])\n",
        "    no_fraud_sample = np.array([np.mean(df[df[col1]==0].sample(20)[col2].values) for i in range(500)])\n",
        "\n",
        "    effect = np.mean(fraud_sample) - np.mean(no_fraud_sample)\n",
        "    sigma_first = np.std(fraud_sample)\n",
        "    sigma_second = np.std(no_fraud_sample)\n",
        "    sigma_difference = np.sqrt((sigma_first**2)/len(fraud_sample)  +  (sigma_second**2)/len(no_fraud_sample))\n",
        "    z_score = effect / sigma_difference # getting z-score\n",
        "\n",
        "    p_value = stats.norm.sf(abs(z_score))*2 # getting p-value\n",
        "\n",
        "    if p_value > alpha:\n",
        "        print(\"We fail to reject Null hypothesis\")\n",
        "    elif p_value <= alpha:\n",
        "        print(\"We reject null hypothesis\")"
      ]
    },
    {
      "cell_type": "markdown",
      "metadata": {
        "id": "-wEkMM-vFeCf"
      },
      "source": [
        "H0: Fradulent transactions are independent of average times between transactions recieved\n",
        "\n",
        "H1: Fradulent transactions are dependent of average times between transactions recieved\n",
        "\n",
        "cutoff = 0.05"
      ]
    },
    {
      "cell_type": "code",
      "execution_count": null,
      "metadata": {
        "colab": {
          "base_uri": "https://localhost:8080/",
          "height": 306
        },
        "id": "Kch-RoXwFeCg",
        "outputId": "1f11150e-50f2-401a-e4e3-0ef12b6da979"
      },
      "outputs": [
        {
          "data": {
            "text/plain": [
              "<AxesSubplot:ylabel='Density'>"
            ]
          },
          "execution_count": 84,
          "metadata": {},
          "output_type": "execute_result"
        },
        {
          "data": {
            "image/png": "[encoded data removed]",
            "text/plain": [
              "<Figure size 432x288 with 1 Axes>"
            ]
          },
          "metadata": {
            "needs_background": "light"
          },
          "output_type": "display_data"
        }
      ],
      "source": [
        "df['avgTimeBetweenRecTnx'].plot(kind='kde') #Check distribution of average times"
      ]
    },
    {
      "cell_type": "code",
      "execution_count": null,
      "metadata": {
        "colab": {
          "base_uri": "https://localhost:8080/"
        },
        "id": "SCMX0zyKFeDF",
        "outputId": "ab3a8594-32ac-48a0-8a2b-4353874f2cf0"
      },
      "outputs": [
        {
          "name": "stdout",
          "output_type": "stream",
          "text": [
            "We reject null hypothesis\n"
          ]
        }
      ],
      "source": [
        "alpha = 0.05\n",
        "hyp_test('flag', 'avgTimeBetweenRecTnx', df, alpha =0.05)"
      ]
    },
    {
      "cell_type": "markdown",
      "metadata": {
        "id": "SyVWAZgkFeDF"
      },
      "source": [
        "H0: Fradulent transactions are independent of amount of Ether sent\n",
        "\n",
        "H1: Fradulent transactions are dependent on amount of Ether sent\n",
        "\n",
        "cutoff = 0.05"
      ]
    },
    {
      "cell_type": "code",
      "execution_count": null,
      "metadata": {
        "colab": {
          "base_uri": "https://localhost:8080/",
          "height": 306
        },
        "id": "rcTdxDKpFeDG",
        "outputId": "4e0bfe03-df3c-4269-c230-7fc58ed02f00"
      },
      "outputs": [
        {
          "data": {
            "text/plain": [
              "<AxesSubplot:ylabel='Density'>"
            ]
          },
          "execution_count": 86,
          "metadata": {},
          "output_type": "execute_result"
        },
        {
          "data": {
            "image/png": "[encoded data removed]",
            "text/plain": [
              "<Figure size 432x288 with 1 Axes>"
            ]
          },
          "metadata": {
            "needs_background": "light"
          },
          "output_type": "display_data"
        }
      ],
      "source": [
        "df['totalEtherSent'].plot(kind='kde') #Check distribution of total ether sent"
      ]
    },
    {
      "cell_type": "code",
      "execution_count": null,
      "metadata": {
        "colab": {
          "base_uri": "https://localhost:8080/"
        },
        "id": "2td4bXgbFeDG",
        "outputId": "13066ea5-a868-481b-b2d7-16a0ccbb96d7"
      },
      "outputs": [
        {
          "name": "stdout",
          "output_type": "stream",
          "text": [
            "We reject null hypothesis\n"
          ]
        }
      ],
      "source": [
        "alpha = 0.05\n",
        "hyp_test('flag', 'totalEtherSent', df, alpha =0.05)"
      ]
    },
    {
      "cell_type": "markdown",
      "metadata": {
        "id": "uQwAnGWJFeDG"
      },
      "source": [
        "H0: Fradulent transactions are independent of Ether balance\n",
        "\n",
        "H1: Fradulent transactions are dependent on Ether balance\n",
        "\n",
        "cutoff = 0.05"
      ]
    },
    {
      "cell_type": "code",
      "execution_count": null,
      "metadata": {
        "colab": {
          "base_uri": "https://localhost:8080/",
          "height": 306
        },
        "id": "aMvIOYmLFeDG",
        "outputId": "3b11d2bb-9d1f-4f4a-88e5-da43daed723b"
      },
      "outputs": [
        {
          "data": {
            "text/plain": [
              "<AxesSubplot:ylabel='Density'>"
            ]
          },
          "execution_count": 88,
          "metadata": {},
          "output_type": "execute_result"
        },
        {
          "data": {
            "image/png": "[encoded data removed]",
            "text/plain": [
              "<Figure size 432x288 with 1 Axes>"
            ]
          },
          "metadata": {
            "needs_background": "light"
          },
          "output_type": "display_data"
        }
      ],
      "source": [
        "df['totalEtherBalance'].plot(kind='kde') #Check distribution of total ether balance"
      ]
    },
    {
      "cell_type": "code",
      "execution_count": null,
      "metadata": {
        "colab": {
          "base_uri": "https://localhost:8080/"
        },
        "id": "RLhwFrsEFeDG",
        "outputId": "c3fa98a2-2aba-4ba6-ff6f-bff82ce2954e"
      },
      "outputs": [
        {
          "name": "stdout",
          "output_type": "stream",
          "text": [
            "We fail to reject Null hypothesis\n"
          ]
        }
      ],
      "source": [
        "alpha = 0.05\n",
        "hyp_test('flag', 'totalEtherBalance', df, alpha =0.05)"
      ]
    },
    {
      "cell_type": "markdown",
      "metadata": {
        "id": "Odr3V9u0FeDG"
      },
      "source": [
        "H0: Fradulent transactions are independent of total number of transactions made\n",
        "\n",
        "H1: Fradulent transactions are dependent on total number of transactions made\n",
        "\n",
        "cutoff = 0.05"
      ]
    },
    {
      "cell_type": "code",
      "execution_count": null,
      "metadata": {
        "colab": {
          "base_uri": "https://localhost:8080/",
          "height": 282
        },
        "id": "oQ44jQRKFeDG",
        "outputId": "f64c14d8-ceb3-4b31-fd4d-6146a0db7d96"
      },
      "outputs": [
        {
          "data": {
            "text/plain": [
              "<AxesSubplot:ylabel='Density'>"
            ]
          },
          "execution_count": 90,
          "metadata": {},
          "output_type": "execute_result"
        },
        {
          "data": {
            "image/png": "[encoded data removed]",
            "text/plain": [
              "<Figure size 432x288 with 1 Axes>"
            ]
          },
          "metadata": {
            "needs_background": "light"
          },
          "output_type": "display_data"
        }
      ],
      "source": [
        "df['receivedTransactions'].plot(kind='kde') #Check distribution of total transactions received\n"
      ]
    },
    {
      "cell_type": "code",
      "execution_count": null,
      "metadata": {
        "colab": {
          "base_uri": "https://localhost:8080/"
        },
        "id": "MabWIJZvFeDH",
        "outputId": "7b166b76-51ec-460e-d67b-a0ca2ffa8f07"
      },
      "outputs": [
        {
          "name": "stdout",
          "output_type": "stream",
          "text": [
            "We reject null hypothesis\n"
          ]
        }
      ],
      "source": [
        "alpha = 0.05\n",
        "hyp_test('flag', 'receivedTransactions', df, alpha =0.05)"
      ]
    },
    {
      "cell_type": "markdown",
      "metadata": {
        "id": "2a6g7otV7163"
      },
      "source": [
        "### Outlier Detection"
      ]
    },
    {
      "cell_type": "markdown",
      "metadata": {
        "id": "QZYHXFG27163"
      },
      "source": [
        "The presence of outliers can often skew results which take into consideration these data points. \n"
      ]
    },
    {
      "cell_type": "code",
      "execution_count": null,
      "metadata": {
        "colab": {
          "base_uri": "https://localhost:8080/"
        },
        "id": "2AwEMGRn7164",
        "outputId": "29f4c276-3e1d-4ab6-f667-4b46aed6f0ca"
      },
      "outputs": [
        {
          "name": "stderr",
          "output_type": "stream",
          "text": [
            "C:\\Users\\rieke\\AppData\\Local\\Temp\\ipykernel_3872\\3312197560.py:1: FutureWarning: Dropping of nuisance columns in DataFrame reductions (with 'numeric_only=None') is deprecated; in a future version this will raise TypeError.  Select only valid columns before calling the reduction.\n",
            "  df.skew(axis = 0, skipna = True).sort_values() # CHECK THE SKEWNESS OF THE DATA\n"
          ]
        },
        {
          "data": {
            "text/plain": [
              "totalEtherBalance           -3.218564\n",
              "flag                         0.719930\n",
              "avgTimeBetweenRecTnx         2.620069\n",
              "totalTransactions            3.425968\n",
              "receivedTransactions         4.673886\n",
              "sentTransactions             5.568895\n",
              "numUniqRecAddress            6.753592\n",
              "numUniqSentAddress          12.528606\n",
              "avgTimeBetweenSentTnx       21.763417\n",
              "minValReceived              43.451106\n",
              "avgValSent                  53.459817\n",
              "maxValReceived              58.327570\n",
              "createdContracts            63.004272\n",
              "maxValSent                  73.548959\n",
              "totalEtherReceived          83.881310\n",
              "totalEtherSent              84.067256\n",
              "avgValReceived              97.952199\n",
              "minValSent                  98.741249\n",
              "totalEtherSentContracts    147.452227\n",
              "dtype: float64"
            ]
          },
          "execution_count": 92,
          "metadata": {},
          "output_type": "execute_result"
        }
      ],
      "source": [
        "df.skew(axis = 0, skipna = True).sort_values() # CHECK THE SKEWNESS OF THE DATA"
      ]
    },
    {
      "cell_type": "markdown",
      "metadata": {
        "id": "YopIdN9m7166"
      },
      "source": [
        "## Data Transformation and Preparation"
      ]
    },
    {
      "cell_type": "markdown",
      "metadata": {
        "id": "IJ-BcDSJ7166"
      },
      "source": [
        "### Transforming Skewed Continous Features "
      ]
    },
    {
      "cell_type": "markdown",
      "metadata": {
        "id": "QXfpIWIt7166"
      },
      "source": [
        "It is common practice to apply a logarthmic transformation to highly skewed continuous feature distributions. A typical flow for this is in a commented code block below."
      ]
    },
    {
      "cell_type": "code",
      "execution_count": null,
      "metadata": {
        "id": "PcwpEuvR7167"
      },
      "outputs": [],
      "source": [
        "# SPLIT DATA TO PREPARE IT FOR THE DATA TRANSFORMATION\n",
        "X = df.drop('flag',axis=1)\n",
        "y = df['flag']\n",
        "\n",
        "df2 = X.copy()\n",
        "from scipy import stats\n",
        "\n",
        "# BOX COX DATA TRANSFORMATION TO HANDLE SKEWED DATA(IT TRANSFORMS DATA TO HAVE BETTER DISTRIBUTION)\n",
        "# makes a better distribution of the data so that outliers have minimal impact on our ml model\n",
        "# we only transform features that are numerical , not categorical\n",
        "\n",
        "for col in df2:\n",
        "  if df2[col].dtypes == 'int64' or df2[col].dtypes == 'float64':\n",
        "    posdata = df2[col][df2[col] > 0]\n",
        "    col_data, fitted_lambda = stats.boxcox(posdata)\n",
        "    df2.loc[df2[col] > 0, col] = col_data\n",
        "df_final = df2.copy()"
      ]
    },
    {
      "cell_type": "code",
      "execution_count": null,
      "metadata": {
        "colab": {
          "base_uri": "https://localhost:8080/"
        },
        "id": "ej7l-tWe7167",
        "outputId": "0d8b1f2d-1876-41bd-ca45-74966dcd566a"
      },
      "outputs": [
        {
          "name": "stderr",
          "output_type": "stream",
          "text": [
            "C:\\Users\\rieke\\AppData\\Local\\Temp\\ipykernel_3872\\3022671192.py:1: FutureWarning: Dropping of nuisance columns in DataFrame reductions (with 'numeric_only=None') is deprecated; in a future version this will raise TypeError.  Select only valid columns before calling the reduction.\n",
            "  df_final.skew(axis = 0, skipna = True).sort_values()\n"
          ]
        },
        {
          "data": {
            "text/plain": [
              "totalEtherBalance         -113.841353\n",
              "totalEtherSentContracts    -32.452553\n",
              "minValSent                  -0.714737\n",
              "minValReceived              -0.492611\n",
              "avgValReceived               0.023142\n",
              "avgValSent                   0.029651\n",
              "maxValReceived               0.074183\n",
              "totalTransactions            0.094538\n",
              "totalEtherReceived           0.159352\n",
              "avgTimeBetweenRecTnx         0.171635\n",
              "receivedTransactions         0.191791\n",
              "numUniqRecAddress            0.261355\n",
              "maxValSent                   0.318413\n",
              "avgTimeBetweenSentTnx        0.337046\n",
              "sentTransactions             0.466997\n",
              "totalEtherSent               0.499708\n",
              "numUniqSentAddress           0.560156\n",
              "createdContracts             9.983197\n",
              "dtype: float64"
            ]
          },
          "execution_count": 94,
          "metadata": {},
          "output_type": "execute_result"
        }
      ],
      "source": [
        "df_final.skew(axis = 0, skipna = True).sort_values()"
      ]
    },
    {
      "cell_type": "markdown",
      "metadata": {
        "id": "DeM0oejkWnc1"
      },
      "source": [
        "We can see that we get less skewed data after applying boxcox, with only 3 features that are still skew compared to 18 skewed features before transforming"
      ]
    },
    {
      "cell_type": "markdown",
      "metadata": {
        "id": "YN-WalGS7167"
      },
      "source": [
        "### Normalizing Numerical Features "
      ]
    },
    {
      "cell_type": "markdown",
      "metadata": {
        "id": "nm9d89Om7167"
      },
      "source": [
        "Another common practice is to perform some type of scaling on numerical features. Applying scaling doesn't change the shape of each feature's distribution; but ensures that each feature is treated equally when applying supervised learners."
      ]
    },
    {
      "cell_type": "code",
      "execution_count": null,
      "metadata": {
        "id": "8Y96ZLOI7167"
      },
      "outputs": [],
      "source": [
        "# we standardize the data with StandardScaler we basically just does z = (x-mean)/standard deviation\n",
        "df_final = df_final.drop('address',axis=1)\n",
        "standardizer = StandardScaler()\n",
        "standardized_data = standardizer.fit_transform(df_final)\n",
        "\n",
        "df_standard = pd.DataFrame(standardized_data, columns=df_final.columns)"
      ]
    },
    {
      "cell_type": "code",
      "execution_count": null,
      "metadata": {
        "colab": {
          "base_uri": "https://localhost:8080/",
          "height": 270
        },
        "id": "WYlIjPL07167",
        "outputId": "5dfe0b4b-0efb-4bb0-f46c-55835361b1b6"
      },
      "outputs": [
        {
          "data": {
            "text/html": [
              "<div>\n",
              "<style scoped>\n",
              "    .dataframe tbody tr th:only-of-type {\n",
              "        vertical-align: middle;\n",
              "    }\n",
              "\n",
              "    .dataframe tbody tr th {\n",
              "        vertical-align: top;\n",
              "    }\n",
              "\n",
              "    .dataframe thead th {\n",
              "        text-align: right;\n",
              "    }\n",
              "</style>\n",
              "<table border=\"1\" class=\"dataframe\">\n",
              "  <thead>\n",
              "    <tr style=\"text-align: right;\">\n",
              "      <th></th>\n",
              "      <th>avgTimeBetweenSentTnx</th>\n",
              "      <th>avgTimeBetweenRecTnx</th>\n",
              "      <th>sentTransactions</th>\n",
              "      <th>receivedTransactions</th>\n",
              "      <th>createdContracts</th>\n",
              "      <th>numUniqSentAddress</th>\n",
              "      <th>numUniqRecAddress</th>\n",
              "      <th>minValSent</th>\n",
              "      <th>maxValSent</th>\n",
              "      <th>avgValSent</th>\n",
              "      <th>minValReceived</th>\n",
              "      <th>maxValReceived</th>\n",
              "      <th>avgValReceived</th>\n",
              "      <th>totalTransactions</th>\n",
              "      <th>totalEtherSent</th>\n",
              "      <th>totalEtherReceived</th>\n",
              "      <th>totalEtherSentContracts</th>\n",
              "      <th>totalEtherBalance</th>\n",
              "    </tr>\n",
              "  </thead>\n",
              "  <tbody>\n",
              "    <tr>\n",
              "      <th>0</th>\n",
              "      <td>0.990254</td>\n",
              "      <td>1.062077</td>\n",
              "      <td>1.102766</td>\n",
              "      <td>0.481231</td>\n",
              "      <td>-0.09919</td>\n",
              "      <td>1.568607</td>\n",
              "      <td>1.007200</td>\n",
              "      <td>0.236215</td>\n",
              "      <td>1.559800</td>\n",
              "      <td>0.630309</td>\n",
              "      <td>-0.636442</td>\n",
              "      <td>1.628231</td>\n",
              "      <td>1.070049</td>\n",
              "      <td>0.630022</td>\n",
              "      <td>1.286401</td>\n",
              "      <td>1.194415</td>\n",
              "      <td>0.032857</td>\n",
              "      <td>0.014673</td>\n",
              "    </tr>\n",
              "    <tr>\n",
              "      <th>1</th>\n",
              "      <td>-1.094791</td>\n",
              "      <td>1.529180</td>\n",
              "      <td>-1.071426</td>\n",
              "      <td>-0.836902</td>\n",
              "      <td>-0.09919</td>\n",
              "      <td>-0.980744</td>\n",
              "      <td>-0.488049</td>\n",
              "      <td>0.236215</td>\n",
              "      <td>-0.469916</td>\n",
              "      <td>-0.038562</td>\n",
              "      <td>-1.188476</td>\n",
              "      <td>-1.997764</td>\n",
              "      <td>-1.630478</td>\n",
              "      <td>-1.379166</td>\n",
              "      <td>-0.647831</td>\n",
              "      <td>-1.927021</td>\n",
              "      <td>0.032857</td>\n",
              "      <td>0.014642</td>\n",
              "    </tr>\n",
              "    <tr>\n",
              "      <th>2</th>\n",
              "      <td>1.708255</td>\n",
              "      <td>1.053293</td>\n",
              "      <td>0.548911</td>\n",
              "      <td>0.501457</td>\n",
              "      <td>-0.09919</td>\n",
              "      <td>1.079560</td>\n",
              "      <td>1.101833</td>\n",
              "      <td>0.236215</td>\n",
              "      <td>0.764414</td>\n",
              "      <td>0.983630</td>\n",
              "      <td>0.317770</td>\n",
              "      <td>1.038705</td>\n",
              "      <td>0.827471</td>\n",
              "      <td>0.286820</td>\n",
              "      <td>1.064519</td>\n",
              "      <td>0.991605</td>\n",
              "      <td>0.032857</td>\n",
              "      <td>0.014672</td>\n",
              "    </tr>\n",
              "    <tr>\n",
              "      <th>3</th>\n",
              "      <td>0.723344</td>\n",
              "      <td>0.762165</td>\n",
              "      <td>1.253017</td>\n",
              "      <td>1.097946</td>\n",
              "      <td>-0.09919</td>\n",
              "      <td>1.608723</td>\n",
              "      <td>1.626989</td>\n",
              "      <td>0.236215</td>\n",
              "      <td>2.098147</td>\n",
              "      <td>1.030859</td>\n",
              "      <td>-0.841394</td>\n",
              "      <td>1.516157</td>\n",
              "      <td>1.004981</td>\n",
              "      <td>0.946943</td>\n",
              "      <td>1.856391</td>\n",
              "      <td>1.702888</td>\n",
              "      <td>0.032857</td>\n",
              "      <td>0.014635</td>\n",
              "    </tr>\n",
              "    <tr>\n",
              "      <th>4</th>\n",
              "      <td>-1.094791</td>\n",
              "      <td>1.385448</td>\n",
              "      <td>-1.071426</td>\n",
              "      <td>-0.380741</td>\n",
              "      <td>-0.09919</td>\n",
              "      <td>-0.980744</td>\n",
              "      <td>0.125843</td>\n",
              "      <td>0.566486</td>\n",
              "      <td>-0.228777</td>\n",
              "      <td>0.208009</td>\n",
              "      <td>-1.351767</td>\n",
              "      <td>-0.349198</td>\n",
              "      <td>-0.226705</td>\n",
              "      <td>-0.758518</td>\n",
              "      <td>-0.460246</td>\n",
              "      <td>-0.490133</td>\n",
              "      <td>0.032857</td>\n",
              "      <td>0.014621</td>\n",
              "    </tr>\n",
              "  </tbody>\n",
              "</table>\n",
              "</div>"
            ],
            "text/plain": [
              "   avgTimeBetweenSentTnx  avgTimeBetweenRecTnx  sentTransactions  \\\n",
              "0               0.990254              1.062077          1.102766   \n",
              "1              -1.094791              1.529180         -1.071426   \n",
              "2               1.708255              1.053293          0.548911   \n",
              "3               0.723344              0.762165          1.253017   \n",
              "4              -1.094791              1.385448         -1.071426   \n",
              "\n",
              "   receivedTransactions  createdContracts  numUniqSentAddress  \\\n",
              "0              0.481231          -0.09919            1.568607   \n",
              "1             -0.836902          -0.09919           -0.980744   \n",
              "2              0.501457          -0.09919            1.079560   \n",
              "3              1.097946          -0.09919            1.608723   \n",
              "4             -0.380741          -0.09919           -0.980744   \n",
              "\n",
              "   numUniqRecAddress  minValSent  maxValSent  avgValSent  minValReceived  \\\n",
              "0           1.007200    0.236215    1.559800    0.630309       -0.636442   \n",
              "1          -0.488049    0.236215   -0.469916   -0.038562       -1.188476   \n",
              "2           1.101833    0.236215    0.764414    0.983630        0.317770   \n",
              "3           1.626989    0.236215    2.098147    1.030859       -0.841394   \n",
              "4           0.125843    0.566486   -0.228777    0.208009       -1.351767   \n",
              "\n",
              "   maxValReceived  avgValReceived  totalTransactions  totalEtherSent  \\\n",
              "0        1.628231        1.070049           0.630022        1.286401   \n",
              "1       -1.997764       -1.630478          -1.379166       -0.647831   \n",
              "2        1.038705        0.827471           0.286820        1.064519   \n",
              "3        1.516157        1.004981           0.946943        1.856391   \n",
              "4       -0.349198       -0.226705          -0.758518       -0.460246   \n",
              "\n",
              "   totalEtherReceived  totalEtherSentContracts  totalEtherBalance  \n",
              "0            1.194415                 0.032857           0.014673  \n",
              "1           -1.927021                 0.032857           0.014642  \n",
              "2            0.991605                 0.032857           0.014672  \n",
              "3            1.702888                 0.032857           0.014635  \n",
              "4           -0.490133                 0.032857           0.014621  "
            ]
          },
          "execution_count": 96,
          "metadata": {},
          "output_type": "execute_result"
        }
      ],
      "source": [
        "df_standard.head()"
      ]
    },
    {
      "cell_type": "markdown",
      "metadata": {
        "id": "4MXBsFb3Xi44"
      },
      "source": [
        "### Adding Smote data and Splitting data into Train,Val and Test sets\n"
      ]
    },
    {
      "cell_type": "code",
      "execution_count": null,
      "metadata": {
        "id": "ya3PWQj_XnGt"
      },
      "outputs": [],
      "source": [
        "# we will use SMOTE-NC to artificially generate data points to fix the imbalance noticed earlier\n",
        "# this will only be applied to only the training data\n",
        "# we will also stratify our y labels because we do have a imbalance\n",
        "\n",
        "train_ratio = 0.75\n",
        "validation_ratio = 0.15\n",
        "test_ratio = 0.10\n",
        "\n",
        "# train is now 75% of the entire data set\n",
        "# the _junk suffix means that we drop that variable completely\n",
        "X_train, X_test, y_train, y_test = train_test_split(df_standard, y, test_size=1 - train_ratio, stratify=y)\n",
        "\n",
        "# test is now 10% of the initial data set\n",
        "# validation is now 15% of the initial data set\n",
        "X_val, X_test, y_val, y_test = train_test_split(X_test, y_test,stratify=y_test, test_size=test_ratio/(test_ratio + validation_ratio)) "
      ]
    },
    {
      "cell_type": "code",
      "execution_count": null,
      "metadata": {
        "id": "bSUdGEMBHMTX"
      },
      "outputs": [],
      "source": [
        "smote_nc = SMOTENC(random_state=42, k_neighbors=2, categorical_features=[0])\n",
        "X_train_new, y_train_new = smote_nc.fit_resample(X_train,y_train)"
      ]
    },
    {
      "cell_type": "markdown",
      "metadata": {
        "id": "RttCOaeq7168"
      },
      "source": [
        "## Model Exploration"
      ]
    },
    {
      "cell_type": "markdown",
      "metadata": {
        "id": "28WraO8feQV5"
      },
      "source": [
        "We tested our data on multiple models. For each model we print the train data score, and the confusion matrix scores for the test data."
      ]
    },
    {
      "cell_type": "markdown",
      "metadata": {
        "id": "NMpMyuI_ebLd"
      },
      "source": [
        "For the case of fraud detection we will focus on the recall, since we want a high recall on true fraudulent transactions and non fraudelent transactions"
      ]
    },
    {
      "cell_type": "markdown",
      "metadata": {
        "id": "SMhyp8fQdpKM"
      },
      "source": [
        "### 1.Logistic Regression"
      ]
    },
    {
      "cell_type": "code",
      "execution_count": null,
      "metadata": {
        "colab": {
          "base_uri": "https://localhost:8080/"
        },
        "id": "sSdwTVSIX76S",
        "outputId": "7357e120-8bb6-48fb-f909-6a45d2801064"
      },
      "outputs": [
        {
          "name": "stdout",
          "output_type": "stream",
          "text": [
            "Accuracy on Train data:  0.8032166940040095\n"
          ]
        }
      ],
      "source": [
        "clf = LogisticRegression(random_state=0).fit(X_train_new, y_train_new)\n",
        "print(\"Accuracy on Train data: \",clf.score(X_train_new, y_train_new))"
      ]
    },
    {
      "cell_type": "code",
      "execution_count": null,
      "metadata": {
        "colab": {
          "base_uri": "https://localhost:8080/"
        },
        "id": "1tOfjGTJX8B9",
        "outputId": "f5477f58-c7b8-4ca5-cee3-393ad3b149f8"
      },
      "outputs": [
        {
          "name": "stdout",
          "output_type": "stream",
          "text": [
            "              precision    recall  f1-score   support\n",
            "\n",
            "           0       0.89      0.81      0.84      2195\n",
            "           1       0.67      0.79      0.72      1084\n",
            "\n",
            "    accuracy                           0.80      3279\n",
            "   macro avg       0.78      0.80      0.78      3279\n",
            "weighted avg       0.81      0.80      0.80      3279\n",
            "\n"
          ]
        }
      ],
      "source": [
        "pred = clf.predict(X_val)\n",
        "print(classification_report(y_val, pred))"
      ]
    },
    {
      "cell_type": "code",
      "execution_count": null,
      "metadata": {
        "colab": {
          "base_uri": "https://localhost:8080/"
        },
        "id": "-NevlpjEJHrg",
        "outputId": "1604416b-7822-49d7-d15a-6dc443440d17"
      },
      "outputs": [
        {
          "name": "stdout",
          "output_type": "stream",
          "text": [
            "              precision    recall  f1-score   support\n",
            "\n",
            "           0       0.88      0.81      0.84      1464\n",
            "           1       0.67      0.78      0.72       723\n",
            "\n",
            "    accuracy                           0.80      2187\n",
            "   macro avg       0.78      0.79      0.78      2187\n",
            "weighted avg       0.81      0.80      0.80      2187\n",
            "\n"
          ]
        }
      ],
      "source": [
        "pred = clf.predict(X_test)\n",
        "print(classification_report(y_test, pred))"
      ]
    },
    {
      "cell_type": "markdown",
      "metadata": {
        "id": "uLDLJhE4d7jd"
      },
      "source": [
        "### 2.KNN"
      ]
    },
    {
      "cell_type": "code",
      "execution_count": null,
      "metadata": {
        "colab": {
          "base_uri": "https://localhost:8080/"
        },
        "id": "Q6f0AYC9716_",
        "outputId": "7273a9bd-9f23-40c8-f723-60db4a858557"
      },
      "outputs": [
        {
          "name": "stdout",
          "output_type": "stream",
          "text": [
            "Accuracy on Train data:  0.9532987060324403\n"
          ]
        }
      ],
      "source": [
        "neigh = KNeighborsClassifier(n_neighbors=3)\n",
        "neigh.fit(X_train_new, y_train_new)\n",
        "print(\"Accuracy on Train data: \",neigh.score(X_train_new, y_train_new))"
      ]
    },
    {
      "cell_type": "code",
      "execution_count": null,
      "metadata": {
        "colab": {
          "base_uri": "https://localhost:8080/"
        },
        "id": "kAKrM3c5JSX5",
        "outputId": "447c2c4a-fb7c-4ac0-d40e-84c3d63f4377"
      },
      "outputs": [
        {
          "name": "stdout",
          "output_type": "stream",
          "text": [
            "              precision    recall  f1-score   support\n",
            "\n",
            "           0       0.93      0.88      0.90      2195\n",
            "           1       0.78      0.86      0.82      1084\n",
            "\n",
            "    accuracy                           0.87      3279\n",
            "   macro avg       0.85      0.87      0.86      3279\n",
            "weighted avg       0.88      0.87      0.88      3279\n",
            "\n"
          ]
        }
      ],
      "source": [
        "pred = neigh.predict(X_val)\n",
        "print(classification_report(y_val, pred))"
      ]
    },
    {
      "cell_type": "code",
      "execution_count": null,
      "metadata": {
        "colab": {
          "base_uri": "https://localhost:8080/"
        },
        "id": "mOq_d9FJeN9C",
        "outputId": "c8a1826f-08b3-4194-ee53-9de632b1edc9"
      },
      "outputs": [
        {
          "name": "stdout",
          "output_type": "stream",
          "text": [
            "              precision    recall  f1-score   support\n",
            "\n",
            "           0       0.93      0.90      0.91      1464\n",
            "           1       0.81      0.86      0.83       723\n",
            "\n",
            "    accuracy                           0.89      2187\n",
            "   macro avg       0.87      0.88      0.87      2187\n",
            "weighted avg       0.89      0.89      0.89      2187\n",
            "\n"
          ]
        }
      ],
      "source": [
        "pred = neigh.predict(X_test)\n",
        "print(classification_report(y_test, pred))"
      ]
    },
    {
      "cell_type": "markdown",
      "metadata": {
        "id": "VesH0MgaemGq"
      },
      "source": [
        "### 3.Naive Bayes"
      ]
    },
    {
      "cell_type": "code",
      "execution_count": null,
      "metadata": {
        "colab": {
          "base_uri": "https://localhost:8080/"
        },
        "id": "d1jSpvQQePto",
        "outputId": "fc6fdcb1-e51b-4990-9306-3e4239be42b4"
      },
      "outputs": [
        {
          "name": "stdout",
          "output_type": "stream",
          "text": [
            "Accuracy on Train data:  0.5744486969199927\n"
          ]
        }
      ],
      "source": [
        "gnb = GaussianNB()\n",
        "gnb.fit(X_train_new, y_train_new)\n",
        "print(\"Accuracy on Train data: \",gnb.score(X_train_new, y_train_new))"
      ]
    },
    {
      "cell_type": "code",
      "execution_count": null,
      "metadata": {
        "colab": {
          "base_uri": "https://localhost:8080/"
        },
        "id": "n55v7R9dJYlb",
        "outputId": "2ea80633-c585-489f-cfa8-31f91fd27cda"
      },
      "outputs": [
        {
          "name": "stdout",
          "output_type": "stream",
          "text": [
            "              precision    recall  f1-score   support\n",
            "\n",
            "           0       0.90      0.22      0.35      2195\n",
            "           1       0.38      0.95      0.54      1084\n",
            "\n",
            "    accuracy                           0.46      3279\n",
            "   macro avg       0.64      0.58      0.44      3279\n",
            "weighted avg       0.73      0.46      0.41      3279\n",
            "\n"
          ]
        }
      ],
      "source": [
        "pred = gnb.predict(X_val)\n",
        "print(classification_report(y_val, pred))"
      ]
    },
    {
      "cell_type": "code",
      "execution_count": null,
      "metadata": {
        "colab": {
          "base_uri": "https://localhost:8080/"
        },
        "id": "FzA-rV0ierb-",
        "outputId": "45d74819-d598-4a45-bc57-3e597415ba95"
      },
      "outputs": [
        {
          "name": "stdout",
          "output_type": "stream",
          "text": [
            "              precision    recall  f1-score   support\n",
            "\n",
            "           0       0.90      0.20      0.33      1464\n",
            "           1       0.37      0.95      0.53       723\n",
            "\n",
            "    accuracy                           0.45      2187\n",
            "   macro avg       0.63      0.58      0.43      2187\n",
            "weighted avg       0.72      0.45      0.40      2187\n",
            "\n"
          ]
        }
      ],
      "source": [
        "pred = gnb.predict(X_test)\n",
        "print(classification_report(y_test, pred))"
      ]
    },
    {
      "cell_type": "markdown",
      "metadata": {
        "id": "3IPxUEmje0T8"
      },
      "source": [
        "### 4.SVM"
      ]
    },
    {
      "cell_type": "code",
      "execution_count": null,
      "metadata": {
        "colab": {
          "base_uri": "https://localhost:8080/"
        },
        "id": "gOohGZ-Xeujn",
        "outputId": "c1031a06-8c25-4a89-e1f4-6bc872886e33"
      },
      "outputs": [
        {
          "name": "stdout",
          "output_type": "stream",
          "text": [
            "Accuracy on Train data:  0.8863677783852743\n"
          ]
        }
      ],
      "source": [
        "svm = make_pipeline(SVC(gamma='auto'))\n",
        "svm.fit(X_train_new, y_train_new)\n",
        "print(\"Accuracy on Train data: \",svm.score(X_train_new, y_train_new))"
      ]
    },
    {
      "cell_type": "code",
      "execution_count": null,
      "metadata": {
        "colab": {
          "base_uri": "https://localhost:8080/"
        },
        "id": "sp3Ko_4aJciv",
        "outputId": "17135d38-4b43-47a1-bd67-6f6f037b79a0"
      },
      "outputs": [
        {
          "name": "stdout",
          "output_type": "stream",
          "text": [
            "              precision    recall  f1-score   support\n",
            "\n",
            "           0       0.94      0.86      0.90      2195\n",
            "           1       0.76      0.90      0.82      1084\n",
            "\n",
            "    accuracy                           0.87      3279\n",
            "   macro avg       0.85      0.88      0.86      3279\n",
            "weighted avg       0.88      0.87      0.87      3279\n",
            "\n"
          ]
        }
      ],
      "source": [
        "pred = svm.predict(X_val)\n",
        "print(classification_report(y_val, pred))"
      ]
    },
    {
      "cell_type": "code",
      "execution_count": null,
      "metadata": {
        "colab": {
          "base_uri": "https://localhost:8080/"
        },
        "id": "PhhbWEBfe3Rv",
        "outputId": "c0ba28a8-9f21-4a1b-c07b-4aa055bd0a05"
      },
      "outputs": [
        {
          "name": "stdout",
          "output_type": "stream",
          "text": [
            "              precision    recall  f1-score   support\n",
            "\n",
            "           0       0.93      0.86      0.90      1464\n",
            "           1       0.76      0.88      0.82       723\n",
            "\n",
            "    accuracy                           0.87      2187\n",
            "   macro avg       0.85      0.87      0.86      2187\n",
            "weighted avg       0.88      0.87      0.87      2187\n",
            "\n"
          ]
        }
      ],
      "source": [
        "pred = svm.predict(X_test)\n",
        "print(classification_report(y_test, pred))"
      ]
    },
    {
      "cell_type": "markdown",
      "metadata": {
        "id": "uZYVZphDe_kl"
      },
      "source": [
        "### 5.Decision Tree"
      ]
    },
    {
      "cell_type": "code",
      "execution_count": null,
      "metadata": {
        "colab": {
          "base_uri": "https://localhost:8080/"
        },
        "id": "n9oPWUJbe-4y",
        "outputId": "4a0068f0-8bcc-4871-a2c3-7e6a839bd6a0"
      },
      "outputs": [
        {
          "name": "stdout",
          "output_type": "stream",
          "text": [
            "Accuracy on Train data:  0.998587570621469\n"
          ]
        }
      ],
      "source": [
        "dt = tree.DecisionTreeClassifier(random_state=0)\n",
        "dt.fit(X_train_new, y_train_new)\n",
        "print(\"Accuracy on Train data: \",dt.score(X_train_new, y_train_new))"
      ]
    },
    {
      "cell_type": "code",
      "execution_count": null,
      "metadata": {
        "colab": {
          "base_uri": "https://localhost:8080/"
        },
        "id": "8ZqO4ZF_JrJm",
        "outputId": "51002a6d-e75d-49ba-e6aa-680f3794e1f0"
      },
      "outputs": [
        {
          "name": "stdout",
          "output_type": "stream",
          "text": [
            "              precision    recall  f1-score   support\n",
            "\n",
            "           0       0.93      0.90      0.91      2195\n",
            "           1       0.81      0.86      0.83      1084\n",
            "\n",
            "    accuracy                           0.89      3279\n",
            "   macro avg       0.87      0.88      0.87      3279\n",
            "weighted avg       0.89      0.89      0.89      3279\n",
            "\n"
          ]
        }
      ],
      "source": [
        "pred = dt.predict(X_val)\n",
        "print(classification_report(y_val, pred))"
      ]
    },
    {
      "cell_type": "code",
      "execution_count": null,
      "metadata": {
        "colab": {
          "base_uri": "https://localhost:8080/"
        },
        "id": "_dp6Gf_5fE0s",
        "outputId": "d8e0a509-6f44-4e6d-8455-114c24a04a3d"
      },
      "outputs": [
        {
          "name": "stdout",
          "output_type": "stream",
          "text": [
            "              precision    recall  f1-score   support\n",
            "\n",
            "           0       0.92      0.90      0.91      1464\n",
            "           1       0.80      0.84      0.82       723\n",
            "\n",
            "    accuracy                           0.88      2187\n",
            "   macro avg       0.86      0.87      0.86      2187\n",
            "weighted avg       0.88      0.88      0.88      2187\n",
            "\n"
          ]
        }
      ],
      "source": [
        "pred = dt.predict(X_test)\n",
        "print(classification_report(y_test, pred))"
      ]
    },
    {
      "cell_type": "markdown",
      "metadata": {
        "id": "UWe-vyzxfJ6N"
      },
      "source": [
        "### 6.XGBoost"
      ]
    },
    {
      "cell_type": "code",
      "execution_count": null,
      "metadata": {
        "colab": {
          "base_uri": "https://localhost:8080/"
        },
        "id": "jMoYg-qwfH8v",
        "outputId": "6fecbbe4-9b9e-4253-99cb-77293d5d6753"
      },
      "outputs": [
        {
          "name": "stdout",
          "output_type": "stream",
          "text": [
            "Accuracy on Train data:  0.981957353745216\n"
          ]
        }
      ],
      "source": [
        "xgb_cl = xgb.XGBClassifier()\n",
        "\n",
        "xgb_cl.fit(X_train_new, y_train_new)\n",
        "print(\"Accuracy on Train data: \",xgb_cl.score(X_train_new, y_train_new))"
      ]
    },
    {
      "cell_type": "code",
      "execution_count": null,
      "metadata": {
        "colab": {
          "base_uri": "https://localhost:8080/"
        },
        "id": "QEcdX1rtJwWh",
        "outputId": "a3e05702-05cc-4c65-cfce-67a1f0dea57a"
      },
      "outputs": [
        {
          "name": "stdout",
          "output_type": "stream",
          "text": [
            "              precision    recall  f1-score   support\n",
            "\n",
            "           0       0.96      0.94      0.95      2195\n",
            "           1       0.88      0.91      0.89      1084\n",
            "\n",
            "    accuracy                           0.93      3279\n",
            "   macro avg       0.92      0.92      0.92      3279\n",
            "weighted avg       0.93      0.93      0.93      3279\n",
            "\n"
          ]
        }
      ],
      "source": [
        "pred = xgb_cl.predict(X_val)\n",
        "print(classification_report(y_val, pred))"
      ]
    },
    {
      "cell_type": "code",
      "execution_count": null,
      "metadata": {
        "colab": {
          "base_uri": "https://localhost:8080/"
        },
        "id": "k2ATUrqRfPj8",
        "outputId": "0187faa1-5c04-47e7-a21e-b2dd39b366bd"
      },
      "outputs": [
        {
          "name": "stdout",
          "output_type": "stream",
          "text": [
            "              precision    recall  f1-score   support\n",
            "\n",
            "           0       0.96      0.94      0.95      1464\n",
            "           1       0.89      0.91      0.90       723\n",
            "\n",
            "    accuracy                           0.93      2187\n",
            "   macro avg       0.92      0.93      0.93      2187\n",
            "weighted avg       0.93      0.93      0.93      2187\n",
            "\n"
          ]
        }
      ],
      "source": [
        "pred = xgb_cl.predict(X_test)\n",
        "print(classification_report(y_test, pred))"
      ]
    },
    {
      "cell_type": "markdown",
      "metadata": {
        "id": "qZZdinHyfTt-"
      },
      "source": [
        "### 7.Random Forest Tree"
      ]
    },
    {
      "cell_type": "code",
      "execution_count": null,
      "metadata": {
        "colab": {
          "base_uri": "https://localhost:8080/"
        },
        "id": "cPHAw3_xfRcs",
        "outputId": "7777cb58-4ba9-4e53-f45a-cd99221f142d"
      },
      "outputs": [
        {
          "name": "stdout",
          "output_type": "stream",
          "text": [
            "Accuracy on Train data:  0.998587570621469\n"
          ]
        }
      ],
      "source": [
        "rf = RandomForestClassifier(n_estimators = 100, random_state=0)\n",
        "rf.fit(X_train_new, y_train_new)\n",
        "print(\"Accuracy on Train data: \",rf.score(X_train_new, y_train_new))"
      ]
    },
    {
      "cell_type": "code",
      "execution_count": null,
      "metadata": {
        "colab": {
          "base_uri": "https://localhost:8080/"
        },
        "id": "N25zf1zEJ0NH",
        "outputId": "1b275cdf-ab72-4a03-8159-6ca0321f2ef5"
      },
      "outputs": [
        {
          "name": "stdout",
          "output_type": "stream",
          "text": [
            "              precision    recall  f1-score   support\n",
            "\n",
            "           0       0.94      0.94      0.94      2195\n",
            "           1       0.87      0.89      0.88      1084\n",
            "\n",
            "    accuracy                           0.92      3279\n",
            "   macro avg       0.91      0.91      0.91      3279\n",
            "weighted avg       0.92      0.92      0.92      3279\n",
            "\n"
          ]
        }
      ],
      "source": [
        "pred = rf.predict(X_val)\n",
        "print(classification_report(y_val, pred))"
      ]
    },
    {
      "cell_type": "code",
      "execution_count": null,
      "metadata": {
        "colab": {
          "base_uri": "https://localhost:8080/"
        },
        "id": "7x8tB2iZfZhG",
        "outputId": "db2be6d4-0912-4047-a7f2-a6f76017de03"
      },
      "outputs": [
        {
          "name": "stdout",
          "output_type": "stream",
          "text": [
            "              precision    recall  f1-score   support\n",
            "\n",
            "           0       0.94      0.94      0.94      1464\n",
            "           1       0.88      0.88      0.88       723\n",
            "\n",
            "    accuracy                           0.92      2187\n",
            "   macro avg       0.91      0.91      0.91      2187\n",
            "weighted avg       0.92      0.92      0.92      2187\n",
            "\n"
          ]
        }
      ],
      "source": [
        "pred = rf.predict(X_test)\n",
        "print(classification_report(y_test, pred))"
      ]
    },
    {
      "cell_type": "markdown",
      "metadata": {
        "id": "8MxgTkGRgKgY"
      },
      "source": [
        "## Final Model Building(Hyperparamter Tuning)"
      ]
    },
    {
      "cell_type": "markdown",
      "metadata": {
        "id": "HkAn03SIgQei"
      },
      "source": [
        "From the results above we saw that the XGBoost model gave us the highest f1 and recall, we will now do some paramter tuning and then make final conclusions which parameters should be used based on the results for future detection."
      ]
    },
    {
      "cell_type": "markdown",
      "metadata": {
        "id": "qFfSYOKpFeDQ"
      },
      "source": [
        "### XGBoost"
      ]
    },
    {
      "cell_type": "code",
      "execution_count": null,
      "metadata": {
        "id": "k4_7UBOIGw8g",
        "outputId": "d1fefa37-a17c-4281-aa73-c38e8f8ea2bd"
      },
      "outputs": [
        {
          "name": "stdout",
          "output_type": "stream",
          "text": [
            "Fitting 3 folds for each of 3200 candidates, totalling 9600 fits\n"
          ]
        },
        {
          "data": {
            "text/plain": [
              "{'colsample_bytree': 0.5,\n",
              " 'gamma': 0.2,\n",
              " 'learning_rate': 0.2,\n",
              " 'max_depth': 15,\n",
              " 'min_child_weight': 1,\n",
              " 'n_estimators': 100}"
            ]
          },
          "execution_count": 122,
          "metadata": {},
          "output_type": "execute_result"
        }
      ],
      "source": [
        "\n",
        "params={\n",
        "\"learning_rate\" : [0.05, 0.10, 0.20, 0.30 ] ,\n",
        "\"max_depth\" : [ 3, 5, 8, 10, 15],\n",
        "\"min_child_weight\" : [ 1, 3, 5, 7 ],\n",
        "\"gamma\" : [ 0.0, 0.1, 0.2 , 0.3, 0.4 ],\n",
        "\"colsample_bytree\" : [ 0.3, 0.4, 0.5 , 0.7 ]\n",
        "}\n",
        "classifier = XGBClassifier()\n",
        "grid_search= GridSearchCV(estimator = classifier,param_grid=params,scoring='f1',n_jobs=-1,cv=3, verbose=1)\n",
        "grid_search.fit(X_train_new,y_train_new.ravel())\n",
        "grid_search.best_params_"
      ]
    },
    {
      "cell_type": "code",
      "execution_count": null,
      "metadata": {
        "id": "pDYsQt3qGw8g",
        "outputId": "fde84235-0fa7-489f-ab05-46024d423e1f"
      },
      "outputs": [
        {
          "data": {
            "text/plain": [
              "0.9475196230056412"
            ]
          },
          "execution_count": 123,
          "metadata": {},
          "output_type": "execute_result"
        }
      ],
      "source": [
        "accuracy = grid_search.best_score_\n",
        "accuracy"
      ]
    },
    {
      "cell_type": "code",
      "execution_count": null,
      "metadata": {
        "id": "q1RonGvyGw8g"
      },
      "outputs": [],
      "source": [
        "classifier2 = XGBClassifier(base_score=0.5, booster='gbtree', colsample_bylevel=1,\n",
        "              colsample_bynode=1, colsample_bytree=0.5, gamma=0.2, gpu_id=-1,\n",
        "              importance_type='gain', interaction_constraints='',\n",
        "              learning_rate=0.2, max_delta_step=0, max_depth=15,\n",
        "              min_child_weight=1, missing=1, monotone_constraints='()',\n",
        "              n_estimators=100, n_jobs=0, num_parallel_tree=1, random_state=0,\n",
        "              reg_alpha=0, reg_lambda=1, scale_pos_weight=1, subsample=1,\n",
        "              tree_method='exact', validate_parameters=1, verbosity=None)\n",
        "classifier2.fit(X_train_new,y_train_new)\n",
        "pred_xgbf = classifier2.predict(X_val)"
      ]
    },
    {
      "cell_type": "markdown",
      "metadata": {
        "id": "7L7VwmJ5Gw8g"
      },
      "source": [
        "Validation Set"
      ]
    },
    {
      "cell_type": "code",
      "execution_count": null,
      "metadata": {
        "id": "RfTI9zTcGw8g",
        "outputId": "8c2380ac-dde7-4669-db7e-b99926006bb2"
      },
      "outputs": [
        {
          "name": "stdout",
          "output_type": "stream",
          "text": [
            "Checking different metrics for decision tree model after tuning the hyperparameters:\n",
            "\n",
            "Training accuracy:  0.9365660262275084\n",
            "Testing accuracy:  0.9365660262275084\n",
            "Confusion Matrix: \n",
            " [[2079  116]\n",
            " [  92  992]]\n",
            "ROC AUC score:  0.931140885440745\n",
            "Classification Report: \n",
            "               precision    recall  f1-score   support\n",
            "\n",
            "           0       0.96      0.95      0.95      2195\n",
            "           1       0.90      0.92      0.91      1084\n",
            "\n",
            "    accuracy                           0.94      3279\n",
            "   macro avg       0.93      0.93      0.93      3279\n",
            "weighted avg       0.94      0.94      0.94      3279\n",
            "\n"
          ]
        }
      ],
      "source": [
        "#Checking different metrics for decision tree model after tuning the hyperparameters\n",
        "print('Checking different metrics for decision tree model after tuning the hyperparameters:\\n')\n",
        "print(\"Training accuracy: \",classifier2.score(X_val,y_val))\n",
        "acc_score = accuracy_score(y_val, pred_xgbf)\n",
        "print('Testing accuracy: ',acc_score)\n",
        "conf_mat = confusion_matrix(y_val, pred_xgbf)\n",
        "print('Confusion Matrix: \\n',conf_mat)\n",
        "roc_auc = roc_auc_score(y_val,pred_xgbf)\n",
        "print('ROC AUC score: ',roc_auc)\n",
        "class_rep2 = classification_report(y_val,pred_xgbf)\n",
        "print('Classification Report: \\n',class_rep2)"
      ]
    },
    {
      "cell_type": "markdown",
      "metadata": {
        "id": "tx2PZkZcGw8h"
      },
      "source": [
        "Test Set"
      ]
    },
    {
      "cell_type": "code",
      "execution_count": null,
      "metadata": {
        "id": "nItHp8HiFeDQ",
        "outputId": "da975fec-433f-4733-a3a8-6ad9c5426b7f"
      },
      "outputs": [
        {
          "name": "stdout",
          "output_type": "stream",
          "text": [
            "Checking different metrics for decision tree model after tuning the hyperparameters:\n",
            "\n",
            "Training accuracy:  0.9350708733424783\n",
            "Testing accuracy:  0.9350708733424783\n",
            "Confusion Matrix: \n",
            " [[1387   77]\n",
            " [  65  658]]\n",
            "ROC AUC score:  0.9287505951976055\n",
            "Classification Report: \n",
            "               precision    recall  f1-score   support\n",
            "\n",
            "           0       0.96      0.95      0.95      1464\n",
            "           1       0.90      0.91      0.90       723\n",
            "\n",
            "    accuracy                           0.94      2187\n",
            "   macro avg       0.93      0.93      0.93      2187\n",
            "weighted avg       0.94      0.94      0.94      2187\n",
            "\n"
          ]
        }
      ],
      "source": [
        "pred_xgbf = classifier2.predict(X_test)\n",
        "\n",
        "#Checking different metrics for decision tree model after tuning the hyperparameters\n",
        "print('Checking different metrics for decision tree model after tuning the hyperparameters:\\n')\n",
        "print(\"Training accuracy: \",classifier2.score(X_test,y_test))\n",
        "acc_score = accuracy_score(y_test, pred_xgbf)\n",
        "print('Testing accuracy: ',acc_score)\n",
        "conf_mat = confusion_matrix(y_test, pred_xgbf)\n",
        "print('Confusion Matrix: \\n',conf_mat)\n",
        "roc_auc = roc_auc_score(y_test,pred_xgbf)\n",
        "print('ROC AUC score: ',roc_auc)\n",
        "class_rep2 = classification_report(y_test,pred_xgbf)\n",
        "print('Classification Report: \\n',class_rep2)"
      ]
    },
    {
      "cell_type": "markdown",
      "metadata": {
        "id": "EB4G-6BnGw8h"
      },
      "source": [
        "## Feature Importance and Selection"
      ]
    },
    {
      "cell_type": "markdown",
      "metadata": {
        "id": "3-1DLUfvGw8h"
      },
      "source": [
        "### Feature Importance"
      ]
    },
    {
      "cell_type": "code",
      "execution_count": null,
      "metadata": {
        "id": "HAhI_ShLGw8h",
        "outputId": "d84a98b3-7d16-42a7-8b98-55aee7da4f06"
      },
      "outputs": [
        {
          "data": {
            "image/png": "[encoded data removed]",
            "text/plain": [
              "<Figure size 1296x720 with 1 Axes>"
            ]
          },
          "metadata": {
            "needs_background": "light"
          },
          "output_type": "display_data"
        }
      ],
      "source": [
        "fig, ax = plt.subplots(figsize=(18,10))\n",
        "xgb.plot_importance(classifier2, max_num_features=50, height=0.5, ax=ax,importance_type='gain')\n",
        "plt.show()"
      ]
    },
    {
      "cell_type": "markdown",
      "metadata": {
        "id": "mrV0LVyYGw8h"
      },
      "source": [
        "There are three methods to measure feature_importances in xgboost.They are :\n",
        "\n",
        "weight : The total number of times this feature was used to split the data across all trees.\n",
        "Cover :The number of times a feature is used to split the data across all trees weighted by the number of training data points that go through those splits.\n",
        "Gain : The average loss reduction gained when using this feature for splitting in trees.\n",
        "We used Gain in the above example and the model says when it used sentTransactions, the loss on average was reduced by 8.6%."
      ]
    },
    {
      "cell_type": "code",
      "execution_count": null,
      "metadata": {
        "id": "RI_2AP7iGw8h",
        "outputId": "dd7026e8-b7d5-4a06-e6be-b7fdf5daa3f8"
      },
      "outputs": [
        {
          "data": {
            "image/png": "[encoded data removed]",
            "text/plain": [
              "<Figure size 720x720 with 1 Axes>"
            ]
          },
          "metadata": {
            "needs_background": "light"
          },
          "output_type": "display_data"
        }
      ],
      "source": [
        "fig, ax = plt.subplots(figsize=(10,10))\n",
        "xgb.plot_importance(classifier2, max_num_features=50, height=0.5, ax=ax,importance_type='weight')\n",
        "plt.show()"
      ]
    },
    {
      "cell_type": "markdown",
      "metadata": {
        "id": "8bV9YPq2Gw8h"
      },
      "source": [
        "When we considered weight,the model says that is used totalEtherBalance 1706 times to split the data across the trees."
      ]
    },
    {
      "cell_type": "markdown",
      "metadata": {
        "id": "QvDQE2kYGw8h"
      },
      "source": [
        "### Feature Selection"
      ]
    },
    {
      "cell_type": "code",
      "execution_count": null,
      "metadata": {
        "id": "9bWJ6wc2Gw8i",
        "outputId": "1eb6f593-21fa-43ff-e8b8-957c50252249"
      },
      "outputs": [
        {
          "data": {
            "text/html": [
              "<style>#sk-container-id-2 {color: black;background-color: white;}#sk-container-id-2 pre{padding: 0;}#sk-container-id-2 div.sk-toggleable {background-color: white;}#sk-container-id-2 label.sk-toggleable__label {cursor: pointer;display: block;width: 100%;margin-bottom: 0;padding: 0.3em;box-sizing: border-box;text-align: center;}#sk-container-id-2 label.sk-toggleable__label-arrow:before {content: \"▸\";float: left;margin-right: 0.25em;color: #696969;}#sk-container-id-2 label.sk-toggleable__label-arrow:hover:before {color: black;}#sk-container-id-2 div.sk-estimator:hover label.sk-toggleable__label-arrow:before {color: black;}#sk-container-id-2 div.sk-toggleable__content {max-height: 0;max-width: 0;overflow: hidden;text-align: left;background-color: #f0f8ff;}#sk-container-id-2 div.sk-toggleable__content pre {margin: 0.2em;color: black;border-radius: 0.25em;background-color: #f0f8ff;}#sk-container-id-2 input.sk-toggleable__control:checked~div.sk-toggleable__content {max-height: 200px;max-width: 100%;overflow: auto;}#sk-container-id-2 input.sk-toggleable__control:checked~label.sk-toggleable__label-arrow:before {content: \"▾\";}#sk-container-id-2 div.sk-estimator input.sk-toggleable__control:checked~label.sk-toggleable__label {background-color: #d4ebff;}#sk-container-id-2 div.sk-label input.sk-toggleable__control:checked~label.sk-toggleable__label {background-color: #d4ebff;}#sk-container-id-2 input.sk-hidden--visually {border: 0;clip: rect(1px 1px 1px 1px);clip: rect(1px, 1px, 1px, 1px);height: 1px;margin: -1px;overflow: hidden;padding: 0;position: absolute;width: 1px;}#sk-container-id-2 div.sk-estimator {font-family: monospace;background-color: #f0f8ff;border: 1px dotted black;border-radius: 0.25em;box-sizing: border-box;margin-bottom: 0.5em;}#sk-container-id-2 div.sk-estimator:hover {background-color: #d4ebff;}#sk-container-id-2 div.sk-parallel-item::after {content: \"\";width: 100%;border-bottom: 1px solid gray;flex-grow: 1;}#sk-container-id-2 div.sk-label:hover label.sk-toggleable__label {background-color: #d4ebff;}#sk-container-id-2 div.sk-serial::before {content: \"\";position: absolute;border-left: 1px solid gray;box-sizing: border-box;top: 0;bottom: 0;left: 50%;z-index: 0;}#sk-container-id-2 div.sk-serial {display: flex;flex-direction: column;align-items: center;background-color: white;padding-right: 0.2em;padding-left: 0.2em;position: relative;}#sk-container-id-2 div.sk-item {position: relative;z-index: 1;}#sk-container-id-2 div.sk-parallel {display: flex;align-items: stretch;justify-content: center;background-color: white;position: relative;}#sk-container-id-2 div.sk-item::before, #sk-container-id-2 div.sk-parallel-item::before {content: \"\";position: absolute;border-left: 1px solid gray;box-sizing: border-box;top: 0;bottom: 0;left: 50%;z-index: -1;}#sk-container-id-2 div.sk-parallel-item {display: flex;flex-direction: column;z-index: 1;position: relative;background-color: white;}#sk-container-id-2 div.sk-parallel-item:first-child::after {align-self: flex-end;width: 50%;}#sk-container-id-2 div.sk-parallel-item:last-child::after {align-self: flex-start;width: 50%;}#sk-container-id-2 div.sk-parallel-item:only-child::after {width: 0;}#sk-container-id-2 div.sk-dashed-wrapped {border: 1px dashed gray;margin: 0 0.4em 0.5em 0.4em;box-sizing: border-box;padding-bottom: 0.4em;background-color: white;}#sk-container-id-2 div.sk-label label {font-family: monospace;font-weight: bold;display: inline-block;line-height: 1.2em;}#sk-container-id-2 div.sk-label-container {text-align: center;}#sk-container-id-2 div.sk-container {/* jupyter's `normalize.less` sets `[hidden] { display: none; }` but bootstrap.min.css set `[hidden] { display: none !important; }` so we also need the `!important` here to be able to override the default hidden behavior on the sphinx rendered scikit-learn.org. See: https://github.com/scikit-learn/scikit-learn/issues/21755 */display: inline-block !important;position: relative;}#sk-container-id-2 div.sk-text-repr-fallback {display: none;}</style><div id=\"sk-container-id-2\" class=\"sk-top-container\"><div class=\"sk-text-repr-fallback\"><pre>XGBClassifier(base_score=0.5, booster=&#x27;gbtree&#x27;, callbacks=None,\n",
              "              colsample_bylevel=1, colsample_bynode=1, colsample_bytree=0.5,\n",
              "              early_stopping_rounds=None, enable_categorical=False,\n",
              "              eval_metric=None, gamma=0.2, gpu_id=-1, grow_policy=&#x27;depthwise&#x27;,\n",
              "              importance_type=&#x27;gain&#x27;, interaction_constraints=&#x27;&#x27;,\n",
              "              learning_rate=0.2, max_bin=256, max_cat_to_onehot=4,\n",
              "              max_delta_step=0, max_depth=15, max_leaves=0, min_child_weight=1,\n",
              "              missing=1, monotone_constraints=&#x27;()&#x27;, n_estimators=100, n_jobs=0,\n",
              "              num_parallel_tree=1, predictor=&#x27;auto&#x27;, random_state=0,\n",
              "              reg_alpha=0, reg_lambda=1, ...)</pre><b>In a Jupyter environment, please rerun this cell to show the HTML representation or trust the notebook. <br />On GitHub, the HTML representation is unable to render, please try loading this page with nbviewer.org.</b></div><div class=\"sk-container\" hidden><div class=\"sk-item\"><div class=\"sk-estimator sk-toggleable\"><input class=\"sk-toggleable__control sk-hidden--visually\" id=\"sk-estimator-id-2\" type=\"checkbox\" checked><label for=\"sk-estimator-id-2\" class=\"sk-toggleable__label sk-toggleable__label-arrow\">XGBClassifier</label><div class=\"sk-toggleable__content\"><pre>XGBClassifier(base_score=0.5, booster=&#x27;gbtree&#x27;, callbacks=None,\n",
              "              colsample_bylevel=1, colsample_bynode=1, colsample_bytree=0.5,\n",
              "              early_stopping_rounds=None, enable_categorical=False,\n",
              "              eval_metric=None, gamma=0.2, gpu_id=-1, grow_policy=&#x27;depthwise&#x27;,\n",
              "              importance_type=&#x27;gain&#x27;, interaction_constraints=&#x27;&#x27;,\n",
              "              learning_rate=0.2, max_bin=256, max_cat_to_onehot=4,\n",
              "              max_delta_step=0, max_depth=15, max_leaves=0, min_child_weight=1,\n",
              "              missing=1, monotone_constraints=&#x27;()&#x27;, n_estimators=100, n_jobs=0,\n",
              "              num_parallel_tree=1, predictor=&#x27;auto&#x27;, random_state=0,\n",
              "              reg_alpha=0, reg_lambda=1, ...)</pre></div></div></div></div></div>"
            ],
            "text/plain": [
              "XGBClassifier(base_score=0.5, booster='gbtree', callbacks=None,\n",
              "              colsample_bylevel=1, colsample_bynode=1, colsample_bytree=0.5,\n",
              "              early_stopping_rounds=None, enable_categorical=False,\n",
              "              eval_metric=None, gamma=0.2, gpu_id=-1, grow_policy='depthwise',\n",
              "              importance_type='gain', interaction_constraints='',\n",
              "              learning_rate=0.2, max_bin=256, max_cat_to_onehot=4,\n",
              "              max_delta_step=0, max_depth=15, max_leaves=0, min_child_weight=1,\n",
              "              missing=1, monotone_constraints='()', n_estimators=100, n_jobs=0,\n",
              "              num_parallel_tree=1, predictor='auto', random_state=0,\n",
              "              reg_alpha=0, reg_lambda=1, ...)"
            ]
          },
          "execution_count": 169,
          "metadata": {},
          "output_type": "execute_result"
        }
      ],
      "source": [
        "model = XGBClassifier(base_score=0.5, booster='gbtree', colsample_bylevel=1,\n",
        "              colsample_bynode=1, colsample_bytree=0.5, gamma=0.2, gpu_id=-1,\n",
        "              importance_type='gain', interaction_constraints='',\n",
        "              learning_rate=0.2, max_delta_step=0, max_depth=15,\n",
        "              min_child_weight=1, missing=1, monotone_constraints='()',\n",
        "              n_estimators=100, n_jobs=0, num_parallel_tree=1, random_state=0,\n",
        "              reg_alpha=0, reg_lambda=1, scale_pos_weight=1, subsample=1,\n",
        "              tree_method='exact', validate_parameters=1, verbosity=None)\n",
        "model.fit(X_train_new,y_train_new)"
      ]
    },
    {
      "cell_type": "code",
      "execution_count": null,
      "metadata": {
        "id": "YFgcTEI5Gw8i",
        "outputId": "9554acf1-56d7-404c-98b9-28d19635d5d0"
      },
      "outputs": [
        {
          "name": "stdout",
          "output_type": "stream",
          "text": [
            "Thresh=0.000, n=18, Accuracy: 93.42%\n",
            "Thresh=0.032, n=17, Accuracy: 93.42%\n",
            "Thresh=0.034, n=16, Accuracy: 93.46%\n",
            "Thresh=0.035, n=15, Accuracy: 93.37%\n",
            "Thresh=0.035, n=14, Accuracy: 93.05%\n",
            "Thresh=0.035, n=13, Accuracy: 93.37%\n",
            "Thresh=0.036, n=12, Accuracy: 92.59%\n",
            "Thresh=0.045, n=11, Accuracy: 93.28%\n",
            "Thresh=0.047, n=10, Accuracy: 92.55%\n",
            "Thresh=0.051, n=9, Accuracy: 91.18%\n",
            "Thresh=0.052, n=8, Accuracy: 90.81%\n",
            "Thresh=0.058, n=7, Accuracy: 91.40%\n",
            "Thresh=0.059, n=6, Accuracy: 90.53%\n",
            "Thresh=0.069, n=5, Accuracy: 86.51%\n",
            "Thresh=0.087, n=4, Accuracy: 83.31%\n",
            "Thresh=0.095, n=3, Accuracy: 82.90%\n",
            "Thresh=0.112, n=2, Accuracy: 77.37%\n",
            "Thresh=0.118, n=1, Accuracy: 63.05%\n"
          ]
        }
      ],
      "source": [
        "\n",
        "\n",
        "thresholds = sort(model.feature_importances_)\n",
        "for thresh in thresholds:\n",
        "    # select features using threshold\n",
        "    selection = SelectFromModel(model, threshold=thresh, prefit=True)\n",
        "    select_X_train = selection.transform(X_train_new)\n",
        "    # train model\n",
        "    selection_model = XGBClassifier()\n",
        "    selection_model.fit(select_X_train, y_train_new)\n",
        "    # eval model\n",
        "    select_X_test = selection.transform(X_test)\n",
        "    y_pred = selection_model.predict(select_X_test)\n",
        "    predictions = [round(value) for value in y_pred]\n",
        "    accuracy = accuracy_score(y_test, predictions)\n",
        "    print(\"Thresh=%.3f, n=%d, Accuracy: %.2f%%\" % (thresh, select_X_train.shape[1], accuracy*100.0))"
      ]
    },
    {
      "cell_type": "markdown",
      "metadata": {
        "id": "VCoOGn2HGw8i"
      },
      "source": [
        "From the results above, if we want a balanced performance, accuracy tradeoff, we would go with only using n=11 with a treshold of 0.045 on the feature importances."
      ]
    },
    {
      "cell_type": "markdown",
      "metadata": {
        "id": "uK_HD_qXFeDR"
      },
      "source": [
        "For future work we suggest at looking to combine multiple models with each other, or even using a model for each subsets of the datasets(one model for demographics, another model for transactions etc.) Other complex models like anomoly detection neural networks can also be a godd recommendation."
      ]
    },
    {
      "cell_type": "code",
      "execution_count": null,
      "metadata": {
        "id": "jjFj-T8iGw8i"
      },
      "outputs": [],
      "source": []
    }
  ],
  "metadata": {
    "anaconda-cloud": {},
    "colab": {
      "collapsed_sections": [],
      "provenance": [],
      "toc_visible": true
    },
    "kernelspec": {
      "display_name": "Python 3 (ipykernel)",
      "language": "python",
      "name": "python3"
    },
    "language_info": {
      "codemirror_mode": {
        "name": "ipython",
        "version": 3
      },
      "file_extension": ".py",
      "mimetype": "text/x-python",
      "name": "python",
      "nbconvert_exporter": "python",
      "pygments_lexer": "ipython3",
      "version": "3.9.12"
    }
  },
  "nbformat": 4,
  "nbformat_minor": 0
}